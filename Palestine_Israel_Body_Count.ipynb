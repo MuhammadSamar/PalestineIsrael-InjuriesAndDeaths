{
 "cells": [
  {
   "cell_type": "markdown",
   "metadata": {},
   "source": [
    "# Exploratory Data Analysis (EDA) on Israel-Palestine Conflict (2000-2021)\n",
    "\n",
    "![EDA on Israel-Palestine Conflict](image.jpg)\n",
    "\n",
    "## Overview\n",
    "\n",
    "This notebook explores the **human cost of the Israel-Palestine conflict** between 2000 and 2021. Using the dataset sourced from [Kaggle](https://www.kaggle.com/datasets/zusmani/palestine-body-count), we perform an in-depth Exploratory Data Analysis (EDA) to uncover key trends, patterns, and insights related to fatalities and injuries on both sides.\n",
    "\n",
    "### Dataset Highlights\n",
    "- Covers data from **2000 to 2021**.\n",
    "- Includes injuries and fatalities for **Palestine** (111,475 injured, 10,000 killed) and **Israel** (5,160 injured, 1,275 killed).\n",
    "- Documents the **impact of the conflict**, providing a stark reminder of the human toll over two decades.\n",
    "\n",
    "### Key Objectives\n",
    "- Visualize trends in casualties and injuries over time.\n",
    "- Analyze the statistical value of life and **economic impact** (e.g., lost work hours due to fatalities and injuries).\n",
    "- Highlight disparities and patterns between the two sides of the conflict.\n",
    "\n",
    "## Motivation\n",
    "This project aims to use data science to foster a deeper understanding of the **humanitarian impact of the Israel-Palestine conflict**, promoting dialogue and awareness. The dataset serves as a resource for further analysis and actionable insights.\n",
    "\n",
    "## Source\n",
    "- Dataset: [Israel-Palestine Conflict Data (2000-2021)](https://www.kaggle.com/datasets/zusmani/palestine-body-count)\n",
    "\n",
    "---\n",
    "\n",
    "Let’s dive into the analysis to explore the **stories behind the data**."
   ]
  },
  {
   "cell_type": "code",
   "execution_count": 1,
   "metadata": {},
   "outputs": [],
   "source": [
    "import pandas as pd\n",
    "import numpy as np"
   ]
  },
  {
   "cell_type": "code",
   "execution_count": 2,
   "metadata": {},
   "outputs": [
    {
     "data": {
      "text/html": [
       "<div>\n",
       "<style scoped>\n",
       "    .dataframe tbody tr th:only-of-type {\n",
       "        vertical-align: middle;\n",
       "    }\n",
       "\n",
       "    .dataframe tbody tr th {\n",
       "        vertical-align: top;\n",
       "    }\n",
       "\n",
       "    .dataframe thead th {\n",
       "        text-align: right;\n",
       "    }\n",
       "</style>\n",
       "<table border=\"1\" class=\"dataframe\">\n",
       "  <thead>\n",
       "    <tr style=\"text-align: right;\">\n",
       "      <th></th>\n",
       "      <th>Year</th>\n",
       "      <th>Month</th>\n",
       "      <th>Palestinians Injuries</th>\n",
       "      <th>Israelis Injuries</th>\n",
       "      <th>Palestinians Killed</th>\n",
       "      <th>Israelis Killed</th>\n",
       "    </tr>\n",
       "  </thead>\n",
       "  <tbody>\n",
       "    <tr>\n",
       "      <th>0</th>\n",
       "      <td>2000.0</td>\n",
       "      <td>DECEMBER</td>\n",
       "      <td>781</td>\n",
       "      <td>NaN</td>\n",
       "      <td>51</td>\n",
       "      <td>8</td>\n",
       "    </tr>\n",
       "    <tr>\n",
       "      <th>1</th>\n",
       "      <td>2000.0</td>\n",
       "      <td>NOVEMBER</td>\n",
       "      <td>3838</td>\n",
       "      <td>NaN</td>\n",
       "      <td>112</td>\n",
       "      <td>22</td>\n",
       "    </tr>\n",
       "    <tr>\n",
       "      <th>2</th>\n",
       "      <td>2000.0</td>\n",
       "      <td>OCTOBER</td>\n",
       "      <td>5984</td>\n",
       "      <td>NaN</td>\n",
       "      <td>104</td>\n",
       "      <td>10</td>\n",
       "    </tr>\n",
       "    <tr>\n",
       "      <th>3</th>\n",
       "      <td>2000.0</td>\n",
       "      <td>SEPTEMBER</td>\n",
       "      <td>NaN</td>\n",
       "      <td>NaN</td>\n",
       "      <td>16</td>\n",
       "      <td>1</td>\n",
       "    </tr>\n",
       "    <tr>\n",
       "      <th>4</th>\n",
       "      <td>2001.0</td>\n",
       "      <td>DECEMBER</td>\n",
       "      <td>304</td>\n",
       "      <td>NaN</td>\n",
       "      <td>67</td>\n",
       "      <td>36</td>\n",
       "    </tr>\n",
       "  </tbody>\n",
       "</table>\n",
       "</div>"
      ],
      "text/plain": [
       "     Year      Month Palestinians Injuries Israelis Injuries  \\\n",
       "0  2000.0   DECEMBER                   781               NaN   \n",
       "1  2000.0   NOVEMBER                  3838               NaN   \n",
       "2  2000.0    OCTOBER                  5984               NaN   \n",
       "3  2000.0  SEPTEMBER                   NaN               NaN   \n",
       "4  2001.0   DECEMBER                   304               NaN   \n",
       "\n",
       "  Palestinians Killed Israelis Killed  \n",
       "0                  51               8  \n",
       "1                 112              22  \n",
       "2                 104              10  \n",
       "3                  16               1  \n",
       "4                  67              36  "
      ]
     },
     "execution_count": 2,
     "metadata": {},
     "output_type": "execute_result"
    }
   ],
   "source": [
    "# Load the data\n",
    "df = pd.read_csv(\"Palestine Body Count.csv\")\n",
    "df.head()"
   ]
  },
  {
   "cell_type": "markdown",
   "metadata": {},
   "source": [
    "- check data description"
   ]
  },
  {
   "cell_type": "code",
   "execution_count": 3,
   "metadata": {},
   "outputs": [
    {
     "name": "stdout",
     "output_type": "stream",
     "text": [
      "<class 'pandas.core.frame.DataFrame'>\n",
      "RangeIndex: 251 entries, 0 to 250\n",
      "Data columns (total 6 columns):\n",
      " #   Column                 Non-Null Count  Dtype  \n",
      "---  ------                 --------------  -----  \n",
      " 0   Year                   249 non-null    float64\n",
      " 1   Month                  249 non-null    object \n",
      " 2   Palestinians Injuries  196 non-null    object \n",
      " 3   Israelis Injuries      133 non-null    object \n",
      " 4   Palestinians Killed    250 non-null    object \n",
      " 5   Israelis Killed        250 non-null    object \n",
      "dtypes: float64(1), object(5)\n",
      "memory usage: 11.9+ KB\n"
     ]
    }
   ],
   "source": [
    "df.info()"
   ]
  },
  {
   "cell_type": "markdown",
   "metadata": {},
   "source": [
    "#### Let's check each column one by one to see if there's any need of **Data Cleaning**, then we'll proceed towards visualization."
   ]
  },
  {
   "cell_type": "markdown",
   "metadata": {},
   "source": [
    "- 1. Column (`Year`)"
   ]
  },
  {
   "cell_type": "code",
   "execution_count": 4,
   "metadata": {},
   "outputs": [
    {
     "data": {
      "text/plain": [
       "0      2000.0\n",
       "1      2000.0\n",
       "2      2000.0\n",
       "3      2000.0\n",
       "4      2001.0\n",
       "        ...  \n",
       "246    2021.0\n",
       "247    2021.0\n",
       "248    2021.0\n",
       "249       NaN\n",
       "250       NaN\n",
       "Name: Year, Length: 251, dtype: float64"
      ]
     },
     "execution_count": 4,
     "metadata": {},
     "output_type": "execute_result"
    }
   ],
   "source": [
    "df['Year']"
   ]
  },
  {
   "cell_type": "code",
   "execution_count": 5,
   "metadata": {},
   "outputs": [
    {
     "data": {
      "text/plain": [
       "2011.0    12\n",
       "2020.0    12\n",
       "2018.0    12\n",
       "2017.0    12\n",
       "2016.0    12\n",
       "2015.0    12\n",
       "2014.0    12\n",
       "2013.0    12\n",
       "2012.0    12\n",
       "2001.0    12\n",
       "2010.0    12\n",
       "2009.0    12\n",
       "2008.0    12\n",
       "2007.0    12\n",
       "2006.0    12\n",
       "2005.0    12\n",
       "2004.0    12\n",
       "2003.0    12\n",
       "2002.0    12\n",
       "2019.0    12\n",
       "2021.0     5\n",
       "2000.0     4\n",
       "Name: Year, dtype: int64"
      ]
     },
     "execution_count": 5,
     "metadata": {},
     "output_type": "execute_result"
    }
   ],
   "source": [
    "df['Year'].value_counts()"
   ]
  },
  {
   "cell_type": "markdown",
   "metadata": {},
   "source": [
    "- **Insight**: `Year 2000` has only data for 4 months, remaining Year's have data of all months."
   ]
  },
  {
   "cell_type": "markdown",
   "metadata": {},
   "source": [
    "- Year column is in _float64_, it is better to be in _int_"
   ]
  },
  {
   "cell_type": "code",
   "execution_count": 6,
   "metadata": {},
   "outputs": [
    {
     "data": {
      "text/html": [
       "<div>\n",
       "<style scoped>\n",
       "    .dataframe tbody tr th:only-of-type {\n",
       "        vertical-align: middle;\n",
       "    }\n",
       "\n",
       "    .dataframe tbody tr th {\n",
       "        vertical-align: top;\n",
       "    }\n",
       "\n",
       "    .dataframe thead th {\n",
       "        text-align: right;\n",
       "    }\n",
       "</style>\n",
       "<table border=\"1\" class=\"dataframe\">\n",
       "  <thead>\n",
       "    <tr style=\"text-align: right;\">\n",
       "      <th></th>\n",
       "      <th>Year</th>\n",
       "      <th>Month</th>\n",
       "      <th>Palestinians Injuries</th>\n",
       "      <th>Israelis Injuries</th>\n",
       "      <th>Palestinians Killed</th>\n",
       "      <th>Israelis Killed</th>\n",
       "    </tr>\n",
       "  </thead>\n",
       "  <tbody>\n",
       "    <tr>\n",
       "      <th>249</th>\n",
       "      <td>NaN</td>\n",
       "      <td>NaN</td>\n",
       "      <td>NaN</td>\n",
       "      <td>NaN</td>\n",
       "      <td>NaN</td>\n",
       "      <td>NaN</td>\n",
       "    </tr>\n",
       "    <tr>\n",
       "      <th>250</th>\n",
       "      <td>NaN</td>\n",
       "      <td>NaN</td>\n",
       "      <td>111,475</td>\n",
       "      <td>5,160</td>\n",
       "      <td>10,000</td>\n",
       "      <td>1,275</td>\n",
       "    </tr>\n",
       "  </tbody>\n",
       "</table>\n",
       "</div>"
      ],
      "text/plain": [
       "     Year Month Palestinians Injuries Israelis Injuries Palestinians Killed  \\\n",
       "249   NaN   NaN                   NaN               NaN                 NaN   \n",
       "250   NaN   NaN               111,475             5,160              10,000   \n",
       "\n",
       "    Israelis Killed  \n",
       "249             NaN  \n",
       "250           1,275  "
      ]
     },
     "execution_count": 6,
     "metadata": {},
     "output_type": "execute_result"
    }
   ],
   "source": [
    "# Let's first check missing rows in Year column\n",
    "df[df['Year'].isnull()]"
   ]
  },
  {
   "cell_type": "markdown",
   "metadata": {},
   "source": [
    "- we can see that rows:249 is completelty empty, so we can remove it."
   ]
  },
  {
   "cell_type": "code",
   "execution_count": 7,
   "metadata": {},
   "outputs": [],
   "source": [
    "df.drop(249, axis=0, inplace=True)"
   ]
  },
  {
   "cell_type": "code",
   "execution_count": 8,
   "metadata": {},
   "outputs": [
    {
     "data": {
      "text/html": [
       "<div>\n",
       "<style scoped>\n",
       "    .dataframe tbody tr th:only-of-type {\n",
       "        vertical-align: middle;\n",
       "    }\n",
       "\n",
       "    .dataframe tbody tr th {\n",
       "        vertical-align: top;\n",
       "    }\n",
       "\n",
       "    .dataframe thead th {\n",
       "        text-align: right;\n",
       "    }\n",
       "</style>\n",
       "<table border=\"1\" class=\"dataframe\">\n",
       "  <thead>\n",
       "    <tr style=\"text-align: right;\">\n",
       "      <th></th>\n",
       "      <th>Year</th>\n",
       "      <th>Month</th>\n",
       "      <th>Palestinians Injuries</th>\n",
       "      <th>Israelis Injuries</th>\n",
       "      <th>Palestinians Killed</th>\n",
       "      <th>Israelis Killed</th>\n",
       "    </tr>\n",
       "  </thead>\n",
       "  <tbody>\n",
       "    <tr>\n",
       "      <th>240</th>\n",
       "      <td>2020.0</td>\n",
       "      <td>APRIL</td>\n",
       "      <td>NaN</td>\n",
       "      <td>NaN</td>\n",
       "      <td>1</td>\n",
       "      <td>0</td>\n",
       "    </tr>\n",
       "    <tr>\n",
       "      <th>241</th>\n",
       "      <td>2020.0</td>\n",
       "      <td>MARCH</td>\n",
       "      <td>NaN</td>\n",
       "      <td>NaN</td>\n",
       "      <td>2</td>\n",
       "      <td>0</td>\n",
       "    </tr>\n",
       "    <tr>\n",
       "      <th>242</th>\n",
       "      <td>2020.0</td>\n",
       "      <td>FEBRUARY</td>\n",
       "      <td>NaN</td>\n",
       "      <td>NaN</td>\n",
       "      <td>9</td>\n",
       "      <td>0</td>\n",
       "    </tr>\n",
       "    <tr>\n",
       "      <th>243</th>\n",
       "      <td>2020.0</td>\n",
       "      <td>JANUARY</td>\n",
       "      <td>NaN</td>\n",
       "      <td>NaN</td>\n",
       "      <td>6</td>\n",
       "      <td>0</td>\n",
       "    </tr>\n",
       "    <tr>\n",
       "      <th>244</th>\n",
       "      <td>2021.0</td>\n",
       "      <td>JANUARY</td>\n",
       "      <td>NaN</td>\n",
       "      <td>NaN</td>\n",
       "      <td>4</td>\n",
       "      <td>0</td>\n",
       "    </tr>\n",
       "    <tr>\n",
       "      <th>245</th>\n",
       "      <td>2021.0</td>\n",
       "      <td>FEBRUARY</td>\n",
       "      <td>NaN</td>\n",
       "      <td>NaN</td>\n",
       "      <td>1</td>\n",
       "      <td>0</td>\n",
       "    </tr>\n",
       "    <tr>\n",
       "      <th>246</th>\n",
       "      <td>2021.0</td>\n",
       "      <td>MARCH</td>\n",
       "      <td>NaN</td>\n",
       "      <td>NaN</td>\n",
       "      <td>4</td>\n",
       "      <td>0</td>\n",
       "    </tr>\n",
       "    <tr>\n",
       "      <th>247</th>\n",
       "      <td>2021.0</td>\n",
       "      <td>APRIL</td>\n",
       "      <td>NaN</td>\n",
       "      <td>NaN</td>\n",
       "      <td>1</td>\n",
       "      <td>0</td>\n",
       "    </tr>\n",
       "    <tr>\n",
       "      <th>248</th>\n",
       "      <td>2021.0</td>\n",
       "      <td>MAY</td>\n",
       "      <td>NaN</td>\n",
       "      <td>NaN</td>\n",
       "      <td>26</td>\n",
       "      <td>3</td>\n",
       "    </tr>\n",
       "    <tr>\n",
       "      <th>250</th>\n",
       "      <td>NaN</td>\n",
       "      <td>NaN</td>\n",
       "      <td>111,475</td>\n",
       "      <td>5,160</td>\n",
       "      <td>10,000</td>\n",
       "      <td>1,275</td>\n",
       "    </tr>\n",
       "  </tbody>\n",
       "</table>\n",
       "</div>"
      ],
      "text/plain": [
       "       Year     Month Palestinians Injuries Israelis Injuries  \\\n",
       "240  2020.0     APRIL                   NaN               NaN   \n",
       "241  2020.0     MARCH                   NaN               NaN   \n",
       "242  2020.0  FEBRUARY                   NaN               NaN   \n",
       "243  2020.0   JANUARY                   NaN               NaN   \n",
       "244  2021.0   JANUARY                   NaN               NaN   \n",
       "245  2021.0  FEBRUARY                   NaN               NaN   \n",
       "246  2021.0     MARCH                   NaN               NaN   \n",
       "247  2021.0     APRIL                   NaN               NaN   \n",
       "248  2021.0       MAY                   NaN               NaN   \n",
       "250     NaN       NaN               111,475             5,160   \n",
       "\n",
       "    Palestinians Killed Israelis Killed  \n",
       "240                   1               0  \n",
       "241                   2               0  \n",
       "242                   9               0  \n",
       "243                   6               0  \n",
       "244                   4               0  \n",
       "245                   1               0  \n",
       "246                   4               0  \n",
       "247                   1               0  \n",
       "248                  26               3  \n",
       "250              10,000           1,275  "
      ]
     },
     "execution_count": 8,
     "metadata": {},
     "output_type": "execute_result"
    }
   ],
   "source": [
    "df.tail(10)"
   ]
  },
  {
   "cell_type": "markdown",
   "metadata": {},
   "source": [
    "- we can clealy see that data for row:250 will be:\n",
    "    - 250: 2021.0: JULY       (according to sequence and excluding the row:249)"
   ]
  },
  {
   "cell_type": "code",
   "execution_count": 9,
   "metadata": {},
   "outputs": [],
   "source": [
    "df.loc[250, ['Year', 'Month']] = [2021.0, 'JULY']"
   ]
  },
  {
   "cell_type": "code",
   "execution_count": 10,
   "metadata": {},
   "outputs": [
    {
     "data": {
      "text/html": [
       "<div>\n",
       "<style scoped>\n",
       "    .dataframe tbody tr th:only-of-type {\n",
       "        vertical-align: middle;\n",
       "    }\n",
       "\n",
       "    .dataframe tbody tr th {\n",
       "        vertical-align: top;\n",
       "    }\n",
       "\n",
       "    .dataframe thead th {\n",
       "        text-align: right;\n",
       "    }\n",
       "</style>\n",
       "<table border=\"1\" class=\"dataframe\">\n",
       "  <thead>\n",
       "    <tr style=\"text-align: right;\">\n",
       "      <th></th>\n",
       "      <th>Year</th>\n",
       "      <th>Month</th>\n",
       "      <th>Palestinians Injuries</th>\n",
       "      <th>Israelis Injuries</th>\n",
       "      <th>Palestinians Killed</th>\n",
       "      <th>Israelis Killed</th>\n",
       "    </tr>\n",
       "  </thead>\n",
       "  <tbody>\n",
       "    <tr>\n",
       "      <th>245</th>\n",
       "      <td>2021.0</td>\n",
       "      <td>FEBRUARY</td>\n",
       "      <td>NaN</td>\n",
       "      <td>NaN</td>\n",
       "      <td>1</td>\n",
       "      <td>0</td>\n",
       "    </tr>\n",
       "    <tr>\n",
       "      <th>246</th>\n",
       "      <td>2021.0</td>\n",
       "      <td>MARCH</td>\n",
       "      <td>NaN</td>\n",
       "      <td>NaN</td>\n",
       "      <td>4</td>\n",
       "      <td>0</td>\n",
       "    </tr>\n",
       "    <tr>\n",
       "      <th>247</th>\n",
       "      <td>2021.0</td>\n",
       "      <td>APRIL</td>\n",
       "      <td>NaN</td>\n",
       "      <td>NaN</td>\n",
       "      <td>1</td>\n",
       "      <td>0</td>\n",
       "    </tr>\n",
       "    <tr>\n",
       "      <th>248</th>\n",
       "      <td>2021.0</td>\n",
       "      <td>MAY</td>\n",
       "      <td>NaN</td>\n",
       "      <td>NaN</td>\n",
       "      <td>26</td>\n",
       "      <td>3</td>\n",
       "    </tr>\n",
       "    <tr>\n",
       "      <th>250</th>\n",
       "      <td>2021.0</td>\n",
       "      <td>JULY</td>\n",
       "      <td>111,475</td>\n",
       "      <td>5,160</td>\n",
       "      <td>10,000</td>\n",
       "      <td>1,275</td>\n",
       "    </tr>\n",
       "  </tbody>\n",
       "</table>\n",
       "</div>"
      ],
      "text/plain": [
       "       Year     Month Palestinians Injuries Israelis Injuries  \\\n",
       "245  2021.0  FEBRUARY                   NaN               NaN   \n",
       "246  2021.0     MARCH                   NaN               NaN   \n",
       "247  2021.0     APRIL                   NaN               NaN   \n",
       "248  2021.0       MAY                   NaN               NaN   \n",
       "250  2021.0      JULY               111,475             5,160   \n",
       "\n",
       "    Palestinians Killed Israelis Killed  \n",
       "245                   1               0  \n",
       "246                   4               0  \n",
       "247                   1               0  \n",
       "248                  26               3  \n",
       "250              10,000           1,275  "
      ]
     },
     "execution_count": 10,
     "metadata": {},
     "output_type": "execute_result"
    }
   ],
   "source": [
    "df.tail(5)"
   ]
  },
  {
   "cell_type": "code",
   "execution_count": 11,
   "metadata": {},
   "outputs": [
    {
     "data": {
      "text/html": [
       "<div>\n",
       "<style scoped>\n",
       "    .dataframe tbody tr th:only-of-type {\n",
       "        vertical-align: middle;\n",
       "    }\n",
       "\n",
       "    .dataframe tbody tr th {\n",
       "        vertical-align: top;\n",
       "    }\n",
       "\n",
       "    .dataframe thead th {\n",
       "        text-align: right;\n",
       "    }\n",
       "</style>\n",
       "<table border=\"1\" class=\"dataframe\">\n",
       "  <thead>\n",
       "    <tr style=\"text-align: right;\">\n",
       "      <th></th>\n",
       "      <th>Year</th>\n",
       "      <th>Month</th>\n",
       "      <th>Palestinians Injuries</th>\n",
       "      <th>Israelis Injuries</th>\n",
       "      <th>Palestinians Killed</th>\n",
       "      <th>Israelis Killed</th>\n",
       "    </tr>\n",
       "  </thead>\n",
       "  <tbody>\n",
       "    <tr>\n",
       "      <th>245</th>\n",
       "      <td>2021.0</td>\n",
       "      <td>FEBRUARY</td>\n",
       "      <td>NaN</td>\n",
       "      <td>NaN</td>\n",
       "      <td>1</td>\n",
       "      <td>0</td>\n",
       "    </tr>\n",
       "    <tr>\n",
       "      <th>246</th>\n",
       "      <td>2021.0</td>\n",
       "      <td>MARCH</td>\n",
       "      <td>NaN</td>\n",
       "      <td>NaN</td>\n",
       "      <td>4</td>\n",
       "      <td>0</td>\n",
       "    </tr>\n",
       "    <tr>\n",
       "      <th>247</th>\n",
       "      <td>2021.0</td>\n",
       "      <td>APRIL</td>\n",
       "      <td>NaN</td>\n",
       "      <td>NaN</td>\n",
       "      <td>1</td>\n",
       "      <td>0</td>\n",
       "    </tr>\n",
       "    <tr>\n",
       "      <th>248</th>\n",
       "      <td>2021.0</td>\n",
       "      <td>MAY</td>\n",
       "      <td>NaN</td>\n",
       "      <td>NaN</td>\n",
       "      <td>26</td>\n",
       "      <td>3</td>\n",
       "    </tr>\n",
       "    <tr>\n",
       "      <th>250</th>\n",
       "      <td>2021.0</td>\n",
       "      <td>JULY</td>\n",
       "      <td>111,475</td>\n",
       "      <td>5,160</td>\n",
       "      <td>10,000</td>\n",
       "      <td>1,275</td>\n",
       "    </tr>\n",
       "  </tbody>\n",
       "</table>\n",
       "</div>"
      ],
      "text/plain": [
       "       Year     Month Palestinians Injuries Israelis Injuries  \\\n",
       "245  2021.0  FEBRUARY                   NaN               NaN   \n",
       "246  2021.0     MARCH                   NaN               NaN   \n",
       "247  2021.0     APRIL                   NaN               NaN   \n",
       "248  2021.0       MAY                   NaN               NaN   \n",
       "250  2021.0      JULY               111,475             5,160   \n",
       "\n",
       "    Palestinians Killed Israelis Killed  \n",
       "245                   1               0  \n",
       "246                   4               0  \n",
       "247                   1               0  \n",
       "248                  26               3  \n",
       "250              10,000           1,275  "
      ]
     },
     "execution_count": 11,
     "metadata": {},
     "output_type": "execute_result"
    }
   ],
   "source": [
    "df.loc[250, ['Year', 'Month']] = [2021.0, 'JULY']\n",
    "df.tail(5)"
   ]
  },
  {
   "cell_type": "code",
   "execution_count": 12,
   "metadata": {},
   "outputs": [],
   "source": [
    "# reseting the index\n",
    "df.reset_index(drop=True, inplace=True)"
   ]
  },
  {
   "cell_type": "code",
   "execution_count": 13,
   "metadata": {},
   "outputs": [
    {
     "data": {
      "text/html": [
       "<div>\n",
       "<style scoped>\n",
       "    .dataframe tbody tr th:only-of-type {\n",
       "        vertical-align: middle;\n",
       "    }\n",
       "\n",
       "    .dataframe tbody tr th {\n",
       "        vertical-align: top;\n",
       "    }\n",
       "\n",
       "    .dataframe thead th {\n",
       "        text-align: right;\n",
       "    }\n",
       "</style>\n",
       "<table border=\"1\" class=\"dataframe\">\n",
       "  <thead>\n",
       "    <tr style=\"text-align: right;\">\n",
       "      <th></th>\n",
       "      <th>Year</th>\n",
       "      <th>Month</th>\n",
       "      <th>Palestinians Injuries</th>\n",
       "      <th>Israelis Injuries</th>\n",
       "      <th>Palestinians Killed</th>\n",
       "      <th>Israelis Killed</th>\n",
       "    </tr>\n",
       "  </thead>\n",
       "  <tbody>\n",
       "    <tr>\n",
       "      <th>245</th>\n",
       "      <td>2021.0</td>\n",
       "      <td>FEBRUARY</td>\n",
       "      <td>NaN</td>\n",
       "      <td>NaN</td>\n",
       "      <td>1</td>\n",
       "      <td>0</td>\n",
       "    </tr>\n",
       "    <tr>\n",
       "      <th>246</th>\n",
       "      <td>2021.0</td>\n",
       "      <td>MARCH</td>\n",
       "      <td>NaN</td>\n",
       "      <td>NaN</td>\n",
       "      <td>4</td>\n",
       "      <td>0</td>\n",
       "    </tr>\n",
       "    <tr>\n",
       "      <th>247</th>\n",
       "      <td>2021.0</td>\n",
       "      <td>APRIL</td>\n",
       "      <td>NaN</td>\n",
       "      <td>NaN</td>\n",
       "      <td>1</td>\n",
       "      <td>0</td>\n",
       "    </tr>\n",
       "    <tr>\n",
       "      <th>248</th>\n",
       "      <td>2021.0</td>\n",
       "      <td>MAY</td>\n",
       "      <td>NaN</td>\n",
       "      <td>NaN</td>\n",
       "      <td>26</td>\n",
       "      <td>3</td>\n",
       "    </tr>\n",
       "    <tr>\n",
       "      <th>249</th>\n",
       "      <td>2021.0</td>\n",
       "      <td>JULY</td>\n",
       "      <td>111,475</td>\n",
       "      <td>5,160</td>\n",
       "      <td>10,000</td>\n",
       "      <td>1,275</td>\n",
       "    </tr>\n",
       "  </tbody>\n",
       "</table>\n",
       "</div>"
      ],
      "text/plain": [
       "       Year     Month Palestinians Injuries Israelis Injuries  \\\n",
       "245  2021.0  FEBRUARY                   NaN               NaN   \n",
       "246  2021.0     MARCH                   NaN               NaN   \n",
       "247  2021.0     APRIL                   NaN               NaN   \n",
       "248  2021.0       MAY                   NaN               NaN   \n",
       "249  2021.0      JULY               111,475             5,160   \n",
       "\n",
       "    Palestinians Killed Israelis Killed  \n",
       "245                   1               0  \n",
       "246                   4               0  \n",
       "247                   1               0  \n",
       "248                  26               3  \n",
       "249              10,000           1,275  "
      ]
     },
     "execution_count": 13,
     "metadata": {},
     "output_type": "execute_result"
    }
   ],
   "source": [
    "df.tail(5)"
   ]
  },
  {
   "cell_type": "code",
   "execution_count": 14,
   "metadata": {},
   "outputs": [
    {
     "data": {
      "text/plain": [
       "Year                       0\n",
       "Month                      0\n",
       "Palestinians Injuries     54\n",
       "Israelis Injuries        117\n",
       "Palestinians Killed        0\n",
       "Israelis Killed            0\n",
       "dtype: int64"
      ]
     },
     "execution_count": 14,
     "metadata": {},
     "output_type": "execute_result"
    }
   ],
   "source": [
    "# check for missing values\n",
    "df.isnull().sum()"
   ]
  },
  {
   "cell_type": "markdown",
   "metadata": {},
   "source": [
    "-----"
   ]
  },
  {
   "cell_type": "markdown",
   "metadata": {},
   "source": [
    "Now we have to deal with `Palestinians Injuries` and `Israelis Injuries` columns\\\t"
   ]
  },
  {
   "cell_type": "markdown",
   "metadata": {},
   "source": [
    "- Let's first check the datatype and anomalies in both columns"
   ]
  },
  {
   "cell_type": "code",
   "execution_count": 15,
   "metadata": {},
   "outputs": [
    {
     "data": {
      "text/plain": [
       "Year                     float64\n",
       "Month                     object\n",
       "Palestinians Injuries     object\n",
       "Israelis Injuries         object\n",
       "Palestinians Killed       object\n",
       "Israelis Killed           object\n",
       "dtype: object"
      ]
     },
     "execution_count": 15,
     "metadata": {},
     "output_type": "execute_result"
    }
   ],
   "source": [
    "df.dtypes"
   ]
  },
  {
   "cell_type": "code",
   "execution_count": 16,
   "metadata": {},
   "outputs": [
    {
     "data": {
      "text/plain": [
       "array(['781', '3838', '5984', nan, '304', '160', '407', '657', '502',\n",
       "       '394', '319', '932', '715', '927', '598', '471', '185', '264',\n",
       "       '388', '353', '186', '374', '299', '181', '523', '870', '429',\n",
       "       '330', '322', '106', '289', '226', '191', '34', '367', '239',\n",
       "       '303', '379', '244', '292', '161', '98', '343', '579', '287',\n",
       "       '251', '377', '545', '346', '417', '437', '168', '166', '99', '81',\n",
       "       '90', '130', '165', '116', '183', '68', '42', '164', '73', '491',\n",
       "       '180', '196', '266', '799', '198', '257', '254', '203', '194',\n",
       "       '88', '13720', '127', '152', '135', '154', '67', '162', '281',\n",
       "       '115', '153', '256', '104', '195', '30', '80', '36', '26', '89',\n",
       "       '82', '136', '87', '65', '5557', '105', '147', '148', '46', '85',\n",
       "       '118', '119', '402', '92', '86', '210', '63', '110', '149', '156',\n",
       "       '159', '397', '193', '204', '143', '2252', '169', '202', '231',\n",
       "       '703', '404', '60', '320', '137', '138', '124', '656', '493',\n",
       "       '766', '263', '350', '984', '291', '209', '13735', '(incl. Aug)',\n",
       "       '326', '265', '302', '228', '216', '219', '2222', '3888', '7555',\n",
       "       '413', '141', '78', '284', '223', '176', '167', '134', '97', '261',\n",
       "       '434', '286', '348', '514', '582', '4580', '120', '1772', '790',\n",
       "       '(incl. Jun)', '150', '189', '44', '111,475'], dtype=object)"
      ]
     },
     "execution_count": 16,
     "metadata": {},
     "output_type": "execute_result"
    }
   ],
   "source": [
    "df['Palestinians Injuries'].unique()"
   ]
  },
  {
   "cell_type": "code",
   "execution_count": 17,
   "metadata": {},
   "outputs": [
    {
     "data": {
      "text/html": [
       "<div>\n",
       "<style scoped>\n",
       "    .dataframe tbody tr th:only-of-type {\n",
       "        vertical-align: middle;\n",
       "    }\n",
       "\n",
       "    .dataframe tbody tr th {\n",
       "        vertical-align: top;\n",
       "    }\n",
       "\n",
       "    .dataframe thead th {\n",
       "        text-align: right;\n",
       "    }\n",
       "</style>\n",
       "<table border=\"1\" class=\"dataframe\">\n",
       "  <thead>\n",
       "    <tr style=\"text-align: right;\">\n",
       "      <th></th>\n",
       "      <th>Year</th>\n",
       "      <th>Month</th>\n",
       "      <th>Palestinians Injuries</th>\n",
       "      <th>Israelis Injuries</th>\n",
       "      <th>Palestinians Killed</th>\n",
       "      <th>Israelis Killed</th>\n",
       "    </tr>\n",
       "  </thead>\n",
       "  <tbody>\n",
       "    <tr>\n",
       "      <th>165</th>\n",
       "      <td>2014.0</td>\n",
       "      <td>JULY</td>\n",
       "      <td>(incl. Aug)</td>\n",
       "      <td>(incl. Aug)</td>\n",
       "      <td>1590</td>\n",
       "      <td>59</td>\n",
       "    </tr>\n",
       "    <tr>\n",
       "      <th>203</th>\n",
       "      <td>2017.0</td>\n",
       "      <td>MAY &amp; JUNE</td>\n",
       "      <td>(incl. Jun)</td>\n",
       "      <td>(incl. Jun)</td>\n",
       "      <td>6</td>\n",
       "      <td>0</td>\n",
       "    </tr>\n",
       "    <tr>\n",
       "      <th>249</th>\n",
       "      <td>2021.0</td>\n",
       "      <td>JULY</td>\n",
       "      <td>111,475</td>\n",
       "      <td>5,160</td>\n",
       "      <td>10,000</td>\n",
       "      <td>1,275</td>\n",
       "    </tr>\n",
       "  </tbody>\n",
       "</table>\n",
       "</div>"
      ],
      "text/plain": [
       "       Year       Month Palestinians Injuries Israelis Injuries  \\\n",
       "165  2014.0        JULY           (incl. Aug)       (incl. Aug)   \n",
       "203  2017.0  MAY & JUNE           (incl. Jun)       (incl. Jun)   \n",
       "249  2021.0        JULY               111,475             5,160   \n",
       "\n",
       "    Palestinians Killed Israelis Killed  \n",
       "165                1590              59  \n",
       "203                   6               0  \n",
       "249              10,000           1,275  "
      ]
     },
     "execution_count": 17,
     "metadata": {},
     "output_type": "execute_result"
    }
   ],
   "source": [
    "# accessing ambiguous rows\n",
    "df[~df['Palestinians Injuries'].apply(lambda x: str(x).replace('.', '', 1).isdigit()) & df['Palestinians Injuries'].notnull()]"
   ]
  },
  {
   "cell_type": "markdown",
   "metadata": {},
   "source": [
    "- There are 3 such rows:\n",
    "  - Let's first remove `,` from row:249 "
   ]
  },
  {
   "cell_type": "code",
   "execution_count": 18,
   "metadata": {},
   "outputs": [],
   "source": [
    "df.loc[249] = df.loc[249].replace(',', '', regex=True)"
   ]
  },
  {
   "cell_type": "markdown",
   "metadata": {},
   "source": [
    "- to deal with rows:165, 203    we should analyze them separately in order to replace and fill correct data."
   ]
  },
  {
   "cell_type": "markdown",
   "metadata": {},
   "source": [
    "- dealing row:165"
   ]
  },
  {
   "cell_type": "code",
   "execution_count": 19,
   "metadata": {},
   "outputs": [
    {
     "data": {
      "text/html": [
       "<div>\n",
       "<style scoped>\n",
       "    .dataframe tbody tr th:only-of-type {\n",
       "        vertical-align: middle;\n",
       "    }\n",
       "\n",
       "    .dataframe tbody tr th {\n",
       "        vertical-align: top;\n",
       "    }\n",
       "\n",
       "    .dataframe thead th {\n",
       "        text-align: right;\n",
       "    }\n",
       "</style>\n",
       "<table border=\"1\" class=\"dataframe\">\n",
       "  <thead>\n",
       "    <tr style=\"text-align: right;\">\n",
       "      <th></th>\n",
       "      <th>Year</th>\n",
       "      <th>Month</th>\n",
       "      <th>Palestinians Injuries</th>\n",
       "      <th>Israelis Injuries</th>\n",
       "      <th>Palestinians Killed</th>\n",
       "      <th>Israelis Killed</th>\n",
       "    </tr>\n",
       "  </thead>\n",
       "  <tbody>\n",
       "    <tr>\n",
       "      <th>163</th>\n",
       "      <td>2014.0</td>\n",
       "      <td>SEPTEMBER</td>\n",
       "      <td>209</td>\n",
       "      <td>22</td>\n",
       "      <td>20</td>\n",
       "      <td>0</td>\n",
       "    </tr>\n",
       "    <tr>\n",
       "      <th>164</th>\n",
       "      <td>2014.0</td>\n",
       "      <td>AUGUST</td>\n",
       "      <td>13735</td>\n",
       "      <td>2347</td>\n",
       "      <td>614</td>\n",
       "      <td>9</td>\n",
       "    </tr>\n",
       "    <tr>\n",
       "      <th>165</th>\n",
       "      <td>2014.0</td>\n",
       "      <td>JULY</td>\n",
       "      <td>(incl. Aug)</td>\n",
       "      <td>(incl. Aug)</td>\n",
       "      <td>1590</td>\n",
       "      <td>59</td>\n",
       "    </tr>\n",
       "    <tr>\n",
       "      <th>166</th>\n",
       "      <td>2014.0</td>\n",
       "      <td>JUNE</td>\n",
       "      <td>326</td>\n",
       "      <td>5</td>\n",
       "      <td>10</td>\n",
       "      <td>3</td>\n",
       "    </tr>\n",
       "    <tr>\n",
       "      <th>167</th>\n",
       "      <td>2014.0</td>\n",
       "      <td>MAY</td>\n",
       "      <td>265</td>\n",
       "      <td>28</td>\n",
       "      <td>3</td>\n",
       "      <td>1</td>\n",
       "    </tr>\n",
       "  </tbody>\n",
       "</table>\n",
       "</div>"
      ],
      "text/plain": [
       "       Year      Month Palestinians Injuries Israelis Injuries  \\\n",
       "163  2014.0  SEPTEMBER                   209                22   \n",
       "164  2014.0     AUGUST                 13735              2347   \n",
       "165  2014.0       JULY           (incl. Aug)       (incl. Aug)   \n",
       "166  2014.0       JUNE                   326                 5   \n",
       "167  2014.0        MAY                   265                28   \n",
       "\n",
       "    Palestinians Killed Israelis Killed  \n",
       "163                  20               0  \n",
       "164                 614               9  \n",
       "165                1590              59  \n",
       "166                  10               3  \n",
       "167                   3               1  "
      ]
     },
     "execution_count": 19,
     "metadata": {},
     "output_type": "execute_result"
    }
   ],
   "source": [
    "df.loc[163:167]"
   ]
  },
  {
   "cell_type": "code",
   "execution_count": 20,
   "metadata": {},
   "outputs": [
    {
     "data": {
      "text/html": [
       "<div>\n",
       "<style scoped>\n",
       "    .dataframe tbody tr th:only-of-type {\n",
       "        vertical-align: middle;\n",
       "    }\n",
       "\n",
       "    .dataframe tbody tr th {\n",
       "        vertical-align: top;\n",
       "    }\n",
       "\n",
       "    .dataframe thead th {\n",
       "        text-align: right;\n",
       "    }\n",
       "</style>\n",
       "<table border=\"1\" class=\"dataframe\">\n",
       "  <thead>\n",
       "    <tr style=\"text-align: right;\">\n",
       "      <th></th>\n",
       "      <th>Year</th>\n",
       "      <th>Month</th>\n",
       "      <th>Palestinians Injuries</th>\n",
       "      <th>Israelis Injuries</th>\n",
       "      <th>Palestinians Killed</th>\n",
       "      <th>Israelis Killed</th>\n",
       "    </tr>\n",
       "  </thead>\n",
       "  <tbody>\n",
       "    <tr>\n",
       "      <th>200</th>\n",
       "      <td>2017.0</td>\n",
       "      <td>AUGUST</td>\n",
       "      <td>135</td>\n",
       "      <td>2</td>\n",
       "      <td>2</td>\n",
       "      <td>0</td>\n",
       "    </tr>\n",
       "    <tr>\n",
       "      <th>201</th>\n",
       "      <td>2017.0</td>\n",
       "      <td>JULY</td>\n",
       "      <td>1772</td>\n",
       "      <td>23</td>\n",
       "      <td>20</td>\n",
       "      <td>5</td>\n",
       "    </tr>\n",
       "    <tr>\n",
       "      <th>202</th>\n",
       "      <td>2017.0</td>\n",
       "      <td>JUNE</td>\n",
       "      <td>790</td>\n",
       "      <td>20</td>\n",
       "      <td>8</td>\n",
       "      <td>1</td>\n",
       "    </tr>\n",
       "    <tr>\n",
       "      <th>203</th>\n",
       "      <td>2017.0</td>\n",
       "      <td>MAY &amp; JUNE</td>\n",
       "      <td>(incl. Jun)</td>\n",
       "      <td>(incl. Jun)</td>\n",
       "      <td>6</td>\n",
       "      <td>0</td>\n",
       "    </tr>\n",
       "    <tr>\n",
       "      <th>204</th>\n",
       "      <td>2017.0</td>\n",
       "      <td>APRIL</td>\n",
       "      <td>150</td>\n",
       "      <td>12</td>\n",
       "      <td>5</td>\n",
       "      <td>1</td>\n",
       "    </tr>\n",
       "    <tr>\n",
       "      <th>205</th>\n",
       "      <td>2017.0</td>\n",
       "      <td>MARCH</td>\n",
       "      <td>189</td>\n",
       "      <td>19</td>\n",
       "      <td>7</td>\n",
       "      <td>0</td>\n",
       "    </tr>\n",
       "  </tbody>\n",
       "</table>\n",
       "</div>"
      ],
      "text/plain": [
       "       Year       Month Palestinians Injuries Israelis Injuries  \\\n",
       "200  2017.0      AUGUST                   135                 2   \n",
       "201  2017.0        JULY                  1772                23   \n",
       "202  2017.0        JUNE                   790                20   \n",
       "203  2017.0  MAY & JUNE           (incl. Jun)       (incl. Jun)   \n",
       "204  2017.0       APRIL                   150                12   \n",
       "205  2017.0       MARCH                   189                19   \n",
       "\n",
       "    Palestinians Killed Israelis Killed  \n",
       "200                   2               0  \n",
       "201                  20               5  \n",
       "202                   8               1  \n",
       "203                   6               0  \n",
       "204                   5               1  \n",
       "205                   7               0  "
      ]
     },
     "execution_count": 20,
     "metadata": {},
     "output_type": "execute_result"
    }
   ],
   "source": [
    "df.loc[200:205]"
   ]
  },
  {
   "cell_type": "markdown",
   "metadata": {},
   "source": [
    "- Both Rows:165, 203 have ambiguous data, and we don't see any linear patter in them\n",
    "- so it's preferable to empty them and later fill them."
   ]
  },
  {
   "cell_type": "code",
   "execution_count": 21,
   "metadata": {},
   "outputs": [],
   "source": [
    "df.loc[165, ['Palestinians Injuries', 'Israelis Injuries']] = None\n",
    "df.loc[203, ['Palestinians Injuries', 'Israelis Injuries']] = None"
   ]
  },
  {
   "cell_type": "markdown",
   "metadata": {},
   "source": [
    "- Now let's check again for any non-numeric data in both cols"
   ]
  },
  {
   "cell_type": "code",
   "execution_count": 22,
   "metadata": {},
   "outputs": [
    {
     "data": {
      "text/html": [
       "<div>\n",
       "<style scoped>\n",
       "    .dataframe tbody tr th:only-of-type {\n",
       "        vertical-align: middle;\n",
       "    }\n",
       "\n",
       "    .dataframe tbody tr th {\n",
       "        vertical-align: top;\n",
       "    }\n",
       "\n",
       "    .dataframe thead th {\n",
       "        text-align: right;\n",
       "    }\n",
       "</style>\n",
       "<table border=\"1\" class=\"dataframe\">\n",
       "  <thead>\n",
       "    <tr style=\"text-align: right;\">\n",
       "      <th></th>\n",
       "      <th>Year</th>\n",
       "      <th>Month</th>\n",
       "      <th>Palestinians Injuries</th>\n",
       "      <th>Israelis Injuries</th>\n",
       "      <th>Palestinians Killed</th>\n",
       "      <th>Israelis Killed</th>\n",
       "    </tr>\n",
       "  </thead>\n",
       "  <tbody>\n",
       "  </tbody>\n",
       "</table>\n",
       "</div>"
      ],
      "text/plain": [
       "Empty DataFrame\n",
       "Columns: [Year, Month, Palestinians Injuries, Israelis Injuries, Palestinians Killed, Israelis Killed]\n",
       "Index: []"
      ]
     },
     "execution_count": 22,
     "metadata": {},
     "output_type": "execute_result"
    }
   ],
   "source": [
    "df[~df['Palestinians Injuries'].apply(lambda x: str(x).replace('.', '', 1).isdigit()) & df['Palestinians Injuries'].notnull()]"
   ]
  },
  {
   "cell_type": "markdown",
   "metadata": {},
   "source": [
    "- WE are good to go now.....\n",
    "- -----"
   ]
  },
  {
   "cell_type": "code",
   "execution_count": 23,
   "metadata": {},
   "outputs": [
    {
     "data": {
      "text/plain": [
       "Year                       0\n",
       "Month                      0\n",
       "Palestinians Injuries     56\n",
       "Israelis Injuries        119\n",
       "Palestinians Killed        0\n",
       "Israelis Killed            0\n",
       "dtype: int64"
      ]
     },
     "execution_count": 23,
     "metadata": {},
     "output_type": "execute_result"
    }
   ],
   "source": [
    "df.isnull().sum()"
   ]
  },
  {
   "cell_type": "markdown",
   "metadata": {},
   "source": [
    "Now instead of filling with _traditional method_ of mean, median we'll use _advance_ approach i.e; **IterativeImputer**"
   ]
  },
  {
   "cell_type": "markdown",
   "metadata": {},
   "source": [
    "## What is IterativeImputer?\n",
    "\n",
    "**IterativeImputer** is a sophisticated method for imputing missing values in datasets. Unlike simple imputation methods such as mean or median imputation, **IterativeImputer** uses a machine learning model to predict the missing values. It works iteratively by treating each feature with missing values as a target, and other features as predictors. This method creates more accurate imputations by considering the relationships between features.\n",
    "\n",
    "In our case, we will use the **RandomForestRegressor** as the estimator, which is a powerful machine learning algorithm capable of learning complex relationships between features.\n",
    "\n",
    "---"
   ]
  },
  {
   "cell_type": "code",
   "execution_count": 24,
   "metadata": {},
   "outputs": [],
   "source": [
    "# Import Necessary Libraries\n",
    "from sklearn.experimental import enable_iterative_imputer\n",
    "from sklearn.impute import IterativeImputer\n",
    "from sklearn.ensemble import RandomForestRegressor"
   ]
  },
  {
   "cell_type": "markdown",
   "metadata": {},
   "source": [
    "Imputing Missing Values in Both Columns  `Palestinians Injuries` and `Israelis Injuries`"
   ]
  },
  {
   "cell_type": "markdown",
   "metadata": {},
   "source": [
    "- we will use the IterativeImputer with a RandomForestRegressor to impute missing values for both 'Palestinians Injuries' and 'Israelis Injuries'. We will treat the imputation as an iterative process, allowing the model to predict the missing values based on the other available features in the dataset.\n"
   ]
  },
  {
   "cell_type": "code",
   "execution_count": 25,
   "metadata": {},
   "outputs": [],
   "source": [
    "# Initializing IterativeImputer with RandomForestRegressor\n",
    "iterative_imputer = IterativeImputer(estimator=RandomForestRegressor(random_state=42), max_iter=10, random_state=42)"
   ]
  },
  {
   "cell_type": "code",
   "execution_count": 26,
   "metadata": {},
   "outputs": [],
   "source": [
    "# Imputing missing values for 'Palestinians Injuries' and 'Israelis Injuries'\n",
    "df[['Palestinians Injuries', 'Israelis Injuries']] = iterative_imputer.fit_transform(df[['Palestinians Injuries', 'Israelis Injuries']])"
   ]
  },
  {
   "cell_type": "code",
   "execution_count": 27,
   "metadata": {},
   "outputs": [
    {
     "data": {
      "text/plain": [
       "Palestinians Injuries    0\n",
       "Israelis Injuries        0\n",
       "dtype: int64"
      ]
     },
     "execution_count": 27,
     "metadata": {},
     "output_type": "execute_result"
    }
   ],
   "source": [
    "# Checking the missing values again to ensure they've been filled\n",
    "df[['Palestinians Injuries', 'Israelis Injuries']].isnull().sum()"
   ]
  },
  {
   "cell_type": "code",
   "execution_count": 28,
   "metadata": {},
   "outputs": [
    {
     "data": {
      "text/plain": [
       "Year                     0\n",
       "Month                    0\n",
       "Palestinians Injuries    0\n",
       "Israelis Injuries        0\n",
       "Palestinians Killed      0\n",
       "Israelis Killed          0\n",
       "dtype: int64"
      ]
     },
     "execution_count": 28,
     "metadata": {},
     "output_type": "execute_result"
    }
   ],
   "source": [
    "df.isnull().sum()"
   ]
  },
  {
   "cell_type": "code",
   "execution_count": 29,
   "metadata": {},
   "outputs": [
    {
     "name": "stdout",
     "output_type": "stream",
     "text": [
      "<class 'pandas.core.frame.DataFrame'>\n",
      "RangeIndex: 250 entries, 0 to 249\n",
      "Data columns (total 6 columns):\n",
      " #   Column                 Non-Null Count  Dtype  \n",
      "---  ------                 --------------  -----  \n",
      " 0   Year                   250 non-null    float64\n",
      " 1   Month                  250 non-null    object \n",
      " 2   Palestinians Injuries  250 non-null    float64\n",
      " 3   Israelis Injuries      250 non-null    float64\n",
      " 4   Palestinians Killed    250 non-null    object \n",
      " 5   Israelis Killed        250 non-null    object \n",
      "dtypes: float64(3), object(3)\n",
      "memory usage: 11.8+ KB\n"
     ]
    }
   ],
   "source": [
    "df.info()"
   ]
  },
  {
   "cell_type": "markdown",
   "metadata": {},
   "source": [
    "- Final Step: Conversion of datatypes....\n",
    "    - Year to int\n",
    "    - Palestinians Injuries to int \n",
    "    - Israelis Injuries  to int\n",
    "    - Palestinians Killed to int \n",
    "    - Israelis Killed  to int"
   ]
  },
  {
   "cell_type": "code",
   "execution_count": 30,
   "metadata": {},
   "outputs": [],
   "source": [
    "df['Year'] = df['Year'].astype(int)\n",
    "df['Palestinians Injuries'] = df['Palestinians Injuries'].astype(int)\n",
    "df['Israelis Injuries'] = df['Israelis Injuries'].astype(int)\n",
    "df['Palestinians Killed'] = df['Palestinians Killed'].astype(int)\n",
    "df['Israelis Killed'] = df['Israelis Killed'].astype(int)"
   ]
  },
  {
   "cell_type": "code",
   "execution_count": 31,
   "metadata": {},
   "outputs": [
    {
     "name": "stdout",
     "output_type": "stream",
     "text": [
      "<class 'pandas.core.frame.DataFrame'>\n",
      "RangeIndex: 250 entries, 0 to 249\n",
      "Data columns (total 6 columns):\n",
      " #   Column                 Non-Null Count  Dtype \n",
      "---  ------                 --------------  ----- \n",
      " 0   Year                   250 non-null    int32 \n",
      " 1   Month                  250 non-null    object\n",
      " 2   Palestinians Injuries  250 non-null    int32 \n",
      " 3   Israelis Injuries      250 non-null    int32 \n",
      " 4   Palestinians Killed    250 non-null    int32 \n",
      " 5   Israelis Killed        250 non-null    int32 \n",
      "dtypes: int32(5), object(1)\n",
      "memory usage: 7.0+ KB\n"
     ]
    }
   ],
   "source": [
    "df.info()"
   ]
  },
  {
   "cell_type": "markdown",
   "metadata": {},
   "source": [
    "## Data Cleaning Complete!\n",
    "\n",
    "Hooray! 🎉 We have successfully imputed the missing values in the **'Palestinians Injuries'** and **'Israelis Injuries'** columns using the **IterativeImputer** method with a **RandomForestRegressor** estimator. \n",
    "\n",
    "This advanced imputation technique ensures that the missing values are filled based on the relationships between other columns, giving us a much more accurate representation of the data compared to simple mean or median imputation."
   ]
  },
  {
   "cell_type": "markdown",
   "metadata": {},
   "source": [
    "----"
   ]
  },
  {
   "cell_type": "markdown",
   "metadata": {},
   "source": [
    "## Next Steps: Visualization 💹\n",
    "\n",
    "Now that we have successfully cleaned the data, it's time to move towards **visualizing**.\n",
    "\n",
    "Let's dive into the visualizations! 📊"
   ]
  },
  {
   "cell_type": "code",
   "execution_count": 32,
   "metadata": {},
   "outputs": [],
   "source": [
    "# importing Plotly interactive library for visualization\n",
    "import plotly.express as px"
   ]
  },
  {
   "cell_type": "code",
   "execution_count": 33,
   "metadata": {},
   "outputs": [
    {
     "data": {
      "text/html": [
       "<div>\n",
       "<style scoped>\n",
       "    .dataframe tbody tr th:only-of-type {\n",
       "        vertical-align: middle;\n",
       "    }\n",
       "\n",
       "    .dataframe tbody tr th {\n",
       "        vertical-align: top;\n",
       "    }\n",
       "\n",
       "    .dataframe thead th {\n",
       "        text-align: right;\n",
       "    }\n",
       "</style>\n",
       "<table border=\"1\" class=\"dataframe\">\n",
       "  <thead>\n",
       "    <tr style=\"text-align: right;\">\n",
       "      <th></th>\n",
       "      <th>Year</th>\n",
       "      <th>Month</th>\n",
       "      <th>Palestinians Injuries</th>\n",
       "      <th>Israelis Injuries</th>\n",
       "      <th>Palestinians Killed</th>\n",
       "      <th>Israelis Killed</th>\n",
       "    </tr>\n",
       "  </thead>\n",
       "  <tbody>\n",
       "    <tr>\n",
       "      <th>4</th>\n",
       "      <td>2001</td>\n",
       "      <td>DECEMBER</td>\n",
       "      <td>304</td>\n",
       "      <td>17</td>\n",
       "      <td>67</td>\n",
       "      <td>36</td>\n",
       "    </tr>\n",
       "    <tr>\n",
       "      <th>96</th>\n",
       "      <td>2008</td>\n",
       "      <td>APRIL</td>\n",
       "      <td>302</td>\n",
       "      <td>18</td>\n",
       "      <td>72</td>\n",
       "      <td>8</td>\n",
       "    </tr>\n",
       "    <tr>\n",
       "      <th>30</th>\n",
       "      <td>2003</td>\n",
       "      <td>OCTOBER</td>\n",
       "      <td>289</td>\n",
       "      <td>26</td>\n",
       "      <td>58</td>\n",
       "      <td>27</td>\n",
       "    </tr>\n",
       "    <tr>\n",
       "      <th>160</th>\n",
       "      <td>2014</td>\n",
       "      <td>DECEMBER</td>\n",
       "      <td>350</td>\n",
       "      <td>15</td>\n",
       "      <td>5</td>\n",
       "      <td>0</td>\n",
       "    </tr>\n",
       "    <tr>\n",
       "      <th>97</th>\n",
       "      <td>2008</td>\n",
       "      <td>MARCH</td>\n",
       "      <td>302</td>\n",
       "      <td>18</td>\n",
       "      <td>114</td>\n",
       "      <td>12</td>\n",
       "    </tr>\n",
       "    <tr>\n",
       "      <th>22</th>\n",
       "      <td>2002</td>\n",
       "      <td>JUNE</td>\n",
       "      <td>299</td>\n",
       "      <td>18</td>\n",
       "      <td>57</td>\n",
       "      <td>57</td>\n",
       "    </tr>\n",
       "    <tr>\n",
       "      <th>119</th>\n",
       "      <td>2010</td>\n",
       "      <td>MAY</td>\n",
       "      <td>118</td>\n",
       "      <td>17</td>\n",
       "      <td>2</td>\n",
       "      <td>0</td>\n",
       "    </tr>\n",
       "    <tr>\n",
       "      <th>219</th>\n",
       "      <td>2018</td>\n",
       "      <td>JANUARY</td>\n",
       "      <td>302</td>\n",
       "      <td>18</td>\n",
       "      <td>7</td>\n",
       "      <td>1</td>\n",
       "    </tr>\n",
       "    <tr>\n",
       "      <th>43</th>\n",
       "      <td>2004</td>\n",
       "      <td>SEPTEMBER</td>\n",
       "      <td>579</td>\n",
       "      <td>14</td>\n",
       "      <td>112</td>\n",
       "      <td>11</td>\n",
       "    </tr>\n",
       "    <tr>\n",
       "      <th>242</th>\n",
       "      <td>2020</td>\n",
       "      <td>FEBRUARY</td>\n",
       "      <td>302</td>\n",
       "      <td>18</td>\n",
       "      <td>9</td>\n",
       "      <td>0</td>\n",
       "    </tr>\n",
       "  </tbody>\n",
       "</table>\n",
       "</div>"
      ],
      "text/plain": [
       "     Year      Month  Palestinians Injuries  Israelis Injuries  \\\n",
       "4    2001   DECEMBER                    304                 17   \n",
       "96   2008      APRIL                    302                 18   \n",
       "30   2003    OCTOBER                    289                 26   \n",
       "160  2014   DECEMBER                    350                 15   \n",
       "97   2008      MARCH                    302                 18   \n",
       "22   2002       JUNE                    299                 18   \n",
       "119  2010        MAY                    118                 17   \n",
       "219  2018    JANUARY                    302                 18   \n",
       "43   2004  SEPTEMBER                    579                 14   \n",
       "242  2020   FEBRUARY                    302                 18   \n",
       "\n",
       "     Palestinians Killed  Israelis Killed  \n",
       "4                     67               36  \n",
       "96                    72                8  \n",
       "30                    58               27  \n",
       "160                    5                0  \n",
       "97                   114               12  \n",
       "22                    57               57  \n",
       "119                    2                0  \n",
       "219                    7                1  \n",
       "43                   112               11  \n",
       "242                    9                0  "
      ]
     },
     "execution_count": 33,
     "metadata": {},
     "output_type": "execute_result"
    }
   ],
   "source": [
    "df.sample(10)"
   ]
  },
  {
   "cell_type": "markdown",
   "metadata": {},
   "source": [
    "## Interactive Time Series Plot: Injuries and Deaths Over the Years\n",
    "\n",
    "In this plot, we will visualize the trends in **Palestinians Injuries**, **Israelis Injuries**, **Palestinians Killed**, and **Israelis Killed** over the years. This line plot will allow us to examine how the counts change over time, making it easy to spot significant events and trends.\n",
    "\n",
    "_Hover over the lines for more detailed information about each data point._"
   ]
  },
  {
   "cell_type": "code",
   "execution_count": 34,
   "metadata": {},
   "outputs": [
    {
     "data": {
      "application/vnd.plotly.v1+json": {
       "config": {
        "plotlyServerURL": "https://plot.ly"
       },
       "data": [
        {
         "hovertemplate": "Category=Palestinians Injuries<br>Year=%{x}<br>Count=%{y}<extra></extra>",
         "legendgroup": "Palestinians Injuries",
         "line": {
          "color": "#636efa",
          "dash": "solid"
         },
         "marker": {
          "symbol": "circle"
         },
         "mode": "lines+markers",
         "name": "Palestinians Injuries",
         "orientation": "v",
         "showlegend": true,
         "type": "scatter",
         "x": [
          2000,
          2000,
          2000,
          2000,
          2001,
          2001,
          2001,
          2001,
          2001,
          2001,
          2001,
          2001,
          2001,
          2001,
          2001,
          2001,
          2002,
          2002,
          2002,
          2002,
          2002,
          2002,
          2002,
          2002,
          2002,
          2002,
          2002,
          2002,
          2003,
          2003,
          2003,
          2003,
          2003,
          2003,
          2003,
          2003,
          2003,
          2003,
          2003,
          2003,
          2004,
          2004,
          2004,
          2004,
          2004,
          2004,
          2004,
          2004,
          2004,
          2004,
          2004,
          2004,
          2005,
          2005,
          2005,
          2005,
          2005,
          2005,
          2005,
          2005,
          2005,
          2005,
          2005,
          2005,
          2006,
          2006,
          2006,
          2006,
          2006,
          2006,
          2006,
          2006,
          2006,
          2006,
          2006,
          2006,
          2007,
          2007,
          2007,
          2007,
          2007,
          2007,
          2007,
          2007,
          2007,
          2007,
          2007,
          2007,
          2008,
          2008,
          2008,
          2008,
          2008,
          2008,
          2008,
          2008,
          2008,
          2008,
          2008,
          2008,
          2009,
          2009,
          2009,
          2009,
          2009,
          2009,
          2009,
          2009,
          2009,
          2009,
          2009,
          2009,
          2010,
          2010,
          2010,
          2010,
          2010,
          2010,
          2010,
          2010,
          2010,
          2010,
          2010,
          2010,
          2011,
          2011,
          2011,
          2011,
          2011,
          2011,
          2011,
          2011,
          2011,
          2011,
          2011,
          2011,
          2012,
          2012,
          2012,
          2012,
          2012,
          2012,
          2012,
          2012,
          2012,
          2012,
          2012,
          2012,
          2013,
          2013,
          2013,
          2013,
          2013,
          2013,
          2013,
          2013,
          2013,
          2013,
          2013,
          2013,
          2014,
          2014,
          2014,
          2014,
          2014,
          2014,
          2014,
          2014,
          2014,
          2014,
          2014,
          2014,
          2015,
          2015,
          2015,
          2015,
          2015,
          2015,
          2015,
          2015,
          2015,
          2015,
          2015,
          2015,
          2016,
          2016,
          2016,
          2016,
          2016,
          2016,
          2016,
          2016,
          2016,
          2016,
          2016,
          2016,
          2017,
          2017,
          2017,
          2017,
          2017,
          2017,
          2017,
          2017,
          2017,
          2017,
          2017,
          2017,
          2018,
          2018,
          2018,
          2018,
          2018,
          2018,
          2018,
          2018,
          2018,
          2018,
          2018,
          2018,
          2019,
          2019,
          2019,
          2019,
          2019,
          2019,
          2019,
          2019,
          2019,
          2019,
          2019,
          2019,
          2020,
          2020,
          2020,
          2020,
          2020,
          2020,
          2020,
          2020,
          2020,
          2020,
          2020,
          2020,
          2021,
          2021,
          2021,
          2021,
          2021,
          2021
         ],
         "xaxis": "x",
         "y": [
          781,
          3838,
          5984,
          302,
          304,
          160,
          407,
          657,
          502,
          394,
          319,
          932,
          715,
          927,
          598,
          471,
          185,
          264,
          388,
          353,
          186,
          374,
          299,
          181,
          523,
          870,
          429,
          330,
          322,
          106,
          289,
          226,
          191,
          34,
          367,
          239,
          303,
          379,
          244,
          292,
          161,
          98,
          343,
          579,
          287,
          251,
          377,
          545,
          346,
          417,
          437,
          168,
          166,
          99,
          81,
          90,
          130,
          165,
          116,
          81,
          183,
          68,
          42,
          164,
          73,
          491,
          180,
          196,
          266,
          799,
          198,
          257,
          254,
          203,
          194,
          88,
          13720,
          127,
          152,
          135,
          154,
          67,
          162,
          281,
          115,
          153,
          256,
          104,
          302,
          302,
          302,
          302,
          302,
          302,
          302,
          302,
          302,
          302,
          302,
          302,
          195,
          30,
          88,
          80,
          36,
          26,
          89,
          82,
          136,
          87,
          65,
          5557,
          105,
          87,
          147,
          148,
          46,
          85,
          104,
          118,
          119,
          402,
          92,
          86,
          210,
          63,
          110,
          149,
          191,
          156,
          159,
          397,
          193,
          204,
          135,
          143,
          198,
          2252,
          89,
          161,
          169,
          202,
          231,
          703,
          169,
          404,
          256,
          60,
          159,
          320,
          105,
          374,
          137,
          138,
          124,
          429,
          656,
          493,
          766,
          263,
          350,
          984,
          291,
          209,
          13735,
          302,
          326,
          265,
          302,
          228,
          216,
          219,
          2222,
          3888,
          7555,
          413,
          196,
          141,
          78,
          284,
          223,
          176,
          167,
          134,
          105,
          97,
          169,
          210,
          261,
          256,
          167,
          434,
          286,
          348,
          514,
          582,
          4580,
          89,
          120,
          118,
          135,
          1772,
          790,
          302,
          150,
          189,
          97,
          44,
          302,
          302,
          302,
          302,
          302,
          302,
          302,
          302,
          302,
          302,
          302,
          302,
          302,
          302,
          302,
          302,
          302,
          302,
          302,
          302,
          302,
          302,
          302,
          302,
          302,
          302,
          302,
          302,
          302,
          302,
          302,
          302,
          302,
          302,
          302,
          302,
          302,
          302,
          302,
          302,
          302,
          111475
         ],
         "yaxis": "y"
        },
        {
         "hovertemplate": "Category=Israelis Injuries<br>Year=%{x}<br>Count=%{y}<extra></extra>",
         "legendgroup": "Israelis Injuries",
         "line": {
          "color": "#EF553B",
          "dash": "solid"
         },
         "marker": {
          "symbol": "circle"
         },
         "mode": "lines+markers",
         "name": "Israelis Injuries",
         "orientation": "v",
         "showlegend": true,
         "type": "scatter",
         "x": [
          2000,
          2000,
          2000,
          2000,
          2001,
          2001,
          2001,
          2001,
          2001,
          2001,
          2001,
          2001,
          2001,
          2001,
          2001,
          2001,
          2002,
          2002,
          2002,
          2002,
          2002,
          2002,
          2002,
          2002,
          2002,
          2002,
          2002,
          2002,
          2003,
          2003,
          2003,
          2003,
          2003,
          2003,
          2003,
          2003,
          2003,
          2003,
          2003,
          2003,
          2004,
          2004,
          2004,
          2004,
          2004,
          2004,
          2004,
          2004,
          2004,
          2004,
          2004,
          2004,
          2005,
          2005,
          2005,
          2005,
          2005,
          2005,
          2005,
          2005,
          2005,
          2005,
          2005,
          2005,
          2006,
          2006,
          2006,
          2006,
          2006,
          2006,
          2006,
          2006,
          2006,
          2006,
          2006,
          2006,
          2007,
          2007,
          2007,
          2007,
          2007,
          2007,
          2007,
          2007,
          2007,
          2007,
          2007,
          2007,
          2008,
          2008,
          2008,
          2008,
          2008,
          2008,
          2008,
          2008,
          2008,
          2008,
          2008,
          2008,
          2009,
          2009,
          2009,
          2009,
          2009,
          2009,
          2009,
          2009,
          2009,
          2009,
          2009,
          2009,
          2010,
          2010,
          2010,
          2010,
          2010,
          2010,
          2010,
          2010,
          2010,
          2010,
          2010,
          2010,
          2011,
          2011,
          2011,
          2011,
          2011,
          2011,
          2011,
          2011,
          2011,
          2011,
          2011,
          2011,
          2012,
          2012,
          2012,
          2012,
          2012,
          2012,
          2012,
          2012,
          2012,
          2012,
          2012,
          2012,
          2013,
          2013,
          2013,
          2013,
          2013,
          2013,
          2013,
          2013,
          2013,
          2013,
          2013,
          2013,
          2014,
          2014,
          2014,
          2014,
          2014,
          2014,
          2014,
          2014,
          2014,
          2014,
          2014,
          2014,
          2015,
          2015,
          2015,
          2015,
          2015,
          2015,
          2015,
          2015,
          2015,
          2015,
          2015,
          2015,
          2016,
          2016,
          2016,
          2016,
          2016,
          2016,
          2016,
          2016,
          2016,
          2016,
          2016,
          2016,
          2017,
          2017,
          2017,
          2017,
          2017,
          2017,
          2017,
          2017,
          2017,
          2017,
          2017,
          2017,
          2018,
          2018,
          2018,
          2018,
          2018,
          2018,
          2018,
          2018,
          2018,
          2018,
          2018,
          2018,
          2019,
          2019,
          2019,
          2019,
          2019,
          2019,
          2019,
          2019,
          2019,
          2019,
          2019,
          2019,
          2020,
          2020,
          2020,
          2020,
          2020,
          2020,
          2020,
          2020,
          2020,
          2020,
          2020,
          2020,
          2021,
          2021,
          2021,
          2021,
          2021,
          2021
         ],
         "xaxis": "x",
         "y": [
          22,
          48,
          32,
          18,
          17,
          6,
          30,
          16,
          21,
          39,
          5,
          46,
          17,
          46,
          15,
          25,
          18,
          11,
          32,
          16,
          18,
          18,
          18,
          18,
          13,
          33,
          24,
          6,
          5,
          12,
          26,
          7,
          20,
          44,
          13,
          11,
          18,
          21,
          55,
          26,
          11,
          19,
          20,
          14,
          19,
          55,
          21,
          11,
          20,
          35,
          12,
          16,
          88,
          17,
          46,
          25,
          16,
          105,
          20,
          17,
          19,
          17,
          62,
          61,
          12,
          30,
          19,
          24,
          10,
          41,
          26,
          14,
          78,
          46,
          30,
          47,
          20,
          6,
          13,
          87,
          56,
          7,
          19,
          30,
          22,
          15,
          35,
          12,
          18,
          18,
          18,
          18,
          18,
          18,
          18,
          18,
          18,
          18,
          18,
          18,
          27,
          44,
          30,
          27,
          44,
          44,
          7,
          26,
          25,
          13,
          4,
          28,
          5,
          7,
          5,
          12,
          11,
          0,
          21,
          17,
          10,
          59,
          14,
          15,
          6,
          3,
          9,
          5,
          22,
          3,
          9,
          36,
          10,
          13,
          3,
          5,
          6,
          253,
          1,
          7,
          5,
          12,
          4,
          15,
          9,
          16,
          14,
          3,
          4,
          5,
          15,
          9,
          5,
          11,
          1,
          33,
          17,
          21,
          24,
          6,
          15,
          55,
          32,
          22,
          2347,
          18,
          5,
          28,
          15,
          5,
          6,
          9,
          43,
          50,
          80,
          39,
          20,
          8,
          14,
          11,
          13,
          13,
          5,
          8,
          18,
          7,
          17,
          14,
          2,
          9,
          30,
          2,
          21,
          27,
          8,
          16,
          10,
          8,
          5,
          5,
          2,
          23,
          20,
          18,
          12,
          19,
          37,
          17,
          18,
          18,
          18,
          18,
          18,
          18,
          18,
          18,
          18,
          18,
          18,
          18,
          18,
          18,
          18,
          18,
          18,
          18,
          18,
          18,
          18,
          18,
          18,
          18,
          18,
          18,
          18,
          18,
          18,
          18,
          18,
          18,
          18,
          18,
          18,
          18,
          18,
          18,
          18,
          18,
          18,
          5160
         ],
         "yaxis": "y"
        },
        {
         "hovertemplate": "Category=Palestinians Killed<br>Year=%{x}<br>Count=%{y}<extra></extra>",
         "legendgroup": "Palestinians Killed",
         "line": {
          "color": "#00cc96",
          "dash": "solid"
         },
         "marker": {
          "symbol": "circle"
         },
         "mode": "lines+markers",
         "name": "Palestinians Killed",
         "orientation": "v",
         "showlegend": true,
         "type": "scatter",
         "x": [
          2000,
          2000,
          2000,
          2000,
          2001,
          2001,
          2001,
          2001,
          2001,
          2001,
          2001,
          2001,
          2001,
          2001,
          2001,
          2001,
          2002,
          2002,
          2002,
          2002,
          2002,
          2002,
          2002,
          2002,
          2002,
          2002,
          2002,
          2002,
          2003,
          2003,
          2003,
          2003,
          2003,
          2003,
          2003,
          2003,
          2003,
          2003,
          2003,
          2003,
          2004,
          2004,
          2004,
          2004,
          2004,
          2004,
          2004,
          2004,
          2004,
          2004,
          2004,
          2004,
          2005,
          2005,
          2005,
          2005,
          2005,
          2005,
          2005,
          2005,
          2005,
          2005,
          2005,
          2005,
          2006,
          2006,
          2006,
          2006,
          2006,
          2006,
          2006,
          2006,
          2006,
          2006,
          2006,
          2006,
          2007,
          2007,
          2007,
          2007,
          2007,
          2007,
          2007,
          2007,
          2007,
          2007,
          2007,
          2007,
          2008,
          2008,
          2008,
          2008,
          2008,
          2008,
          2008,
          2008,
          2008,
          2008,
          2008,
          2008,
          2009,
          2009,
          2009,
          2009,
          2009,
          2009,
          2009,
          2009,
          2009,
          2009,
          2009,
          2009,
          2010,
          2010,
          2010,
          2010,
          2010,
          2010,
          2010,
          2010,
          2010,
          2010,
          2010,
          2010,
          2011,
          2011,
          2011,
          2011,
          2011,
          2011,
          2011,
          2011,
          2011,
          2011,
          2011,
          2011,
          2012,
          2012,
          2012,
          2012,
          2012,
          2012,
          2012,
          2012,
          2012,
          2012,
          2012,
          2012,
          2013,
          2013,
          2013,
          2013,
          2013,
          2013,
          2013,
          2013,
          2013,
          2013,
          2013,
          2013,
          2014,
          2014,
          2014,
          2014,
          2014,
          2014,
          2014,
          2014,
          2014,
          2014,
          2014,
          2014,
          2015,
          2015,
          2015,
          2015,
          2015,
          2015,
          2015,
          2015,
          2015,
          2015,
          2015,
          2015,
          2016,
          2016,
          2016,
          2016,
          2016,
          2016,
          2016,
          2016,
          2016,
          2016,
          2016,
          2016,
          2017,
          2017,
          2017,
          2017,
          2017,
          2017,
          2017,
          2017,
          2017,
          2017,
          2017,
          2017,
          2018,
          2018,
          2018,
          2018,
          2018,
          2018,
          2018,
          2018,
          2018,
          2018,
          2018,
          2018,
          2019,
          2019,
          2019,
          2019,
          2019,
          2019,
          2019,
          2019,
          2019,
          2019,
          2019,
          2019,
          2020,
          2020,
          2020,
          2020,
          2020,
          2020,
          2020,
          2020,
          2020,
          2020,
          2020,
          2020,
          2021,
          2021,
          2021,
          2021,
          2021,
          2021
         ],
         "xaxis": "x",
         "y": [
          51,
          112,
          104,
          16,
          67,
          39,
          89,
          59,
          37,
          32,
          13,
          46,
          23,
          27,
          19,
          19,
          72,
          46,
          66,
          51,
          53,
          43,
          57,
          48,
          246,
          237,
          85,
          28,
          48,
          30,
          58,
          29,
          26,
          4,
          59,
          61,
          59,
          85,
          69,
          60,
          61,
          42,
          145,
          112,
          39,
          0,
          59,
          113,
          55,
          79,
          54,
          27,
          20,
          15,
          22,
          17,
          11,
          25,
          5,
          10,
          5,
          1,
          9,
          50,
          14,
          134,
          61,
          32,
          74,
          180,
          43,
          37,
          31,
          15,
          31,
          13,
          61,
          31,
          36,
          34,
          47,
          27,
          40,
          62,
          16,
          9,
          12,
          10,
          432,
          15,
          4,
          3,
          0,
          8,
          30,
          40,
          72,
          114,
          79,
          89,
          6,
          1,
          0,
          9,
          6,
          2,
          4,
          6,
          6,
          9,
          9,
          978,
          13,
          3,
          6,
          13,
          2,
          5,
          15,
          2,
          5,
          8,
          2,
          8,
          8,
          4,
          12,
          2,
          30,
          4,
          0,
          2,
          24,
          15,
          6,
          10,
          2,
          181,
          12,
          8,
          1,
          3,
          15,
          0,
          1,
          28,
          2,
          2,
          5,
          9,
          4,
          2,
          6,
          1,
          0,
          0,
          3,
          2,
          1,
          5,
          5,
          8,
          8,
          20,
          614,
          1590,
          10,
          3,
          0,
          12,
          3,
          6,
          40,
          34,
          74,
          4,
          9,
          7,
          3,
          1,
          7,
          1,
          4,
          4,
          5,
          6,
          8,
          11,
          3,
          9,
          7,
          3,
          3,
          23,
          17,
          20,
          18,
          2,
          13,
          2,
          2,
          20,
          8,
          6,
          5,
          7,
          6,
          7,
          14,
          25,
          32,
          25,
          16,
          24,
          18,
          66,
          34,
          20,
          9,
          7,
          1,
          43,
          3,
          5,
          11,
          4,
          3,
          33,
          8,
          21,
          8,
          9,
          2,
          2,
          2,
          1,
          3,
          1,
          1,
          4,
          1,
          2,
          9,
          6,
          4,
          1,
          4,
          1,
          26,
          10000
         ],
         "yaxis": "y"
        },
        {
         "hovertemplate": "Category=Israelis Killed<br>Year=%{x}<br>Count=%{y}<extra></extra>",
         "legendgroup": "Israelis Killed",
         "line": {
          "color": "#ab63fa",
          "dash": "solid"
         },
         "marker": {
          "symbol": "circle"
         },
         "mode": "lines+markers",
         "name": "Israelis Killed",
         "orientation": "v",
         "showlegend": true,
         "type": "scatter",
         "x": [
          2000,
          2000,
          2000,
          2000,
          2001,
          2001,
          2001,
          2001,
          2001,
          2001,
          2001,
          2001,
          2001,
          2001,
          2001,
          2001,
          2002,
          2002,
          2002,
          2002,
          2002,
          2002,
          2002,
          2002,
          2002,
          2002,
          2002,
          2002,
          2003,
          2003,
          2003,
          2003,
          2003,
          2003,
          2003,
          2003,
          2003,
          2003,
          2003,
          2003,
          2004,
          2004,
          2004,
          2004,
          2004,
          2004,
          2004,
          2004,
          2004,
          2004,
          2004,
          2004,
          2005,
          2005,
          2005,
          2005,
          2005,
          2005,
          2005,
          2005,
          2005,
          2005,
          2005,
          2005,
          2006,
          2006,
          2006,
          2006,
          2006,
          2006,
          2006,
          2006,
          2006,
          2006,
          2006,
          2006,
          2007,
          2007,
          2007,
          2007,
          2007,
          2007,
          2007,
          2007,
          2007,
          2007,
          2007,
          2007,
          2008,
          2008,
          2008,
          2008,
          2008,
          2008,
          2008,
          2008,
          2008,
          2008,
          2008,
          2008,
          2009,
          2009,
          2009,
          2009,
          2009,
          2009,
          2009,
          2009,
          2009,
          2009,
          2009,
          2009,
          2010,
          2010,
          2010,
          2010,
          2010,
          2010,
          2010,
          2010,
          2010,
          2010,
          2010,
          2010,
          2011,
          2011,
          2011,
          2011,
          2011,
          2011,
          2011,
          2011,
          2011,
          2011,
          2011,
          2011,
          2012,
          2012,
          2012,
          2012,
          2012,
          2012,
          2012,
          2012,
          2012,
          2012,
          2012,
          2012,
          2013,
          2013,
          2013,
          2013,
          2013,
          2013,
          2013,
          2013,
          2013,
          2013,
          2013,
          2013,
          2014,
          2014,
          2014,
          2014,
          2014,
          2014,
          2014,
          2014,
          2014,
          2014,
          2014,
          2014,
          2015,
          2015,
          2015,
          2015,
          2015,
          2015,
          2015,
          2015,
          2015,
          2015,
          2015,
          2015,
          2016,
          2016,
          2016,
          2016,
          2016,
          2016,
          2016,
          2016,
          2016,
          2016,
          2016,
          2016,
          2017,
          2017,
          2017,
          2017,
          2017,
          2017,
          2017,
          2017,
          2017,
          2017,
          2017,
          2017,
          2018,
          2018,
          2018,
          2018,
          2018,
          2018,
          2018,
          2018,
          2018,
          2018,
          2018,
          2018,
          2019,
          2019,
          2019,
          2019,
          2019,
          2019,
          2019,
          2019,
          2019,
          2019,
          2019,
          2019,
          2020,
          2020,
          2020,
          2020,
          2020,
          2020,
          2020,
          2020,
          2020,
          2020,
          2020,
          2020,
          2021,
          2021,
          2021,
          2021,
          2021,
          2021
         ],
         "xaxis": "x",
         "y": [
          8,
          22,
          10,
          1,
          36,
          14,
          14,
          13,
          26,
          10,
          28,
          17,
          7,
          8,
          13,
          6,
          7,
          40,
          22,
          13,
          13,
          25,
          57,
          29,
          46,
          122,
          29,
          16,
          6,
          4,
          27,
          21,
          25,
          2,
          28,
          13,
          6,
          23,
          8,
          22,
          8,
          3,
          3,
          11,
          17,
          0,
          3,
          19,
          3,
          11,
          11,
          15,
          8,
          1,
          10,
          1,
          0,
          8,
          4,
          1,
          0,
          0,
          5,
          13,
          0,
          0,
          0,
          1,
          1,
          2,
          3,
          0,
          7,
          5,
          1,
          0,
          2,
          1,
          2,
          0,
          0,
          1,
          0,
          2,
          0,
          0,
          1,
          3,
          4,
          0,
          1,
          0,
          4,
          4,
          1,
          2,
          8,
          12,
          2,
          1,
          1,
          0,
          0,
          0,
          0,
          0,
          0,
          1,
          1,
          0,
          0,
          6,
          0,
          0,
          0,
          0,
          4,
          0,
          1,
          0,
          0,
          2,
          2,
          0,
          0,
          0,
          0,
          2,
          1,
          0,
          0,
          0,
          2,
          5,
          0,
          0,
          0,
          6,
          0,
          0,
          0,
          0,
          1,
          0,
          0,
          0,
          0,
          0,
          1,
          1,
          1,
          2,
          0,
          0,
          0,
          0,
          1,
          0,
          0,
          0,
          0,
          10,
          2,
          0,
          9,
          59,
          3,
          1,
          1,
          0,
          0,
          0,
          2,
          8,
          10,
          1,
          0,
          0,
          2,
          0,
          1,
          0,
          0,
          0,
          0,
          0,
          2,
          0,
          0,
          1,
          5,
          0,
          0,
          0,
          2,
          2,
          0,
          2,
          1,
          3,
          0,
          5,
          1,
          0,
          1,
          0,
          0,
          6,
          2,
          1,
          2,
          1,
          0,
          2,
          0,
          1,
          0,
          3,
          1,
          1,
          0,
          0,
          0,
          1,
          2,
          1,
          0,
          4,
          0,
          2,
          1,
          0,
          1,
          0,
          0,
          0,
          1,
          0,
          0,
          1,
          0,
          0,
          0,
          0,
          0,
          0,
          0,
          0,
          3,
          1275
         ],
         "yaxis": "y"
        }
       ],
       "layout": {
        "hovermode": "x unified",
        "legend": {
         "title": {
          "text": "Category"
         },
         "tracegroupgap": 0
        },
        "template": {
         "data": {
          "bar": [
           {
            "error_x": {
             "color": "#f2f5fa"
            },
            "error_y": {
             "color": "#f2f5fa"
            },
            "marker": {
             "line": {
              "color": "rgb(17,17,17)",
              "width": 0.5
             },
             "pattern": {
              "fillmode": "overlay",
              "size": 10,
              "solidity": 0.2
             }
            },
            "type": "bar"
           }
          ],
          "barpolar": [
           {
            "marker": {
             "line": {
              "color": "rgb(17,17,17)",
              "width": 0.5
             },
             "pattern": {
              "fillmode": "overlay",
              "size": 10,
              "solidity": 0.2
             }
            },
            "type": "barpolar"
           }
          ],
          "carpet": [
           {
            "aaxis": {
             "endlinecolor": "#A2B1C6",
             "gridcolor": "#506784",
             "linecolor": "#506784",
             "minorgridcolor": "#506784",
             "startlinecolor": "#A2B1C6"
            },
            "baxis": {
             "endlinecolor": "#A2B1C6",
             "gridcolor": "#506784",
             "linecolor": "#506784",
             "minorgridcolor": "#506784",
             "startlinecolor": "#A2B1C6"
            },
            "type": "carpet"
           }
          ],
          "choropleth": [
           {
            "colorbar": {
             "outlinewidth": 0,
             "ticks": ""
            },
            "type": "choropleth"
           }
          ],
          "contour": [
           {
            "colorbar": {
             "outlinewidth": 0,
             "ticks": ""
            },
            "colorscale": [
             [
              0,
              "#0d0887"
             ],
             [
              0.1111111111111111,
              "#46039f"
             ],
             [
              0.2222222222222222,
              "#7201a8"
             ],
             [
              0.3333333333333333,
              "#9c179e"
             ],
             [
              0.4444444444444444,
              "#bd3786"
             ],
             [
              0.5555555555555556,
              "#d8576b"
             ],
             [
              0.6666666666666666,
              "#ed7953"
             ],
             [
              0.7777777777777778,
              "#fb9f3a"
             ],
             [
              0.8888888888888888,
              "#fdca26"
             ],
             [
              1,
              "#f0f921"
             ]
            ],
            "type": "contour"
           }
          ],
          "contourcarpet": [
           {
            "colorbar": {
             "outlinewidth": 0,
             "ticks": ""
            },
            "type": "contourcarpet"
           }
          ],
          "heatmap": [
           {
            "colorbar": {
             "outlinewidth": 0,
             "ticks": ""
            },
            "colorscale": [
             [
              0,
              "#0d0887"
             ],
             [
              0.1111111111111111,
              "#46039f"
             ],
             [
              0.2222222222222222,
              "#7201a8"
             ],
             [
              0.3333333333333333,
              "#9c179e"
             ],
             [
              0.4444444444444444,
              "#bd3786"
             ],
             [
              0.5555555555555556,
              "#d8576b"
             ],
             [
              0.6666666666666666,
              "#ed7953"
             ],
             [
              0.7777777777777778,
              "#fb9f3a"
             ],
             [
              0.8888888888888888,
              "#fdca26"
             ],
             [
              1,
              "#f0f921"
             ]
            ],
            "type": "heatmap"
           }
          ],
          "heatmapgl": [
           {
            "colorbar": {
             "outlinewidth": 0,
             "ticks": ""
            },
            "colorscale": [
             [
              0,
              "#0d0887"
             ],
             [
              0.1111111111111111,
              "#46039f"
             ],
             [
              0.2222222222222222,
              "#7201a8"
             ],
             [
              0.3333333333333333,
              "#9c179e"
             ],
             [
              0.4444444444444444,
              "#bd3786"
             ],
             [
              0.5555555555555556,
              "#d8576b"
             ],
             [
              0.6666666666666666,
              "#ed7953"
             ],
             [
              0.7777777777777778,
              "#fb9f3a"
             ],
             [
              0.8888888888888888,
              "#fdca26"
             ],
             [
              1,
              "#f0f921"
             ]
            ],
            "type": "heatmapgl"
           }
          ],
          "histogram": [
           {
            "marker": {
             "pattern": {
              "fillmode": "overlay",
              "size": 10,
              "solidity": 0.2
             }
            },
            "type": "histogram"
           }
          ],
          "histogram2d": [
           {
            "colorbar": {
             "outlinewidth": 0,
             "ticks": ""
            },
            "colorscale": [
             [
              0,
              "#0d0887"
             ],
             [
              0.1111111111111111,
              "#46039f"
             ],
             [
              0.2222222222222222,
              "#7201a8"
             ],
             [
              0.3333333333333333,
              "#9c179e"
             ],
             [
              0.4444444444444444,
              "#bd3786"
             ],
             [
              0.5555555555555556,
              "#d8576b"
             ],
             [
              0.6666666666666666,
              "#ed7953"
             ],
             [
              0.7777777777777778,
              "#fb9f3a"
             ],
             [
              0.8888888888888888,
              "#fdca26"
             ],
             [
              1,
              "#f0f921"
             ]
            ],
            "type": "histogram2d"
           }
          ],
          "histogram2dcontour": [
           {
            "colorbar": {
             "outlinewidth": 0,
             "ticks": ""
            },
            "colorscale": [
             [
              0,
              "#0d0887"
             ],
             [
              0.1111111111111111,
              "#46039f"
             ],
             [
              0.2222222222222222,
              "#7201a8"
             ],
             [
              0.3333333333333333,
              "#9c179e"
             ],
             [
              0.4444444444444444,
              "#bd3786"
             ],
             [
              0.5555555555555556,
              "#d8576b"
             ],
             [
              0.6666666666666666,
              "#ed7953"
             ],
             [
              0.7777777777777778,
              "#fb9f3a"
             ],
             [
              0.8888888888888888,
              "#fdca26"
             ],
             [
              1,
              "#f0f921"
             ]
            ],
            "type": "histogram2dcontour"
           }
          ],
          "mesh3d": [
           {
            "colorbar": {
             "outlinewidth": 0,
             "ticks": ""
            },
            "type": "mesh3d"
           }
          ],
          "parcoords": [
           {
            "line": {
             "colorbar": {
              "outlinewidth": 0,
              "ticks": ""
             }
            },
            "type": "parcoords"
           }
          ],
          "pie": [
           {
            "automargin": true,
            "type": "pie"
           }
          ],
          "scatter": [
           {
            "marker": {
             "line": {
              "color": "#283442"
             }
            },
            "type": "scatter"
           }
          ],
          "scatter3d": [
           {
            "line": {
             "colorbar": {
              "outlinewidth": 0,
              "ticks": ""
             }
            },
            "marker": {
             "colorbar": {
              "outlinewidth": 0,
              "ticks": ""
             }
            },
            "type": "scatter3d"
           }
          ],
          "scattercarpet": [
           {
            "marker": {
             "colorbar": {
              "outlinewidth": 0,
              "ticks": ""
             }
            },
            "type": "scattercarpet"
           }
          ],
          "scattergeo": [
           {
            "marker": {
             "colorbar": {
              "outlinewidth": 0,
              "ticks": ""
             }
            },
            "type": "scattergeo"
           }
          ],
          "scattergl": [
           {
            "marker": {
             "line": {
              "color": "#283442"
             }
            },
            "type": "scattergl"
           }
          ],
          "scattermapbox": [
           {
            "marker": {
             "colorbar": {
              "outlinewidth": 0,
              "ticks": ""
             }
            },
            "type": "scattermapbox"
           }
          ],
          "scatterpolar": [
           {
            "marker": {
             "colorbar": {
              "outlinewidth": 0,
              "ticks": ""
             }
            },
            "type": "scatterpolar"
           }
          ],
          "scatterpolargl": [
           {
            "marker": {
             "colorbar": {
              "outlinewidth": 0,
              "ticks": ""
             }
            },
            "type": "scatterpolargl"
           }
          ],
          "scatterternary": [
           {
            "marker": {
             "colorbar": {
              "outlinewidth": 0,
              "ticks": ""
             }
            },
            "type": "scatterternary"
           }
          ],
          "surface": [
           {
            "colorbar": {
             "outlinewidth": 0,
             "ticks": ""
            },
            "colorscale": [
             [
              0,
              "#0d0887"
             ],
             [
              0.1111111111111111,
              "#46039f"
             ],
             [
              0.2222222222222222,
              "#7201a8"
             ],
             [
              0.3333333333333333,
              "#9c179e"
             ],
             [
              0.4444444444444444,
              "#bd3786"
             ],
             [
              0.5555555555555556,
              "#d8576b"
             ],
             [
              0.6666666666666666,
              "#ed7953"
             ],
             [
              0.7777777777777778,
              "#fb9f3a"
             ],
             [
              0.8888888888888888,
              "#fdca26"
             ],
             [
              1,
              "#f0f921"
             ]
            ],
            "type": "surface"
           }
          ],
          "table": [
           {
            "cells": {
             "fill": {
              "color": "#506784"
             },
             "line": {
              "color": "rgb(17,17,17)"
             }
            },
            "header": {
             "fill": {
              "color": "#2a3f5f"
             },
             "line": {
              "color": "rgb(17,17,17)"
             }
            },
            "type": "table"
           }
          ]
         },
         "layout": {
          "annotationdefaults": {
           "arrowcolor": "#f2f5fa",
           "arrowhead": 0,
           "arrowwidth": 1
          },
          "autotypenumbers": "strict",
          "coloraxis": {
           "colorbar": {
            "outlinewidth": 0,
            "ticks": ""
           }
          },
          "colorscale": {
           "diverging": [
            [
             0,
             "#8e0152"
            ],
            [
             0.1,
             "#c51b7d"
            ],
            [
             0.2,
             "#de77ae"
            ],
            [
             0.3,
             "#f1b6da"
            ],
            [
             0.4,
             "#fde0ef"
            ],
            [
             0.5,
             "#f7f7f7"
            ],
            [
             0.6,
             "#e6f5d0"
            ],
            [
             0.7,
             "#b8e186"
            ],
            [
             0.8,
             "#7fbc41"
            ],
            [
             0.9,
             "#4d9221"
            ],
            [
             1,
             "#276419"
            ]
           ],
           "sequential": [
            [
             0,
             "#0d0887"
            ],
            [
             0.1111111111111111,
             "#46039f"
            ],
            [
             0.2222222222222222,
             "#7201a8"
            ],
            [
             0.3333333333333333,
             "#9c179e"
            ],
            [
             0.4444444444444444,
             "#bd3786"
            ],
            [
             0.5555555555555556,
             "#d8576b"
            ],
            [
             0.6666666666666666,
             "#ed7953"
            ],
            [
             0.7777777777777778,
             "#fb9f3a"
            ],
            [
             0.8888888888888888,
             "#fdca26"
            ],
            [
             1,
             "#f0f921"
            ]
           ],
           "sequentialminus": [
            [
             0,
             "#0d0887"
            ],
            [
             0.1111111111111111,
             "#46039f"
            ],
            [
             0.2222222222222222,
             "#7201a8"
            ],
            [
             0.3333333333333333,
             "#9c179e"
            ],
            [
             0.4444444444444444,
             "#bd3786"
            ],
            [
             0.5555555555555556,
             "#d8576b"
            ],
            [
             0.6666666666666666,
             "#ed7953"
            ],
            [
             0.7777777777777778,
             "#fb9f3a"
            ],
            [
             0.8888888888888888,
             "#fdca26"
            ],
            [
             1,
             "#f0f921"
            ]
           ]
          },
          "colorway": [
           "#636efa",
           "#EF553B",
           "#00cc96",
           "#ab63fa",
           "#FFA15A",
           "#19d3f3",
           "#FF6692",
           "#B6E880",
           "#FF97FF",
           "#FECB52"
          ],
          "font": {
           "color": "#f2f5fa"
          },
          "geo": {
           "bgcolor": "rgb(17,17,17)",
           "lakecolor": "rgb(17,17,17)",
           "landcolor": "rgb(17,17,17)",
           "showlakes": true,
           "showland": true,
           "subunitcolor": "#506784"
          },
          "hoverlabel": {
           "align": "left"
          },
          "hovermode": "closest",
          "mapbox": {
           "style": "dark"
          },
          "paper_bgcolor": "rgb(17,17,17)",
          "plot_bgcolor": "rgb(17,17,17)",
          "polar": {
           "angularaxis": {
            "gridcolor": "#506784",
            "linecolor": "#506784",
            "ticks": ""
           },
           "bgcolor": "rgb(17,17,17)",
           "radialaxis": {
            "gridcolor": "#506784",
            "linecolor": "#506784",
            "ticks": ""
           }
          },
          "scene": {
           "xaxis": {
            "backgroundcolor": "rgb(17,17,17)",
            "gridcolor": "#506784",
            "gridwidth": 2,
            "linecolor": "#506784",
            "showbackground": true,
            "ticks": "",
            "zerolinecolor": "#C8D4E3"
           },
           "yaxis": {
            "backgroundcolor": "rgb(17,17,17)",
            "gridcolor": "#506784",
            "gridwidth": 2,
            "linecolor": "#506784",
            "showbackground": true,
            "ticks": "",
            "zerolinecolor": "#C8D4E3"
           },
           "zaxis": {
            "backgroundcolor": "rgb(17,17,17)",
            "gridcolor": "#506784",
            "gridwidth": 2,
            "linecolor": "#506784",
            "showbackground": true,
            "ticks": "",
            "zerolinecolor": "#C8D4E3"
           }
          },
          "shapedefaults": {
           "line": {
            "color": "#f2f5fa"
           }
          },
          "sliderdefaults": {
           "bgcolor": "#C8D4E3",
           "bordercolor": "rgb(17,17,17)",
           "borderwidth": 1,
           "tickwidth": 0
          },
          "ternary": {
           "aaxis": {
            "gridcolor": "#506784",
            "linecolor": "#506784",
            "ticks": ""
           },
           "baxis": {
            "gridcolor": "#506784",
            "linecolor": "#506784",
            "ticks": ""
           },
           "bgcolor": "rgb(17,17,17)",
           "caxis": {
            "gridcolor": "#506784",
            "linecolor": "#506784",
            "ticks": ""
           }
          },
          "title": {
           "x": 0.05
          },
          "updatemenudefaults": {
           "bgcolor": "#506784",
           "borderwidth": 0
          },
          "xaxis": {
           "automargin": true,
           "gridcolor": "#283442",
           "linecolor": "#506784",
           "ticks": "",
           "title": {
            "standoff": 15
           },
           "zerolinecolor": "#283442",
           "zerolinewidth": 2
          },
          "yaxis": {
           "automargin": true,
           "gridcolor": "#283442",
           "linecolor": "#506784",
           "ticks": "",
           "title": {
            "standoff": 15
           },
           "zerolinecolor": "#283442",
           "zerolinewidth": 2
          }
         }
        },
        "title": {
         "text": "Injuries and Deaths Over the Years (Log Scale)"
        },
        "xaxis": {
         "anchor": "y",
         "domain": [
          0,
          1
         ],
         "title": {
          "text": "Year"
         }
        },
        "yaxis": {
         "anchor": "x",
         "domain": [
          0,
          1
         ],
         "title": {
          "text": "Log Count"
         },
         "type": "log"
        }
       }
      }
     },
     "metadata": {},
     "output_type": "display_data"
    }
   ],
   "source": [
    "# Creating a time series plot with logarithmic scaling\n",
    "fig = px.line(df, x='Year', y=['Palestinians Injuries', 'Israelis Injuries', 'Palestinians Killed', 'Israelis Killed'],\n",
    "              title=\"Injuries and Deaths Over the Years (Log Scale)\",\n",
    "              labels={'value': 'Count', 'variable': 'Category'},\n",
    "              markers=True)\n",
    "\n",
    "# Update y-axis to be logarithmic scale\n",
    "fig.update_layout(\n",
    "    yaxis_type=\"log\",\n",
    "    title='Injuries and Deaths Over the Years (Log Scale)',\n",
    "    xaxis_title='Year',\n",
    "    yaxis_title='Log Count',\n",
    "    template='plotly_dark',\n",
    "    hovermode='x unified',\n",
    "    legend_title=\"Category\"\n",
    ")\n",
    "\n",
    "# Show the plot\n",
    "fig.show()"
   ]
  },
  {
   "cell_type": "markdown",
   "metadata": {},
   "source": [
    "## Interactive Monthly Breakdown of Injuries and Deaths\n",
    "\n",
    "This bar chart represents the **monthly distribution** of **Palestinians Injuries**, **Israelis Injuries**, **Palestinians Killed**, and **Israelis Killed**. The visualization will allow you to see which months were more severe in terms of injuries and deaths.\n",
    "\n",
    "Hovering over the bars will display the exact counts for each month."
   ]
  },
  {
   "cell_type": "code",
   "execution_count": 35,
   "metadata": {},
   "outputs": [
    {
     "data": {
      "application/vnd.plotly.v1+json": {
       "config": {
        "plotlyServerURL": "https://plot.ly"
       },
       "data": [
        {
         "alignmentgroup": "True",
         "hovertemplate": "Category=Palestinians Injuries<br>Month=%{x}<br>Count=%{y}<extra></extra>",
         "legendgroup": "Palestinians Injuries",
         "marker": {
          "color": "#636efa",
          "line": {
           "width": 0
          },
          "pattern": {
           "shape": ""
          }
         },
         "name": "Palestinians Injuries",
         "offsetgroup": "Palestinians Injuries",
         "opacity": 0.7,
         "orientation": "v",
         "showlegend": true,
         "textposition": "auto",
         "type": "bar",
         "x": [
          "DECEMBER",
          "NOVEMBER",
          "OCTOBER",
          "SEPTEMBER",
          "DECEMBER",
          "NOVEMBER",
          "OCTOBER",
          "SEPTEMBER",
          "AUGUST",
          "JULY",
          "JUNE",
          "MAY",
          "APRIL",
          "MARCH",
          "FEBRUARY",
          "JANUARY",
          "DECEMBER",
          "NOVEMBER",
          "OCTOBER",
          "SEPTEMBER",
          "AUGUST",
          "JULY",
          "JUNE",
          "MAY",
          "APRIL",
          "MARCH",
          "FEBRUARY",
          "JANUARY",
          "DECEMBER",
          "NOVEMBER",
          "OCTOBER",
          "SEPTEMBER",
          "AUGUST",
          "JULY",
          "JUNE",
          "MAY",
          "APRIL",
          "MARCH",
          "FEBRUARY",
          "JANUARY",
          "DECEMBER",
          "NOVEMBER",
          "OCTOBER",
          "SEPTEMBER",
          "AUGUST",
          "JULY",
          "JUNE",
          "MAY",
          "APRIL",
          "MARCH",
          "FEBRUARY",
          "JANUARY",
          "DECEMBER",
          "NOVEMBER",
          "OCTOBER",
          "SEPTEMBER",
          "AUGUST",
          "JULY",
          "JUNE",
          "MAY",
          "APRIL",
          "MARCH",
          "FEBRUARY",
          "JANUARY",
          "DECEMBER",
          "NOVEMBER",
          "OCTOBER",
          "SEPTEMBER",
          "AUGUST",
          "JULY",
          "JUNE",
          "MAY",
          "APRIL",
          "MARCH",
          "FEBRUARY",
          "JANUARY",
          "DECEMBER",
          "NOVEMBER",
          "OCTOBER",
          "SEPTEMBER",
          "AUGUST",
          "JULY",
          "JUNE",
          "MAY",
          "APRIL",
          "MARCH",
          "FEBRUARY",
          "JANUARY",
          "DECEMBER",
          "NOVEMBER",
          "OCTOBER",
          "SEPTEMBER",
          "AUGUST",
          "JULY",
          "JUNE",
          "MAY",
          "APRIL",
          "MARCH",
          "FEBRUARY",
          "JANUARY",
          "DECEMBER",
          "NOVEMBER",
          "OCTOBER",
          "SEPTEMBER",
          "AUGUST",
          "JULY",
          "JUNE",
          "MAY",
          "APRIL",
          "MARCH",
          "FEBRUARY",
          "JANUARY",
          "DECEMBER",
          "NOVEMBER",
          "OCTOBER",
          "SEPTEMBER",
          "AUGUST",
          "JULY",
          "JUNE",
          "MAY",
          "APRIL",
          "MARCH",
          "FEBRUARY",
          "JANUARY",
          "DECEMBER",
          "NOVEMBER",
          "OCTOBER",
          "SEPTEMBER",
          "AUGUST",
          "JULY",
          "JUNE",
          "MAY",
          "APRIL",
          "MARCH",
          "FEBRUARY",
          "JANUARY",
          "DECEMBER",
          "NOVEMBER",
          "OCTOBER",
          "SEPTEMBER",
          "AUGUST",
          "JULY",
          "JUNE",
          "MAY",
          "APRIL",
          "MARCH",
          "FEBRUARY",
          "JANUARY",
          "DECEMBER",
          "NOVEMBER",
          "OCTOBER",
          "SEPTEMBER",
          "AUGUST",
          "JULY",
          "JUNE",
          "MAY",
          "APRIL",
          "MARCH",
          "FEBRUARY",
          "JANUARY",
          "DECEMBER",
          "NOVEMBER",
          "OCTOBER",
          "SEPTEMBER",
          "AUGUST",
          "JULY",
          "JUNE",
          "MAY",
          "APRIL",
          "MARCH",
          "FEBRUARY",
          "JANUARY",
          "DECEMBER",
          "NOVEMBER",
          "OCTOBER",
          "SEPTEMBER",
          "AUGUST",
          "JULY",
          "JUNE",
          "MAY",
          "APRIL",
          "MARCH",
          "FEBRUARY",
          "JANUARY",
          "DECEMBER",
          "NOVEMBER",
          "OCTOBER",
          "SEPTEMBER",
          "AUGUST",
          "JULY",
          "JUNE",
          "MAY",
          "APRIL",
          "MARCH",
          "FEBRUARY",
          "JANUARY",
          "DECEMBER",
          "NOVEMBER",
          "OCTOBER",
          "SEPTEMBER",
          "AUGUST",
          "JULY",
          "JUNE",
          "MAY & JUNE",
          "APRIL",
          "MARCH",
          "FEBRUARY",
          "JANUARY",
          "DECEMBER",
          "NOVEMBER",
          "OCTOBER",
          "SEPTEMBER",
          "AUGUST",
          "JULY",
          "JUNE",
          "MAY",
          "APRIL",
          "MARCH",
          "FEBRUARY",
          "JANUARY",
          "DECEMBER",
          "NOVEMBER",
          "OCTOBER",
          "SEPTEMBER",
          "AUGUST",
          "JULY",
          "JUNE",
          "MAY ",
          "APRIL",
          "MARCH",
          "FEBRUARY",
          "JANUARY",
          "DECEMBER",
          "NOVEMBER",
          "OCTOBER",
          "SEPTEMBER",
          "AUGUST",
          "JULY",
          "JUNE",
          "MAY ",
          "APRIL",
          "MARCH",
          "FEBRUARY",
          "JANUARY",
          "JANUARY",
          "FEBRUARY",
          "MARCH",
          "APRIL",
          "MAY",
          "JULY"
         ],
         "xaxis": "x",
         "y": [
          781,
          3838,
          5984,
          302,
          304,
          160,
          407,
          657,
          502,
          394,
          319,
          932,
          715,
          927,
          598,
          471,
          185,
          264,
          388,
          353,
          186,
          374,
          299,
          181,
          523,
          870,
          429,
          330,
          322,
          106,
          289,
          226,
          191,
          34,
          367,
          239,
          303,
          379,
          244,
          292,
          161,
          98,
          343,
          579,
          287,
          251,
          377,
          545,
          346,
          417,
          437,
          168,
          166,
          99,
          81,
          90,
          130,
          165,
          116,
          81,
          183,
          68,
          42,
          164,
          73,
          491,
          180,
          196,
          266,
          799,
          198,
          257,
          254,
          203,
          194,
          88,
          13720,
          127,
          152,
          135,
          154,
          67,
          162,
          281,
          115,
          153,
          256,
          104,
          302,
          302,
          302,
          302,
          302,
          302,
          302,
          302,
          302,
          302,
          302,
          302,
          195,
          30,
          88,
          80,
          36,
          26,
          89,
          82,
          136,
          87,
          65,
          5557,
          105,
          87,
          147,
          148,
          46,
          85,
          104,
          118,
          119,
          402,
          92,
          86,
          210,
          63,
          110,
          149,
          191,
          156,
          159,
          397,
          193,
          204,
          135,
          143,
          198,
          2252,
          89,
          161,
          169,
          202,
          231,
          703,
          169,
          404,
          256,
          60,
          159,
          320,
          105,
          374,
          137,
          138,
          124,
          429,
          656,
          493,
          766,
          263,
          350,
          984,
          291,
          209,
          13735,
          302,
          326,
          265,
          302,
          228,
          216,
          219,
          2222,
          3888,
          7555,
          413,
          196,
          141,
          78,
          284,
          223,
          176,
          167,
          134,
          105,
          97,
          169,
          210,
          261,
          256,
          167,
          434,
          286,
          348,
          514,
          582,
          4580,
          89,
          120,
          118,
          135,
          1772,
          790,
          302,
          150,
          189,
          97,
          44,
          302,
          302,
          302,
          302,
          302,
          302,
          302,
          302,
          302,
          302,
          302,
          302,
          302,
          302,
          302,
          302,
          302,
          302,
          302,
          302,
          302,
          302,
          302,
          302,
          302,
          302,
          302,
          302,
          302,
          302,
          302,
          302,
          302,
          302,
          302,
          302,
          302,
          302,
          302,
          302,
          302,
          111475
         ],
         "yaxis": "y"
        },
        {
         "alignmentgroup": "True",
         "hovertemplate": "Category=Israelis Injuries<br>Month=%{x}<br>Count=%{y}<extra></extra>",
         "legendgroup": "Israelis Injuries",
         "marker": {
          "color": "#EF553B",
          "line": {
           "width": 0
          },
          "pattern": {
           "shape": ""
          }
         },
         "name": "Israelis Injuries",
         "offsetgroup": "Israelis Injuries",
         "opacity": 0.7,
         "orientation": "v",
         "showlegend": true,
         "textposition": "auto",
         "type": "bar",
         "x": [
          "DECEMBER",
          "NOVEMBER",
          "OCTOBER",
          "SEPTEMBER",
          "DECEMBER",
          "NOVEMBER",
          "OCTOBER",
          "SEPTEMBER",
          "AUGUST",
          "JULY",
          "JUNE",
          "MAY",
          "APRIL",
          "MARCH",
          "FEBRUARY",
          "JANUARY",
          "DECEMBER",
          "NOVEMBER",
          "OCTOBER",
          "SEPTEMBER",
          "AUGUST",
          "JULY",
          "JUNE",
          "MAY",
          "APRIL",
          "MARCH",
          "FEBRUARY",
          "JANUARY",
          "DECEMBER",
          "NOVEMBER",
          "OCTOBER",
          "SEPTEMBER",
          "AUGUST",
          "JULY",
          "JUNE",
          "MAY",
          "APRIL",
          "MARCH",
          "FEBRUARY",
          "JANUARY",
          "DECEMBER",
          "NOVEMBER",
          "OCTOBER",
          "SEPTEMBER",
          "AUGUST",
          "JULY",
          "JUNE",
          "MAY",
          "APRIL",
          "MARCH",
          "FEBRUARY",
          "JANUARY",
          "DECEMBER",
          "NOVEMBER",
          "OCTOBER",
          "SEPTEMBER",
          "AUGUST",
          "JULY",
          "JUNE",
          "MAY",
          "APRIL",
          "MARCH",
          "FEBRUARY",
          "JANUARY",
          "DECEMBER",
          "NOVEMBER",
          "OCTOBER",
          "SEPTEMBER",
          "AUGUST",
          "JULY",
          "JUNE",
          "MAY",
          "APRIL",
          "MARCH",
          "FEBRUARY",
          "JANUARY",
          "DECEMBER",
          "NOVEMBER",
          "OCTOBER",
          "SEPTEMBER",
          "AUGUST",
          "JULY",
          "JUNE",
          "MAY",
          "APRIL",
          "MARCH",
          "FEBRUARY",
          "JANUARY",
          "DECEMBER",
          "NOVEMBER",
          "OCTOBER",
          "SEPTEMBER",
          "AUGUST",
          "JULY",
          "JUNE",
          "MAY",
          "APRIL",
          "MARCH",
          "FEBRUARY",
          "JANUARY",
          "DECEMBER",
          "NOVEMBER",
          "OCTOBER",
          "SEPTEMBER",
          "AUGUST",
          "JULY",
          "JUNE",
          "MAY",
          "APRIL",
          "MARCH",
          "FEBRUARY",
          "JANUARY",
          "DECEMBER",
          "NOVEMBER",
          "OCTOBER",
          "SEPTEMBER",
          "AUGUST",
          "JULY",
          "JUNE",
          "MAY",
          "APRIL",
          "MARCH",
          "FEBRUARY",
          "JANUARY",
          "DECEMBER",
          "NOVEMBER",
          "OCTOBER",
          "SEPTEMBER",
          "AUGUST",
          "JULY",
          "JUNE",
          "MAY",
          "APRIL",
          "MARCH",
          "FEBRUARY",
          "JANUARY",
          "DECEMBER",
          "NOVEMBER",
          "OCTOBER",
          "SEPTEMBER",
          "AUGUST",
          "JULY",
          "JUNE",
          "MAY",
          "APRIL",
          "MARCH",
          "FEBRUARY",
          "JANUARY",
          "DECEMBER",
          "NOVEMBER",
          "OCTOBER",
          "SEPTEMBER",
          "AUGUST",
          "JULY",
          "JUNE",
          "MAY",
          "APRIL",
          "MARCH",
          "FEBRUARY",
          "JANUARY",
          "DECEMBER",
          "NOVEMBER",
          "OCTOBER",
          "SEPTEMBER",
          "AUGUST",
          "JULY",
          "JUNE",
          "MAY",
          "APRIL",
          "MARCH",
          "FEBRUARY",
          "JANUARY",
          "DECEMBER",
          "NOVEMBER",
          "OCTOBER",
          "SEPTEMBER",
          "AUGUST",
          "JULY",
          "JUNE",
          "MAY",
          "APRIL",
          "MARCH",
          "FEBRUARY",
          "JANUARY",
          "DECEMBER",
          "NOVEMBER",
          "OCTOBER",
          "SEPTEMBER",
          "AUGUST",
          "JULY",
          "JUNE",
          "MAY",
          "APRIL",
          "MARCH",
          "FEBRUARY",
          "JANUARY",
          "DECEMBER",
          "NOVEMBER",
          "OCTOBER",
          "SEPTEMBER",
          "AUGUST",
          "JULY",
          "JUNE",
          "MAY & JUNE",
          "APRIL",
          "MARCH",
          "FEBRUARY",
          "JANUARY",
          "DECEMBER",
          "NOVEMBER",
          "OCTOBER",
          "SEPTEMBER",
          "AUGUST",
          "JULY",
          "JUNE",
          "MAY",
          "APRIL",
          "MARCH",
          "FEBRUARY",
          "JANUARY",
          "DECEMBER",
          "NOVEMBER",
          "OCTOBER",
          "SEPTEMBER",
          "AUGUST",
          "JULY",
          "JUNE",
          "MAY ",
          "APRIL",
          "MARCH",
          "FEBRUARY",
          "JANUARY",
          "DECEMBER",
          "NOVEMBER",
          "OCTOBER",
          "SEPTEMBER",
          "AUGUST",
          "JULY",
          "JUNE",
          "MAY ",
          "APRIL",
          "MARCH",
          "FEBRUARY",
          "JANUARY",
          "JANUARY",
          "FEBRUARY",
          "MARCH",
          "APRIL",
          "MAY",
          "JULY"
         ],
         "xaxis": "x",
         "y": [
          22,
          48,
          32,
          18,
          17,
          6,
          30,
          16,
          21,
          39,
          5,
          46,
          17,
          46,
          15,
          25,
          18,
          11,
          32,
          16,
          18,
          18,
          18,
          18,
          13,
          33,
          24,
          6,
          5,
          12,
          26,
          7,
          20,
          44,
          13,
          11,
          18,
          21,
          55,
          26,
          11,
          19,
          20,
          14,
          19,
          55,
          21,
          11,
          20,
          35,
          12,
          16,
          88,
          17,
          46,
          25,
          16,
          105,
          20,
          17,
          19,
          17,
          62,
          61,
          12,
          30,
          19,
          24,
          10,
          41,
          26,
          14,
          78,
          46,
          30,
          47,
          20,
          6,
          13,
          87,
          56,
          7,
          19,
          30,
          22,
          15,
          35,
          12,
          18,
          18,
          18,
          18,
          18,
          18,
          18,
          18,
          18,
          18,
          18,
          18,
          27,
          44,
          30,
          27,
          44,
          44,
          7,
          26,
          25,
          13,
          4,
          28,
          5,
          7,
          5,
          12,
          11,
          0,
          21,
          17,
          10,
          59,
          14,
          15,
          6,
          3,
          9,
          5,
          22,
          3,
          9,
          36,
          10,
          13,
          3,
          5,
          6,
          253,
          1,
          7,
          5,
          12,
          4,
          15,
          9,
          16,
          14,
          3,
          4,
          5,
          15,
          9,
          5,
          11,
          1,
          33,
          17,
          21,
          24,
          6,
          15,
          55,
          32,
          22,
          2347,
          18,
          5,
          28,
          15,
          5,
          6,
          9,
          43,
          50,
          80,
          39,
          20,
          8,
          14,
          11,
          13,
          13,
          5,
          8,
          18,
          7,
          17,
          14,
          2,
          9,
          30,
          2,
          21,
          27,
          8,
          16,
          10,
          8,
          5,
          5,
          2,
          23,
          20,
          18,
          12,
          19,
          37,
          17,
          18,
          18,
          18,
          18,
          18,
          18,
          18,
          18,
          18,
          18,
          18,
          18,
          18,
          18,
          18,
          18,
          18,
          18,
          18,
          18,
          18,
          18,
          18,
          18,
          18,
          18,
          18,
          18,
          18,
          18,
          18,
          18,
          18,
          18,
          18,
          18,
          18,
          18,
          18,
          18,
          18,
          5160
         ],
         "yaxis": "y"
        },
        {
         "alignmentgroup": "True",
         "hovertemplate": "Category=Palestinians Killed<br>Month=%{x}<br>Count=%{y}<extra></extra>",
         "legendgroup": "Palestinians Killed",
         "marker": {
          "color": "#00cc96",
          "line": {
           "width": 0
          },
          "pattern": {
           "shape": ""
          }
         },
         "name": "Palestinians Killed",
         "offsetgroup": "Palestinians Killed",
         "opacity": 0.7,
         "orientation": "v",
         "showlegend": true,
         "textposition": "auto",
         "type": "bar",
         "x": [
          "DECEMBER",
          "NOVEMBER",
          "OCTOBER",
          "SEPTEMBER",
          "DECEMBER",
          "NOVEMBER",
          "OCTOBER",
          "SEPTEMBER",
          "AUGUST",
          "JULY",
          "JUNE",
          "MAY",
          "APRIL",
          "MARCH",
          "FEBRUARY",
          "JANUARY",
          "DECEMBER",
          "NOVEMBER",
          "OCTOBER",
          "SEPTEMBER",
          "AUGUST",
          "JULY",
          "JUNE",
          "MAY",
          "APRIL",
          "MARCH",
          "FEBRUARY",
          "JANUARY",
          "DECEMBER",
          "NOVEMBER",
          "OCTOBER",
          "SEPTEMBER",
          "AUGUST",
          "JULY",
          "JUNE",
          "MAY",
          "APRIL",
          "MARCH",
          "FEBRUARY",
          "JANUARY",
          "DECEMBER",
          "NOVEMBER",
          "OCTOBER",
          "SEPTEMBER",
          "AUGUST",
          "JULY",
          "JUNE",
          "MAY",
          "APRIL",
          "MARCH",
          "FEBRUARY",
          "JANUARY",
          "DECEMBER",
          "NOVEMBER",
          "OCTOBER",
          "SEPTEMBER",
          "AUGUST",
          "JULY",
          "JUNE",
          "MAY",
          "APRIL",
          "MARCH",
          "FEBRUARY",
          "JANUARY",
          "DECEMBER",
          "NOVEMBER",
          "OCTOBER",
          "SEPTEMBER",
          "AUGUST",
          "JULY",
          "JUNE",
          "MAY",
          "APRIL",
          "MARCH",
          "FEBRUARY",
          "JANUARY",
          "DECEMBER",
          "NOVEMBER",
          "OCTOBER",
          "SEPTEMBER",
          "AUGUST",
          "JULY",
          "JUNE",
          "MAY",
          "APRIL",
          "MARCH",
          "FEBRUARY",
          "JANUARY",
          "DECEMBER",
          "NOVEMBER",
          "OCTOBER",
          "SEPTEMBER",
          "AUGUST",
          "JULY",
          "JUNE",
          "MAY",
          "APRIL",
          "MARCH",
          "FEBRUARY",
          "JANUARY",
          "DECEMBER",
          "NOVEMBER",
          "OCTOBER",
          "SEPTEMBER",
          "AUGUST",
          "JULY",
          "JUNE",
          "MAY",
          "APRIL",
          "MARCH",
          "FEBRUARY",
          "JANUARY",
          "DECEMBER",
          "NOVEMBER",
          "OCTOBER",
          "SEPTEMBER",
          "AUGUST",
          "JULY",
          "JUNE",
          "MAY",
          "APRIL",
          "MARCH",
          "FEBRUARY",
          "JANUARY",
          "DECEMBER",
          "NOVEMBER",
          "OCTOBER",
          "SEPTEMBER",
          "AUGUST",
          "JULY",
          "JUNE",
          "MAY",
          "APRIL",
          "MARCH",
          "FEBRUARY",
          "JANUARY",
          "DECEMBER",
          "NOVEMBER",
          "OCTOBER",
          "SEPTEMBER",
          "AUGUST",
          "JULY",
          "JUNE",
          "MAY",
          "APRIL",
          "MARCH",
          "FEBRUARY",
          "JANUARY",
          "DECEMBER",
          "NOVEMBER",
          "OCTOBER",
          "SEPTEMBER",
          "AUGUST",
          "JULY",
          "JUNE",
          "MAY",
          "APRIL",
          "MARCH",
          "FEBRUARY",
          "JANUARY",
          "DECEMBER",
          "NOVEMBER",
          "OCTOBER",
          "SEPTEMBER",
          "AUGUST",
          "JULY",
          "JUNE",
          "MAY",
          "APRIL",
          "MARCH",
          "FEBRUARY",
          "JANUARY",
          "DECEMBER",
          "NOVEMBER",
          "OCTOBER",
          "SEPTEMBER",
          "AUGUST",
          "JULY",
          "JUNE",
          "MAY",
          "APRIL",
          "MARCH",
          "FEBRUARY",
          "JANUARY",
          "DECEMBER",
          "NOVEMBER",
          "OCTOBER",
          "SEPTEMBER",
          "AUGUST",
          "JULY",
          "JUNE",
          "MAY",
          "APRIL",
          "MARCH",
          "FEBRUARY",
          "JANUARY",
          "DECEMBER",
          "NOVEMBER",
          "OCTOBER",
          "SEPTEMBER",
          "AUGUST",
          "JULY",
          "JUNE",
          "MAY & JUNE",
          "APRIL",
          "MARCH",
          "FEBRUARY",
          "JANUARY",
          "DECEMBER",
          "NOVEMBER",
          "OCTOBER",
          "SEPTEMBER",
          "AUGUST",
          "JULY",
          "JUNE",
          "MAY",
          "APRIL",
          "MARCH",
          "FEBRUARY",
          "JANUARY",
          "DECEMBER",
          "NOVEMBER",
          "OCTOBER",
          "SEPTEMBER",
          "AUGUST",
          "JULY",
          "JUNE",
          "MAY ",
          "APRIL",
          "MARCH",
          "FEBRUARY",
          "JANUARY",
          "DECEMBER",
          "NOVEMBER",
          "OCTOBER",
          "SEPTEMBER",
          "AUGUST",
          "JULY",
          "JUNE",
          "MAY ",
          "APRIL",
          "MARCH",
          "FEBRUARY",
          "JANUARY",
          "JANUARY",
          "FEBRUARY",
          "MARCH",
          "APRIL",
          "MAY",
          "JULY"
         ],
         "xaxis": "x",
         "y": [
          51,
          112,
          104,
          16,
          67,
          39,
          89,
          59,
          37,
          32,
          13,
          46,
          23,
          27,
          19,
          19,
          72,
          46,
          66,
          51,
          53,
          43,
          57,
          48,
          246,
          237,
          85,
          28,
          48,
          30,
          58,
          29,
          26,
          4,
          59,
          61,
          59,
          85,
          69,
          60,
          61,
          42,
          145,
          112,
          39,
          0,
          59,
          113,
          55,
          79,
          54,
          27,
          20,
          15,
          22,
          17,
          11,
          25,
          5,
          10,
          5,
          1,
          9,
          50,
          14,
          134,
          61,
          32,
          74,
          180,
          43,
          37,
          31,
          15,
          31,
          13,
          61,
          31,
          36,
          34,
          47,
          27,
          40,
          62,
          16,
          9,
          12,
          10,
          432,
          15,
          4,
          3,
          0,
          8,
          30,
          40,
          72,
          114,
          79,
          89,
          6,
          1,
          0,
          9,
          6,
          2,
          4,
          6,
          6,
          9,
          9,
          978,
          13,
          3,
          6,
          13,
          2,
          5,
          15,
          2,
          5,
          8,
          2,
          8,
          8,
          4,
          12,
          2,
          30,
          4,
          0,
          2,
          24,
          15,
          6,
          10,
          2,
          181,
          12,
          8,
          1,
          3,
          15,
          0,
          1,
          28,
          2,
          2,
          5,
          9,
          4,
          2,
          6,
          1,
          0,
          0,
          3,
          2,
          1,
          5,
          5,
          8,
          8,
          20,
          614,
          1590,
          10,
          3,
          0,
          12,
          3,
          6,
          40,
          34,
          74,
          4,
          9,
          7,
          3,
          1,
          7,
          1,
          4,
          4,
          5,
          6,
          8,
          11,
          3,
          9,
          7,
          3,
          3,
          23,
          17,
          20,
          18,
          2,
          13,
          2,
          2,
          20,
          8,
          6,
          5,
          7,
          6,
          7,
          14,
          25,
          32,
          25,
          16,
          24,
          18,
          66,
          34,
          20,
          9,
          7,
          1,
          43,
          3,
          5,
          11,
          4,
          3,
          33,
          8,
          21,
          8,
          9,
          2,
          2,
          2,
          1,
          3,
          1,
          1,
          4,
          1,
          2,
          9,
          6,
          4,
          1,
          4,
          1,
          26,
          10000
         ],
         "yaxis": "y"
        },
        {
         "alignmentgroup": "True",
         "hovertemplate": "Category=Israelis Killed<br>Month=%{x}<br>Count=%{y}<extra></extra>",
         "legendgroup": "Israelis Killed",
         "marker": {
          "color": "#ab63fa",
          "line": {
           "width": 0
          },
          "pattern": {
           "shape": ""
          }
         },
         "name": "Israelis Killed",
         "offsetgroup": "Israelis Killed",
         "opacity": 0.7,
         "orientation": "v",
         "showlegend": true,
         "textposition": "auto",
         "type": "bar",
         "x": [
          "DECEMBER",
          "NOVEMBER",
          "OCTOBER",
          "SEPTEMBER",
          "DECEMBER",
          "NOVEMBER",
          "OCTOBER",
          "SEPTEMBER",
          "AUGUST",
          "JULY",
          "JUNE",
          "MAY",
          "APRIL",
          "MARCH",
          "FEBRUARY",
          "JANUARY",
          "DECEMBER",
          "NOVEMBER",
          "OCTOBER",
          "SEPTEMBER",
          "AUGUST",
          "JULY",
          "JUNE",
          "MAY",
          "APRIL",
          "MARCH",
          "FEBRUARY",
          "JANUARY",
          "DECEMBER",
          "NOVEMBER",
          "OCTOBER",
          "SEPTEMBER",
          "AUGUST",
          "JULY",
          "JUNE",
          "MAY",
          "APRIL",
          "MARCH",
          "FEBRUARY",
          "JANUARY",
          "DECEMBER",
          "NOVEMBER",
          "OCTOBER",
          "SEPTEMBER",
          "AUGUST",
          "JULY",
          "JUNE",
          "MAY",
          "APRIL",
          "MARCH",
          "FEBRUARY",
          "JANUARY",
          "DECEMBER",
          "NOVEMBER",
          "OCTOBER",
          "SEPTEMBER",
          "AUGUST",
          "JULY",
          "JUNE",
          "MAY",
          "APRIL",
          "MARCH",
          "FEBRUARY",
          "JANUARY",
          "DECEMBER",
          "NOVEMBER",
          "OCTOBER",
          "SEPTEMBER",
          "AUGUST",
          "JULY",
          "JUNE",
          "MAY",
          "APRIL",
          "MARCH",
          "FEBRUARY",
          "JANUARY",
          "DECEMBER",
          "NOVEMBER",
          "OCTOBER",
          "SEPTEMBER",
          "AUGUST",
          "JULY",
          "JUNE",
          "MAY",
          "APRIL",
          "MARCH",
          "FEBRUARY",
          "JANUARY",
          "DECEMBER",
          "NOVEMBER",
          "OCTOBER",
          "SEPTEMBER",
          "AUGUST",
          "JULY",
          "JUNE",
          "MAY",
          "APRIL",
          "MARCH",
          "FEBRUARY",
          "JANUARY",
          "DECEMBER",
          "NOVEMBER",
          "OCTOBER",
          "SEPTEMBER",
          "AUGUST",
          "JULY",
          "JUNE",
          "MAY",
          "APRIL",
          "MARCH",
          "FEBRUARY",
          "JANUARY",
          "DECEMBER",
          "NOVEMBER",
          "OCTOBER",
          "SEPTEMBER",
          "AUGUST",
          "JULY",
          "JUNE",
          "MAY",
          "APRIL",
          "MARCH",
          "FEBRUARY",
          "JANUARY",
          "DECEMBER",
          "NOVEMBER",
          "OCTOBER",
          "SEPTEMBER",
          "AUGUST",
          "JULY",
          "JUNE",
          "MAY",
          "APRIL",
          "MARCH",
          "FEBRUARY",
          "JANUARY",
          "DECEMBER",
          "NOVEMBER",
          "OCTOBER",
          "SEPTEMBER",
          "AUGUST",
          "JULY",
          "JUNE",
          "MAY",
          "APRIL",
          "MARCH",
          "FEBRUARY",
          "JANUARY",
          "DECEMBER",
          "NOVEMBER",
          "OCTOBER",
          "SEPTEMBER",
          "AUGUST",
          "JULY",
          "JUNE",
          "MAY",
          "APRIL",
          "MARCH",
          "FEBRUARY",
          "JANUARY",
          "DECEMBER",
          "NOVEMBER",
          "OCTOBER",
          "SEPTEMBER",
          "AUGUST",
          "JULY",
          "JUNE",
          "MAY",
          "APRIL",
          "MARCH",
          "FEBRUARY",
          "JANUARY",
          "DECEMBER",
          "NOVEMBER",
          "OCTOBER",
          "SEPTEMBER",
          "AUGUST",
          "JULY",
          "JUNE",
          "MAY",
          "APRIL",
          "MARCH",
          "FEBRUARY",
          "JANUARY",
          "DECEMBER",
          "NOVEMBER",
          "OCTOBER",
          "SEPTEMBER",
          "AUGUST",
          "JULY",
          "JUNE",
          "MAY",
          "APRIL",
          "MARCH",
          "FEBRUARY",
          "JANUARY",
          "DECEMBER",
          "NOVEMBER",
          "OCTOBER",
          "SEPTEMBER",
          "AUGUST",
          "JULY",
          "JUNE",
          "MAY & JUNE",
          "APRIL",
          "MARCH",
          "FEBRUARY",
          "JANUARY",
          "DECEMBER",
          "NOVEMBER",
          "OCTOBER",
          "SEPTEMBER",
          "AUGUST",
          "JULY",
          "JUNE",
          "MAY",
          "APRIL",
          "MARCH",
          "FEBRUARY",
          "JANUARY",
          "DECEMBER",
          "NOVEMBER",
          "OCTOBER",
          "SEPTEMBER",
          "AUGUST",
          "JULY",
          "JUNE",
          "MAY ",
          "APRIL",
          "MARCH",
          "FEBRUARY",
          "JANUARY",
          "DECEMBER",
          "NOVEMBER",
          "OCTOBER",
          "SEPTEMBER",
          "AUGUST",
          "JULY",
          "JUNE",
          "MAY ",
          "APRIL",
          "MARCH",
          "FEBRUARY",
          "JANUARY",
          "JANUARY",
          "FEBRUARY",
          "MARCH",
          "APRIL",
          "MAY",
          "JULY"
         ],
         "xaxis": "x",
         "y": [
          8,
          22,
          10,
          1,
          36,
          14,
          14,
          13,
          26,
          10,
          28,
          17,
          7,
          8,
          13,
          6,
          7,
          40,
          22,
          13,
          13,
          25,
          57,
          29,
          46,
          122,
          29,
          16,
          6,
          4,
          27,
          21,
          25,
          2,
          28,
          13,
          6,
          23,
          8,
          22,
          8,
          3,
          3,
          11,
          17,
          0,
          3,
          19,
          3,
          11,
          11,
          15,
          8,
          1,
          10,
          1,
          0,
          8,
          4,
          1,
          0,
          0,
          5,
          13,
          0,
          0,
          0,
          1,
          1,
          2,
          3,
          0,
          7,
          5,
          1,
          0,
          2,
          1,
          2,
          0,
          0,
          1,
          0,
          2,
          0,
          0,
          1,
          3,
          4,
          0,
          1,
          0,
          4,
          4,
          1,
          2,
          8,
          12,
          2,
          1,
          1,
          0,
          0,
          0,
          0,
          0,
          0,
          1,
          1,
          0,
          0,
          6,
          0,
          0,
          0,
          0,
          4,
          0,
          1,
          0,
          0,
          2,
          2,
          0,
          0,
          0,
          0,
          2,
          1,
          0,
          0,
          0,
          2,
          5,
          0,
          0,
          0,
          6,
          0,
          0,
          0,
          0,
          1,
          0,
          0,
          0,
          0,
          0,
          1,
          1,
          1,
          2,
          0,
          0,
          0,
          0,
          1,
          0,
          0,
          0,
          0,
          10,
          2,
          0,
          9,
          59,
          3,
          1,
          1,
          0,
          0,
          0,
          2,
          8,
          10,
          1,
          0,
          0,
          2,
          0,
          1,
          0,
          0,
          0,
          0,
          0,
          2,
          0,
          0,
          1,
          5,
          0,
          0,
          0,
          2,
          2,
          0,
          2,
          1,
          3,
          0,
          5,
          1,
          0,
          1,
          0,
          0,
          6,
          2,
          1,
          2,
          1,
          0,
          2,
          0,
          1,
          0,
          3,
          1,
          1,
          0,
          0,
          0,
          1,
          2,
          1,
          0,
          4,
          0,
          2,
          1,
          0,
          1,
          0,
          0,
          0,
          1,
          0,
          0,
          1,
          0,
          0,
          0,
          0,
          0,
          0,
          0,
          0,
          3,
          1275
         ],
         "yaxis": "y"
        }
       ],
       "layout": {
        "barmode": "group",
        "hovermode": "x unified",
        "legend": {
         "title": {
          "text": "Category"
         },
         "tracegroupgap": 0
        },
        "template": {
         "data": {
          "bar": [
           {
            "error_x": {
             "color": "#f2f5fa"
            },
            "error_y": {
             "color": "#f2f5fa"
            },
            "marker": {
             "line": {
              "color": "rgb(17,17,17)",
              "width": 0.5
             },
             "pattern": {
              "fillmode": "overlay",
              "size": 10,
              "solidity": 0.2
             }
            },
            "type": "bar"
           }
          ],
          "barpolar": [
           {
            "marker": {
             "line": {
              "color": "rgb(17,17,17)",
              "width": 0.5
             },
             "pattern": {
              "fillmode": "overlay",
              "size": 10,
              "solidity": 0.2
             }
            },
            "type": "barpolar"
           }
          ],
          "carpet": [
           {
            "aaxis": {
             "endlinecolor": "#A2B1C6",
             "gridcolor": "#506784",
             "linecolor": "#506784",
             "minorgridcolor": "#506784",
             "startlinecolor": "#A2B1C6"
            },
            "baxis": {
             "endlinecolor": "#A2B1C6",
             "gridcolor": "#506784",
             "linecolor": "#506784",
             "minorgridcolor": "#506784",
             "startlinecolor": "#A2B1C6"
            },
            "type": "carpet"
           }
          ],
          "choropleth": [
           {
            "colorbar": {
             "outlinewidth": 0,
             "ticks": ""
            },
            "type": "choropleth"
           }
          ],
          "contour": [
           {
            "colorbar": {
             "outlinewidth": 0,
             "ticks": ""
            },
            "colorscale": [
             [
              0,
              "#0d0887"
             ],
             [
              0.1111111111111111,
              "#46039f"
             ],
             [
              0.2222222222222222,
              "#7201a8"
             ],
             [
              0.3333333333333333,
              "#9c179e"
             ],
             [
              0.4444444444444444,
              "#bd3786"
             ],
             [
              0.5555555555555556,
              "#d8576b"
             ],
             [
              0.6666666666666666,
              "#ed7953"
             ],
             [
              0.7777777777777778,
              "#fb9f3a"
             ],
             [
              0.8888888888888888,
              "#fdca26"
             ],
             [
              1,
              "#f0f921"
             ]
            ],
            "type": "contour"
           }
          ],
          "contourcarpet": [
           {
            "colorbar": {
             "outlinewidth": 0,
             "ticks": ""
            },
            "type": "contourcarpet"
           }
          ],
          "heatmap": [
           {
            "colorbar": {
             "outlinewidth": 0,
             "ticks": ""
            },
            "colorscale": [
             [
              0,
              "#0d0887"
             ],
             [
              0.1111111111111111,
              "#46039f"
             ],
             [
              0.2222222222222222,
              "#7201a8"
             ],
             [
              0.3333333333333333,
              "#9c179e"
             ],
             [
              0.4444444444444444,
              "#bd3786"
             ],
             [
              0.5555555555555556,
              "#d8576b"
             ],
             [
              0.6666666666666666,
              "#ed7953"
             ],
             [
              0.7777777777777778,
              "#fb9f3a"
             ],
             [
              0.8888888888888888,
              "#fdca26"
             ],
             [
              1,
              "#f0f921"
             ]
            ],
            "type": "heatmap"
           }
          ],
          "heatmapgl": [
           {
            "colorbar": {
             "outlinewidth": 0,
             "ticks": ""
            },
            "colorscale": [
             [
              0,
              "#0d0887"
             ],
             [
              0.1111111111111111,
              "#46039f"
             ],
             [
              0.2222222222222222,
              "#7201a8"
             ],
             [
              0.3333333333333333,
              "#9c179e"
             ],
             [
              0.4444444444444444,
              "#bd3786"
             ],
             [
              0.5555555555555556,
              "#d8576b"
             ],
             [
              0.6666666666666666,
              "#ed7953"
             ],
             [
              0.7777777777777778,
              "#fb9f3a"
             ],
             [
              0.8888888888888888,
              "#fdca26"
             ],
             [
              1,
              "#f0f921"
             ]
            ],
            "type": "heatmapgl"
           }
          ],
          "histogram": [
           {
            "marker": {
             "pattern": {
              "fillmode": "overlay",
              "size": 10,
              "solidity": 0.2
             }
            },
            "type": "histogram"
           }
          ],
          "histogram2d": [
           {
            "colorbar": {
             "outlinewidth": 0,
             "ticks": ""
            },
            "colorscale": [
             [
              0,
              "#0d0887"
             ],
             [
              0.1111111111111111,
              "#46039f"
             ],
             [
              0.2222222222222222,
              "#7201a8"
             ],
             [
              0.3333333333333333,
              "#9c179e"
             ],
             [
              0.4444444444444444,
              "#bd3786"
             ],
             [
              0.5555555555555556,
              "#d8576b"
             ],
             [
              0.6666666666666666,
              "#ed7953"
             ],
             [
              0.7777777777777778,
              "#fb9f3a"
             ],
             [
              0.8888888888888888,
              "#fdca26"
             ],
             [
              1,
              "#f0f921"
             ]
            ],
            "type": "histogram2d"
           }
          ],
          "histogram2dcontour": [
           {
            "colorbar": {
             "outlinewidth": 0,
             "ticks": ""
            },
            "colorscale": [
             [
              0,
              "#0d0887"
             ],
             [
              0.1111111111111111,
              "#46039f"
             ],
             [
              0.2222222222222222,
              "#7201a8"
             ],
             [
              0.3333333333333333,
              "#9c179e"
             ],
             [
              0.4444444444444444,
              "#bd3786"
             ],
             [
              0.5555555555555556,
              "#d8576b"
             ],
             [
              0.6666666666666666,
              "#ed7953"
             ],
             [
              0.7777777777777778,
              "#fb9f3a"
             ],
             [
              0.8888888888888888,
              "#fdca26"
             ],
             [
              1,
              "#f0f921"
             ]
            ],
            "type": "histogram2dcontour"
           }
          ],
          "mesh3d": [
           {
            "colorbar": {
             "outlinewidth": 0,
             "ticks": ""
            },
            "type": "mesh3d"
           }
          ],
          "parcoords": [
           {
            "line": {
             "colorbar": {
              "outlinewidth": 0,
              "ticks": ""
             }
            },
            "type": "parcoords"
           }
          ],
          "pie": [
           {
            "automargin": true,
            "type": "pie"
           }
          ],
          "scatter": [
           {
            "marker": {
             "line": {
              "color": "#283442"
             }
            },
            "type": "scatter"
           }
          ],
          "scatter3d": [
           {
            "line": {
             "colorbar": {
              "outlinewidth": 0,
              "ticks": ""
             }
            },
            "marker": {
             "colorbar": {
              "outlinewidth": 0,
              "ticks": ""
             }
            },
            "type": "scatter3d"
           }
          ],
          "scattercarpet": [
           {
            "marker": {
             "colorbar": {
              "outlinewidth": 0,
              "ticks": ""
             }
            },
            "type": "scattercarpet"
           }
          ],
          "scattergeo": [
           {
            "marker": {
             "colorbar": {
              "outlinewidth": 0,
              "ticks": ""
             }
            },
            "type": "scattergeo"
           }
          ],
          "scattergl": [
           {
            "marker": {
             "line": {
              "color": "#283442"
             }
            },
            "type": "scattergl"
           }
          ],
          "scattermapbox": [
           {
            "marker": {
             "colorbar": {
              "outlinewidth": 0,
              "ticks": ""
             }
            },
            "type": "scattermapbox"
           }
          ],
          "scatterpolar": [
           {
            "marker": {
             "colorbar": {
              "outlinewidth": 0,
              "ticks": ""
             }
            },
            "type": "scatterpolar"
           }
          ],
          "scatterpolargl": [
           {
            "marker": {
             "colorbar": {
              "outlinewidth": 0,
              "ticks": ""
             }
            },
            "type": "scatterpolargl"
           }
          ],
          "scatterternary": [
           {
            "marker": {
             "colorbar": {
              "outlinewidth": 0,
              "ticks": ""
             }
            },
            "type": "scatterternary"
           }
          ],
          "surface": [
           {
            "colorbar": {
             "outlinewidth": 0,
             "ticks": ""
            },
            "colorscale": [
             [
              0,
              "#0d0887"
             ],
             [
              0.1111111111111111,
              "#46039f"
             ],
             [
              0.2222222222222222,
              "#7201a8"
             ],
             [
              0.3333333333333333,
              "#9c179e"
             ],
             [
              0.4444444444444444,
              "#bd3786"
             ],
             [
              0.5555555555555556,
              "#d8576b"
             ],
             [
              0.6666666666666666,
              "#ed7953"
             ],
             [
              0.7777777777777778,
              "#fb9f3a"
             ],
             [
              0.8888888888888888,
              "#fdca26"
             ],
             [
              1,
              "#f0f921"
             ]
            ],
            "type": "surface"
           }
          ],
          "table": [
           {
            "cells": {
             "fill": {
              "color": "#506784"
             },
             "line": {
              "color": "rgb(17,17,17)"
             }
            },
            "header": {
             "fill": {
              "color": "#2a3f5f"
             },
             "line": {
              "color": "rgb(17,17,17)"
             }
            },
            "type": "table"
           }
          ]
         },
         "layout": {
          "annotationdefaults": {
           "arrowcolor": "#f2f5fa",
           "arrowhead": 0,
           "arrowwidth": 1
          },
          "autotypenumbers": "strict",
          "coloraxis": {
           "colorbar": {
            "outlinewidth": 0,
            "ticks": ""
           }
          },
          "colorscale": {
           "diverging": [
            [
             0,
             "#8e0152"
            ],
            [
             0.1,
             "#c51b7d"
            ],
            [
             0.2,
             "#de77ae"
            ],
            [
             0.3,
             "#f1b6da"
            ],
            [
             0.4,
             "#fde0ef"
            ],
            [
             0.5,
             "#f7f7f7"
            ],
            [
             0.6,
             "#e6f5d0"
            ],
            [
             0.7,
             "#b8e186"
            ],
            [
             0.8,
             "#7fbc41"
            ],
            [
             0.9,
             "#4d9221"
            ],
            [
             1,
             "#276419"
            ]
           ],
           "sequential": [
            [
             0,
             "#0d0887"
            ],
            [
             0.1111111111111111,
             "#46039f"
            ],
            [
             0.2222222222222222,
             "#7201a8"
            ],
            [
             0.3333333333333333,
             "#9c179e"
            ],
            [
             0.4444444444444444,
             "#bd3786"
            ],
            [
             0.5555555555555556,
             "#d8576b"
            ],
            [
             0.6666666666666666,
             "#ed7953"
            ],
            [
             0.7777777777777778,
             "#fb9f3a"
            ],
            [
             0.8888888888888888,
             "#fdca26"
            ],
            [
             1,
             "#f0f921"
            ]
           ],
           "sequentialminus": [
            [
             0,
             "#0d0887"
            ],
            [
             0.1111111111111111,
             "#46039f"
            ],
            [
             0.2222222222222222,
             "#7201a8"
            ],
            [
             0.3333333333333333,
             "#9c179e"
            ],
            [
             0.4444444444444444,
             "#bd3786"
            ],
            [
             0.5555555555555556,
             "#d8576b"
            ],
            [
             0.6666666666666666,
             "#ed7953"
            ],
            [
             0.7777777777777778,
             "#fb9f3a"
            ],
            [
             0.8888888888888888,
             "#fdca26"
            ],
            [
             1,
             "#f0f921"
            ]
           ]
          },
          "colorway": [
           "#636efa",
           "#EF553B",
           "#00cc96",
           "#ab63fa",
           "#FFA15A",
           "#19d3f3",
           "#FF6692",
           "#B6E880",
           "#FF97FF",
           "#FECB52"
          ],
          "font": {
           "color": "#f2f5fa"
          },
          "geo": {
           "bgcolor": "rgb(17,17,17)",
           "lakecolor": "rgb(17,17,17)",
           "landcolor": "rgb(17,17,17)",
           "showlakes": true,
           "showland": true,
           "subunitcolor": "#506784"
          },
          "hoverlabel": {
           "align": "left"
          },
          "hovermode": "closest",
          "mapbox": {
           "style": "dark"
          },
          "paper_bgcolor": "rgb(17,17,17)",
          "plot_bgcolor": "rgb(17,17,17)",
          "polar": {
           "angularaxis": {
            "gridcolor": "#506784",
            "linecolor": "#506784",
            "ticks": ""
           },
           "bgcolor": "rgb(17,17,17)",
           "radialaxis": {
            "gridcolor": "#506784",
            "linecolor": "#506784",
            "ticks": ""
           }
          },
          "scene": {
           "xaxis": {
            "backgroundcolor": "rgb(17,17,17)",
            "gridcolor": "#506784",
            "gridwidth": 2,
            "linecolor": "#506784",
            "showbackground": true,
            "ticks": "",
            "zerolinecolor": "#C8D4E3"
           },
           "yaxis": {
            "backgroundcolor": "rgb(17,17,17)",
            "gridcolor": "#506784",
            "gridwidth": 2,
            "linecolor": "#506784",
            "showbackground": true,
            "ticks": "",
            "zerolinecolor": "#C8D4E3"
           },
           "zaxis": {
            "backgroundcolor": "rgb(17,17,17)",
            "gridcolor": "#506784",
            "gridwidth": 2,
            "linecolor": "#506784",
            "showbackground": true,
            "ticks": "",
            "zerolinecolor": "#C8D4E3"
           }
          },
          "shapedefaults": {
           "line": {
            "color": "#f2f5fa"
           }
          },
          "sliderdefaults": {
           "bgcolor": "#C8D4E3",
           "bordercolor": "rgb(17,17,17)",
           "borderwidth": 1,
           "tickwidth": 0
          },
          "ternary": {
           "aaxis": {
            "gridcolor": "#506784",
            "linecolor": "#506784",
            "ticks": ""
           },
           "baxis": {
            "gridcolor": "#506784",
            "linecolor": "#506784",
            "ticks": ""
           },
           "bgcolor": "rgb(17,17,17)",
           "caxis": {
            "gridcolor": "#506784",
            "linecolor": "#506784",
            "ticks": ""
           }
          },
          "title": {
           "x": 0.05
          },
          "updatemenudefaults": {
           "bgcolor": "#506784",
           "borderwidth": 0
          },
          "xaxis": {
           "automargin": true,
           "gridcolor": "#283442",
           "linecolor": "#506784",
           "ticks": "",
           "title": {
            "standoff": 15
           },
           "zerolinecolor": "#283442",
           "zerolinewidth": 2
          },
          "yaxis": {
           "automargin": true,
           "gridcolor": "#283442",
           "linecolor": "#506784",
           "ticks": "",
           "title": {
            "standoff": 15
           },
           "zerolinecolor": "#283442",
           "zerolinewidth": 2
          }
         }
        },
        "title": {
         "text": "Monthly Breakdown of Injuries and Deaths"
        },
        "xaxis": {
         "anchor": "y",
         "domain": [
          0,
          1
         ],
         "title": {
          "text": "Month"
         }
        },
        "yaxis": {
         "anchor": "x",
         "domain": [
          0,
          1
         ],
         "title": {
          "text": "Count"
         }
        }
       }
      }
     },
     "metadata": {},
     "output_type": "display_data"
    }
   ],
   "source": [
    "# Creating an interactive bar plot for injuries and deaths by month\n",
    "fig = px.bar(df, x='Month', y=['Palestinians Injuries', 'Israelis Injuries', 'Palestinians Killed', 'Israelis Killed'],\n",
    "             title=\"Monthly Breakdown of Injuries and Deaths\",\n",
    "             labels={'value': 'Count', 'variable': 'Category'},\n",
    "             barmode='group', color='variable')\n",
    "\n",
    "# Add some styling\n",
    "fig.update_traces(marker=dict(line=dict(width=0)), opacity=0.7)\n",
    "fig.update_layout(\n",
    "    title=\"Monthly Breakdown of Injuries and Deaths\",\n",
    "    xaxis_title='Month',\n",
    "    yaxis_title='Count',\n",
    "    template='plotly_dark',\n",
    "    hovermode='x unified',\n",
    "    legend_title=\"Category\"\n",
    ")\n",
    "\n",
    "# Show the plot\n",
    "fig.show()"
   ]
  },
  {
   "cell_type": "markdown",
   "metadata": {},
   "source": [
    "## Heatmap of Injuries and Deaths Across Year and Month\n",
    "\n",
    "This heatmap visualizes the **intensity** of **Palestinians Injuries**, **Israelis Injuries**, **Palestinians Killed**, and **Israelis Killed** over **year** and **month**. The heatmap will help us see the distribution of these events, making it easier to identify when and how often significant events occurred.\n",
    "\n",
    "Lighter colors represent higher counts, while darker colors represent lower counts.\n"
   ]
  },
  {
   "cell_type": "code",
   "execution_count": 36,
   "metadata": {},
   "outputs": [
    {
     "data": {
      "application/vnd.plotly.v1+json": {
       "config": {
        "plotlyServerURL": "https://plot.ly"
       },
       "data": [
        {
         "coloraxis": "coloraxis",
         "histfunc": "sum",
         "hovertemplate": "Month=%{x}<br>Year=%{y}<br>sum of z=%{z}<extra></extra>",
         "name": "",
         "type": "histogram2d",
         "x": [
          "DECEMBER",
          "NOVEMBER",
          "OCTOBER",
          "SEPTEMBER",
          "APRIL",
          "AUGUST",
          "DECEMBER",
          "FEBRUARY",
          "JANUARY",
          "JULY",
          "JUNE",
          "MARCH",
          "MAY",
          "NOVEMBER",
          "OCTOBER",
          "SEPTEMBER",
          "APRIL",
          "AUGUST",
          "DECEMBER",
          "FEBRUARY",
          "JANUARY",
          "JULY",
          "JUNE",
          "MARCH",
          "MAY",
          "NOVEMBER",
          "OCTOBER",
          "SEPTEMBER",
          "APRIL",
          "AUGUST",
          "DECEMBER",
          "FEBRUARY",
          "JANUARY",
          "JULY",
          "JUNE",
          "MARCH",
          "MAY",
          "NOVEMBER",
          "OCTOBER",
          "SEPTEMBER",
          "APRIL",
          "AUGUST",
          "DECEMBER",
          "FEBRUARY",
          "JANUARY",
          "JULY",
          "JUNE",
          "MARCH",
          "MAY",
          "NOVEMBER",
          "OCTOBER",
          "SEPTEMBER",
          "APRIL",
          "AUGUST",
          "DECEMBER",
          "FEBRUARY",
          "JANUARY",
          "JULY",
          "JUNE",
          "MARCH",
          "MAY",
          "NOVEMBER",
          "OCTOBER",
          "SEPTEMBER",
          "APRIL",
          "AUGUST",
          "DECEMBER",
          "FEBRUARY",
          "JANUARY",
          "JULY",
          "JUNE",
          "MARCH",
          "MAY",
          "NOVEMBER",
          "OCTOBER",
          "SEPTEMBER",
          "APRIL",
          "AUGUST",
          "DECEMBER",
          "FEBRUARY",
          "JANUARY",
          "JULY",
          "JUNE",
          "MARCH",
          "MAY",
          "NOVEMBER",
          "OCTOBER",
          "SEPTEMBER",
          "APRIL",
          "AUGUST",
          "DECEMBER",
          "FEBRUARY",
          "JANUARY",
          "JULY",
          "JUNE",
          "MARCH",
          "MAY",
          "NOVEMBER",
          "OCTOBER",
          "SEPTEMBER",
          "APRIL",
          "AUGUST",
          "DECEMBER",
          "FEBRUARY",
          "JANUARY",
          "JULY",
          "JUNE",
          "MARCH",
          "MAY",
          "NOVEMBER",
          "OCTOBER",
          "SEPTEMBER",
          "APRIL",
          "AUGUST",
          "DECEMBER",
          "FEBRUARY",
          "JANUARY",
          "JULY",
          "JUNE",
          "MARCH",
          "MAY",
          "NOVEMBER",
          "OCTOBER",
          "SEPTEMBER",
          "APRIL",
          "AUGUST",
          "DECEMBER",
          "FEBRUARY",
          "JANUARY",
          "JULY",
          "JUNE",
          "MARCH",
          "MAY",
          "NOVEMBER",
          "OCTOBER",
          "SEPTEMBER",
          "APRIL",
          "AUGUST",
          "DECEMBER",
          "FEBRUARY",
          "JANUARY",
          "JULY",
          "JUNE",
          "MARCH",
          "MAY",
          "NOVEMBER",
          "OCTOBER",
          "SEPTEMBER",
          "APRIL",
          "AUGUST",
          "DECEMBER",
          "FEBRUARY",
          "JANUARY",
          "JULY",
          "JUNE",
          "MARCH",
          "MAY",
          "NOVEMBER",
          "OCTOBER",
          "SEPTEMBER",
          "APRIL",
          "AUGUST",
          "DECEMBER",
          "FEBRUARY",
          "JANUARY",
          "JULY",
          "JUNE",
          "MARCH",
          "MAY",
          "NOVEMBER",
          "OCTOBER",
          "SEPTEMBER",
          "APRIL",
          "AUGUST",
          "DECEMBER",
          "FEBRUARY",
          "JANUARY",
          "JULY",
          "JUNE",
          "MARCH",
          "MAY",
          "NOVEMBER",
          "OCTOBER",
          "SEPTEMBER",
          "APRIL",
          "AUGUST",
          "DECEMBER",
          "FEBRUARY",
          "JANUARY",
          "JULY",
          "JUNE",
          "MARCH",
          "MAY",
          "NOVEMBER",
          "OCTOBER",
          "SEPTEMBER",
          "APRIL",
          "AUGUST",
          "DECEMBER",
          "FEBRUARY",
          "JANUARY",
          "JULY",
          "JUNE",
          "MARCH",
          "MAY & JUNE",
          "NOVEMBER",
          "OCTOBER",
          "SEPTEMBER",
          "APRIL",
          "AUGUST",
          "DECEMBER",
          "FEBRUARY",
          "JANUARY",
          "JULY",
          "JUNE",
          "MARCH",
          "MAY",
          "NOVEMBER",
          "OCTOBER",
          "SEPTEMBER",
          "APRIL",
          "AUGUST",
          "DECEMBER",
          "FEBRUARY",
          "JANUARY",
          "JULY",
          "JUNE",
          "MARCH",
          "MAY ",
          "NOVEMBER",
          "OCTOBER",
          "SEPTEMBER",
          "APRIL",
          "AUGUST",
          "DECEMBER",
          "FEBRUARY",
          "JANUARY",
          "JULY",
          "JUNE",
          "MARCH",
          "MAY ",
          "NOVEMBER",
          "OCTOBER",
          "SEPTEMBER",
          "APRIL",
          "FEBRUARY",
          "JANUARY",
          "JULY",
          "MARCH",
          "MAY"
         ],
         "xaxis": "x",
         "xbingroup": "x",
         "y": [
          2000,
          2000,
          2000,
          2000,
          2001,
          2001,
          2001,
          2001,
          2001,
          2001,
          2001,
          2001,
          2001,
          2001,
          2001,
          2001,
          2002,
          2002,
          2002,
          2002,
          2002,
          2002,
          2002,
          2002,
          2002,
          2002,
          2002,
          2002,
          2003,
          2003,
          2003,
          2003,
          2003,
          2003,
          2003,
          2003,
          2003,
          2003,
          2003,
          2003,
          2004,
          2004,
          2004,
          2004,
          2004,
          2004,
          2004,
          2004,
          2004,
          2004,
          2004,
          2004,
          2005,
          2005,
          2005,
          2005,
          2005,
          2005,
          2005,
          2005,
          2005,
          2005,
          2005,
          2005,
          2006,
          2006,
          2006,
          2006,
          2006,
          2006,
          2006,
          2006,
          2006,
          2006,
          2006,
          2006,
          2007,
          2007,
          2007,
          2007,
          2007,
          2007,
          2007,
          2007,
          2007,
          2007,
          2007,
          2007,
          2008,
          2008,
          2008,
          2008,
          2008,
          2008,
          2008,
          2008,
          2008,
          2008,
          2008,
          2008,
          2009,
          2009,
          2009,
          2009,
          2009,
          2009,
          2009,
          2009,
          2009,
          2009,
          2009,
          2009,
          2010,
          2010,
          2010,
          2010,
          2010,
          2010,
          2010,
          2010,
          2010,
          2010,
          2010,
          2010,
          2011,
          2011,
          2011,
          2011,
          2011,
          2011,
          2011,
          2011,
          2011,
          2011,
          2011,
          2011,
          2012,
          2012,
          2012,
          2012,
          2012,
          2012,
          2012,
          2012,
          2012,
          2012,
          2012,
          2012,
          2013,
          2013,
          2013,
          2013,
          2013,
          2013,
          2013,
          2013,
          2013,
          2013,
          2013,
          2013,
          2014,
          2014,
          2014,
          2014,
          2014,
          2014,
          2014,
          2014,
          2014,
          2014,
          2014,
          2014,
          2015,
          2015,
          2015,
          2015,
          2015,
          2015,
          2015,
          2015,
          2015,
          2015,
          2015,
          2015,
          2016,
          2016,
          2016,
          2016,
          2016,
          2016,
          2016,
          2016,
          2016,
          2016,
          2016,
          2016,
          2017,
          2017,
          2017,
          2017,
          2017,
          2017,
          2017,
          2017,
          2017,
          2017,
          2017,
          2017,
          2018,
          2018,
          2018,
          2018,
          2018,
          2018,
          2018,
          2018,
          2018,
          2018,
          2018,
          2018,
          2019,
          2019,
          2019,
          2019,
          2019,
          2019,
          2019,
          2019,
          2019,
          2019,
          2019,
          2019,
          2020,
          2020,
          2020,
          2020,
          2020,
          2020,
          2020,
          2020,
          2020,
          2020,
          2020,
          2020,
          2021,
          2021,
          2021,
          2021,
          2021,
          2021
         ],
         "yaxis": "y",
         "ybingroup": "y",
         "z": [
          0.007006055169320476,
          0.034429244225162595,
          0.05368019735366674,
          0.002709127607086791,
          0.00641399416909621,
          0.004503251850190626,
          0.002727068849517829,
          0.005364431486880467,
          0.004225162592509531,
          0.003534424758914555,
          0.0028616281677506165,
          0.008315765866786276,
          0.008360618972863871,
          0.0014352993944830679,
          0.003651042834716304,
          0.0058936981385960974,
          0.004691634895716528,
          0.0016685355460865664,
          0.0016595649248710472,
          0.003848396501457726,
          0.0029603050011213277,
          0.0033550123346041713,
          0.0026822157434402334,
          0.007804440457501682,
          0.0016236824400089707,
          0.002368244000897062,
          0.0034806010316214397,
          0.0031666292890782685,
          0.0027180982283023097,
          0.0017133886521641625,
          0.002888540031397174,
          0.0021888315765866786,
          0.002619421394931599,
          0.0003050011213276519,
          0.0032922179860955373,
          0.0033998654406817673,
          0.0021439784705090826,
          0.0009508858488450325,
          0.0025925095312850414,
          0.0020273603947073334,
          0.0031038349405696345,
          0.002574568288854003,
          0.001444270015698587,
          0.003920161471181879,
          0.0015070643642072213,
          0.002251625925095313,
          0.003381924198250729,
          0.0037407490468714956,
          0.00488898856245795,
          0.0008791208791208791,
          0.003076923076923077,
          0.005193989683785602,
          0.001641623682440009,
          0.0011661807580174927,
          0.001489123121776183,
          0.0003767660910518053,
          0.0014711818793451447,
          0.0014801525005606639,
          0.0010405920610002243,
          0.0006100022426553038,
          0.0007266203184570531,
          0.0008880915003363983,
          0.0007266203184570531,
          0.0008073559093967257,
          0.00227853778874187,
          0.0023861852433281006,
          0.0006548553487328997,
          0.0017403005158107198,
          0.0007894146669656873,
          0.0071675263511998205,
          0.0017761830006727966,
          0.0018210361067503924,
          0.0023054496523884278,
          0.004404575016819914,
          0.0016147118187934515,
          0.0017582417582417582,
          0.001031621439784705,
          0.0013814756671899529,
          0.12307692307692308,
          0.0022964790311729086,
          0.0009329446064139942,
          0.0006010316214397847,
          0.0014532406369141063,
          0.0013725050459744337,
          0.002520744561560888,
          0.001139268894370935,
          0.0013635344247589145,
          0.0012110338640950885,
          0.002709127607086791,
          0.002709127607086791,
          0.002709127607086791,
          0.002709127607086791,
          0.002709127607086791,
          0.002709127607086791,
          0.002709127607086791,
          0.002709127607086791,
          0.002709127607086791,
          0.002709127607086791,
          0.002709127607086791,
          0.002709127607086791,
          0.0012200044853106077,
          0.00032294236375869027,
          0.001749271137026239,
          0.0005830903790087463,
          0.049849742094640055,
          0.00023323615160349855,
          0.0007983852881812065,
          0.0007804440457501682,
          0.0007355909396725723,
          0.0002691186364655752,
          0.0007894146669656873,
          0.0007176496972415339,
          0.0010675039246467817,
          0.000412648575913882,
          0.0009419152276295133,
          0.000825297151827764,
          0.000771473424534649,
          0.0007625028033191298,
          0.0009329446064139942,
          0.003606189728638708,
          0.0010585333034312627,
          0.0007804440457501682,
          0.0013186813186813187,
          0.0013276519398968379,
          0.0017313298945952006,
          0.0017133886521641625,
          0.0018838304552590266,
          0.0012110338640950885,
          0.0012827988338192419,
          0.0013994169096209913,
          0.0014263287732675489,
          0.0018300067279659116,
          0.0035613366225611125,
          0.000565149136577708,
          0.0009867683337071093,
          0.001336622561112357,
          0.0015160349854227405,
          0.0015160349854227405,
          0.0017761830006727966,
          0.0022964790311729086,
          0.0005382372729311504,
          0.0018120654855348732,
          0.0020722135007849294,
          0.0036241309710697465,
          0.00630634671450998,
          0.02020183897734918,
          0.0007983852881812065,
          0.001444270015698587,
          0.005884727517380579,
          0.0012289751065261269,
          0.0014263287732675489,
          0.006871495851087688,
          0.002359273379681543,
          0.001237945727741646,
          0.0011123570307243777,
          0.004422516259250953,
          0.003848396501457726,
          0.0028705987889661357,
          0.0009419152276295133,
          0.0033550123346041713,
          0.002709127607086791,
          0.12321148239515586,
          0.0031397174254317113,
          0.0019376541825521418,
          0.0019645660461986994,
          0.002709127607086791,
          0.002924422516259251,
          0.002045301637138372,
          0.0023772146221125814,
          0.008827091276070868,
          0.0026104507737160798,
          0.0018748598340435074,
          0.002000448531060776,
          0.0017582417582417582,
          0.019932720340883607,
          0.0014980937429917023,
          0.0012020632428795695,
          0.0012648575913882037,
          0.0006997084548104956,
          0.0015788293339313746,
          0.0025476564252074458,
          0.03487777528593855,
          0.06777304328324736,
          0.0037048665620094193,
          0.0025655976676384838,
          0.0023413321372505046,
          0.0009419152276295133,
          0.0046108993047768556,
          0.0052209015474321595,
          0.0022964790311729086,
          0.0014980937429917023,
          0.003121776183000673,
          0.0038932496075353216,
          0.0008701502579053599,
          0.0015160349854227405,
          0.0018838304552590266,
          0.0013455931823278763,
          0.0012110338640950885,
          0.04108544516707782,
          0.0008701502579053599,
          0.00039470733348284366,
          0.015895940793899978,
          0.007086790760260148,
          0.001695447409733124,
          0.002709127607086791,
          0.0007983852881812065,
          0.001076474545862301,
          0.0010585333034312627,
          0.002709127607086791,
          0.002709127607086791,
          0.002709127607086791,
          0.002709127607086791,
          0.002709127607086791,
          0.002709127607086791,
          0.002709127607086791,
          0.002709127607086791,
          0.002709127607086791,
          0.002709127607086791,
          0.002709127607086791,
          0.002709127607086791,
          0.002709127607086791,
          0.002709127607086791,
          0.002709127607086791,
          0.002709127607086791,
          0.002709127607086791,
          0.002709127607086791,
          0.002709127607086791,
          0.002709127607086791,
          0.002709127607086791,
          0.002709127607086791,
          0.002709127607086791,
          0.002709127607086791,
          0.002709127607086791,
          0.002709127607086791,
          0.002709127607086791,
          0.002709127607086791,
          0.002709127607086791,
          0.002709127607086791,
          0.002709127607086791,
          0.002709127607086791,
          0.002709127607086791,
          0.002709127607086791,
          0.002709127607086791,
          0.002709127607086791,
          0.002709127607086791,
          0.002709127607086791,
          0.002709127607086791,
          1,
          0.002709127607086791,
          0.002709127607086791
         ]
        }
       ],
       "layout": {
        "coloraxis": {
         "colorbar": {
          "title": {
           "text": "sum of z"
          }
         },
         "colorscale": [
          [
           0,
           "#440154"
          ],
          [
           0.1111111111111111,
           "#482878"
          ],
          [
           0.2222222222222222,
           "#3e4989"
          ],
          [
           0.3333333333333333,
           "#31688e"
          ],
          [
           0.4444444444444444,
           "#26828e"
          ],
          [
           0.5555555555555556,
           "#1f9e89"
          ],
          [
           0.6666666666666666,
           "#35b779"
          ],
          [
           0.7777777777777778,
           "#6ece58"
          ],
          [
           0.8888888888888888,
           "#b5de2b"
          ],
          [
           1,
           "#fde725"
          ]
         ]
        },
        "legend": {
         "tracegroupgap": 0
        },
        "template": {
         "data": {
          "bar": [
           {
            "error_x": {
             "color": "#2a3f5f"
            },
            "error_y": {
             "color": "#2a3f5f"
            },
            "marker": {
             "line": {
              "color": "#E5ECF6",
              "width": 0.5
             },
             "pattern": {
              "fillmode": "overlay",
              "size": 10,
              "solidity": 0.2
             }
            },
            "type": "bar"
           }
          ],
          "barpolar": [
           {
            "marker": {
             "line": {
              "color": "#E5ECF6",
              "width": 0.5
             },
             "pattern": {
              "fillmode": "overlay",
              "size": 10,
              "solidity": 0.2
             }
            },
            "type": "barpolar"
           }
          ],
          "carpet": [
           {
            "aaxis": {
             "endlinecolor": "#2a3f5f",
             "gridcolor": "white",
             "linecolor": "white",
             "minorgridcolor": "white",
             "startlinecolor": "#2a3f5f"
            },
            "baxis": {
             "endlinecolor": "#2a3f5f",
             "gridcolor": "white",
             "linecolor": "white",
             "minorgridcolor": "white",
             "startlinecolor": "#2a3f5f"
            },
            "type": "carpet"
           }
          ],
          "choropleth": [
           {
            "colorbar": {
             "outlinewidth": 0,
             "ticks": ""
            },
            "type": "choropleth"
           }
          ],
          "contour": [
           {
            "colorbar": {
             "outlinewidth": 0,
             "ticks": ""
            },
            "colorscale": [
             [
              0,
              "#0d0887"
             ],
             [
              0.1111111111111111,
              "#46039f"
             ],
             [
              0.2222222222222222,
              "#7201a8"
             ],
             [
              0.3333333333333333,
              "#9c179e"
             ],
             [
              0.4444444444444444,
              "#bd3786"
             ],
             [
              0.5555555555555556,
              "#d8576b"
             ],
             [
              0.6666666666666666,
              "#ed7953"
             ],
             [
              0.7777777777777778,
              "#fb9f3a"
             ],
             [
              0.8888888888888888,
              "#fdca26"
             ],
             [
              1,
              "#f0f921"
             ]
            ],
            "type": "contour"
           }
          ],
          "contourcarpet": [
           {
            "colorbar": {
             "outlinewidth": 0,
             "ticks": ""
            },
            "type": "contourcarpet"
           }
          ],
          "heatmap": [
           {
            "colorbar": {
             "outlinewidth": 0,
             "ticks": ""
            },
            "colorscale": [
             [
              0,
              "#0d0887"
             ],
             [
              0.1111111111111111,
              "#46039f"
             ],
             [
              0.2222222222222222,
              "#7201a8"
             ],
             [
              0.3333333333333333,
              "#9c179e"
             ],
             [
              0.4444444444444444,
              "#bd3786"
             ],
             [
              0.5555555555555556,
              "#d8576b"
             ],
             [
              0.6666666666666666,
              "#ed7953"
             ],
             [
              0.7777777777777778,
              "#fb9f3a"
             ],
             [
              0.8888888888888888,
              "#fdca26"
             ],
             [
              1,
              "#f0f921"
             ]
            ],
            "type": "heatmap"
           }
          ],
          "heatmapgl": [
           {
            "colorbar": {
             "outlinewidth": 0,
             "ticks": ""
            },
            "colorscale": [
             [
              0,
              "#0d0887"
             ],
             [
              0.1111111111111111,
              "#46039f"
             ],
             [
              0.2222222222222222,
              "#7201a8"
             ],
             [
              0.3333333333333333,
              "#9c179e"
             ],
             [
              0.4444444444444444,
              "#bd3786"
             ],
             [
              0.5555555555555556,
              "#d8576b"
             ],
             [
              0.6666666666666666,
              "#ed7953"
             ],
             [
              0.7777777777777778,
              "#fb9f3a"
             ],
             [
              0.8888888888888888,
              "#fdca26"
             ],
             [
              1,
              "#f0f921"
             ]
            ],
            "type": "heatmapgl"
           }
          ],
          "histogram": [
           {
            "marker": {
             "pattern": {
              "fillmode": "overlay",
              "size": 10,
              "solidity": 0.2
             }
            },
            "type": "histogram"
           }
          ],
          "histogram2d": [
           {
            "colorbar": {
             "outlinewidth": 0,
             "ticks": ""
            },
            "colorscale": [
             [
              0,
              "#0d0887"
             ],
             [
              0.1111111111111111,
              "#46039f"
             ],
             [
              0.2222222222222222,
              "#7201a8"
             ],
             [
              0.3333333333333333,
              "#9c179e"
             ],
             [
              0.4444444444444444,
              "#bd3786"
             ],
             [
              0.5555555555555556,
              "#d8576b"
             ],
             [
              0.6666666666666666,
              "#ed7953"
             ],
             [
              0.7777777777777778,
              "#fb9f3a"
             ],
             [
              0.8888888888888888,
              "#fdca26"
             ],
             [
              1,
              "#f0f921"
             ]
            ],
            "type": "histogram2d"
           }
          ],
          "histogram2dcontour": [
           {
            "colorbar": {
             "outlinewidth": 0,
             "ticks": ""
            },
            "colorscale": [
             [
              0,
              "#0d0887"
             ],
             [
              0.1111111111111111,
              "#46039f"
             ],
             [
              0.2222222222222222,
              "#7201a8"
             ],
             [
              0.3333333333333333,
              "#9c179e"
             ],
             [
              0.4444444444444444,
              "#bd3786"
             ],
             [
              0.5555555555555556,
              "#d8576b"
             ],
             [
              0.6666666666666666,
              "#ed7953"
             ],
             [
              0.7777777777777778,
              "#fb9f3a"
             ],
             [
              0.8888888888888888,
              "#fdca26"
             ],
             [
              1,
              "#f0f921"
             ]
            ],
            "type": "histogram2dcontour"
           }
          ],
          "mesh3d": [
           {
            "colorbar": {
             "outlinewidth": 0,
             "ticks": ""
            },
            "type": "mesh3d"
           }
          ],
          "parcoords": [
           {
            "line": {
             "colorbar": {
              "outlinewidth": 0,
              "ticks": ""
             }
            },
            "type": "parcoords"
           }
          ],
          "pie": [
           {
            "automargin": true,
            "type": "pie"
           }
          ],
          "scatter": [
           {
            "fillpattern": {
             "fillmode": "overlay",
             "size": 10,
             "solidity": 0.2
            },
            "type": "scatter"
           }
          ],
          "scatter3d": [
           {
            "line": {
             "colorbar": {
              "outlinewidth": 0,
              "ticks": ""
             }
            },
            "marker": {
             "colorbar": {
              "outlinewidth": 0,
              "ticks": ""
             }
            },
            "type": "scatter3d"
           }
          ],
          "scattercarpet": [
           {
            "marker": {
             "colorbar": {
              "outlinewidth": 0,
              "ticks": ""
             }
            },
            "type": "scattercarpet"
           }
          ],
          "scattergeo": [
           {
            "marker": {
             "colorbar": {
              "outlinewidth": 0,
              "ticks": ""
             }
            },
            "type": "scattergeo"
           }
          ],
          "scattergl": [
           {
            "marker": {
             "colorbar": {
              "outlinewidth": 0,
              "ticks": ""
             }
            },
            "type": "scattergl"
           }
          ],
          "scattermapbox": [
           {
            "marker": {
             "colorbar": {
              "outlinewidth": 0,
              "ticks": ""
             }
            },
            "type": "scattermapbox"
           }
          ],
          "scatterpolar": [
           {
            "marker": {
             "colorbar": {
              "outlinewidth": 0,
              "ticks": ""
             }
            },
            "type": "scatterpolar"
           }
          ],
          "scatterpolargl": [
           {
            "marker": {
             "colorbar": {
              "outlinewidth": 0,
              "ticks": ""
             }
            },
            "type": "scatterpolargl"
           }
          ],
          "scatterternary": [
           {
            "marker": {
             "colorbar": {
              "outlinewidth": 0,
              "ticks": ""
             }
            },
            "type": "scatterternary"
           }
          ],
          "surface": [
           {
            "colorbar": {
             "outlinewidth": 0,
             "ticks": ""
            },
            "colorscale": [
             [
              0,
              "#0d0887"
             ],
             [
              0.1111111111111111,
              "#46039f"
             ],
             [
              0.2222222222222222,
              "#7201a8"
             ],
             [
              0.3333333333333333,
              "#9c179e"
             ],
             [
              0.4444444444444444,
              "#bd3786"
             ],
             [
              0.5555555555555556,
              "#d8576b"
             ],
             [
              0.6666666666666666,
              "#ed7953"
             ],
             [
              0.7777777777777778,
              "#fb9f3a"
             ],
             [
              0.8888888888888888,
              "#fdca26"
             ],
             [
              1,
              "#f0f921"
             ]
            ],
            "type": "surface"
           }
          ],
          "table": [
           {
            "cells": {
             "fill": {
              "color": "#EBF0F8"
             },
             "line": {
              "color": "white"
             }
            },
            "header": {
             "fill": {
              "color": "#C8D4E3"
             },
             "line": {
              "color": "white"
             }
            },
            "type": "table"
           }
          ]
         },
         "layout": {
          "annotationdefaults": {
           "arrowcolor": "#2a3f5f",
           "arrowhead": 0,
           "arrowwidth": 1
          },
          "autotypenumbers": "strict",
          "coloraxis": {
           "colorbar": {
            "outlinewidth": 0,
            "ticks": ""
           }
          },
          "colorscale": {
           "diverging": [
            [
             0,
             "#8e0152"
            ],
            [
             0.1,
             "#c51b7d"
            ],
            [
             0.2,
             "#de77ae"
            ],
            [
             0.3,
             "#f1b6da"
            ],
            [
             0.4,
             "#fde0ef"
            ],
            [
             0.5,
             "#f7f7f7"
            ],
            [
             0.6,
             "#e6f5d0"
            ],
            [
             0.7,
             "#b8e186"
            ],
            [
             0.8,
             "#7fbc41"
            ],
            [
             0.9,
             "#4d9221"
            ],
            [
             1,
             "#276419"
            ]
           ],
           "sequential": [
            [
             0,
             "#0d0887"
            ],
            [
             0.1111111111111111,
             "#46039f"
            ],
            [
             0.2222222222222222,
             "#7201a8"
            ],
            [
             0.3333333333333333,
             "#9c179e"
            ],
            [
             0.4444444444444444,
             "#bd3786"
            ],
            [
             0.5555555555555556,
             "#d8576b"
            ],
            [
             0.6666666666666666,
             "#ed7953"
            ],
            [
             0.7777777777777778,
             "#fb9f3a"
            ],
            [
             0.8888888888888888,
             "#fdca26"
            ],
            [
             1,
             "#f0f921"
            ]
           ],
           "sequentialminus": [
            [
             0,
             "#0d0887"
            ],
            [
             0.1111111111111111,
             "#46039f"
            ],
            [
             0.2222222222222222,
             "#7201a8"
            ],
            [
             0.3333333333333333,
             "#9c179e"
            ],
            [
             0.4444444444444444,
             "#bd3786"
            ],
            [
             0.5555555555555556,
             "#d8576b"
            ],
            [
             0.6666666666666666,
             "#ed7953"
            ],
            [
             0.7777777777777778,
             "#fb9f3a"
            ],
            [
             0.8888888888888888,
             "#fdca26"
            ],
            [
             1,
             "#f0f921"
            ]
           ]
          },
          "colorway": [
           "#636efa",
           "#EF553B",
           "#00cc96",
           "#ab63fa",
           "#FFA15A",
           "#19d3f3",
           "#FF6692",
           "#B6E880",
           "#FF97FF",
           "#FECB52"
          ],
          "font": {
           "color": "#2a3f5f"
          },
          "geo": {
           "bgcolor": "white",
           "lakecolor": "white",
           "landcolor": "#E5ECF6",
           "showlakes": true,
           "showland": true,
           "subunitcolor": "white"
          },
          "hoverlabel": {
           "align": "left"
          },
          "hovermode": "closest",
          "mapbox": {
           "style": "light"
          },
          "paper_bgcolor": "white",
          "plot_bgcolor": "#E5ECF6",
          "polar": {
           "angularaxis": {
            "gridcolor": "white",
            "linecolor": "white",
            "ticks": ""
           },
           "bgcolor": "#E5ECF6",
           "radialaxis": {
            "gridcolor": "white",
            "linecolor": "white",
            "ticks": ""
           }
          },
          "scene": {
           "xaxis": {
            "backgroundcolor": "#E5ECF6",
            "gridcolor": "white",
            "gridwidth": 2,
            "linecolor": "white",
            "showbackground": true,
            "ticks": "",
            "zerolinecolor": "white"
           },
           "yaxis": {
            "backgroundcolor": "#E5ECF6",
            "gridcolor": "white",
            "gridwidth": 2,
            "linecolor": "white",
            "showbackground": true,
            "ticks": "",
            "zerolinecolor": "white"
           },
           "zaxis": {
            "backgroundcolor": "#E5ECF6",
            "gridcolor": "white",
            "gridwidth": 2,
            "linecolor": "white",
            "showbackground": true,
            "ticks": "",
            "zerolinecolor": "white"
           }
          },
          "shapedefaults": {
           "line": {
            "color": "#2a3f5f"
           }
          },
          "ternary": {
           "aaxis": {
            "gridcolor": "white",
            "linecolor": "white",
            "ticks": ""
           },
           "baxis": {
            "gridcolor": "white",
            "linecolor": "white",
            "ticks": ""
           },
           "bgcolor": "#E5ECF6",
           "caxis": {
            "gridcolor": "white",
            "linecolor": "white",
            "ticks": ""
           }
          },
          "title": {
           "x": 0.05
          },
          "xaxis": {
           "automargin": true,
           "gridcolor": "white",
           "linecolor": "white",
           "ticks": "",
           "title": {
            "standoff": 15
           },
           "zerolinecolor": "white",
           "zerolinewidth": 2
          },
          "yaxis": {
           "automargin": true,
           "gridcolor": "white",
           "linecolor": "white",
           "ticks": "",
           "title": {
            "standoff": 15
           },
           "zerolinecolor": "white",
           "zerolinewidth": 2
          }
         }
        },
        "title": {
         "text": "Normalized Heatmap of Palestinians Injuries by Year and Month"
        },
        "xaxis": {
         "anchor": "y",
         "domain": [
          0,
          1
         ],
         "title": {
          "text": "Month"
         }
        },
        "yaxis": {
         "anchor": "x",
         "domain": [
          0,
          1
         ],
         "title": {
          "text": "Year"
         }
        }
       }
      }
     },
     "metadata": {},
     "output_type": "display_data"
    },
    {
     "data": {
      "application/vnd.plotly.v1+json": {
       "config": {
        "plotlyServerURL": "https://plot.ly"
       },
       "data": [
        {
         "coloraxis": "coloraxis",
         "histfunc": "sum",
         "hovertemplate": "Month=%{x}<br>Year=%{y}<br>sum of z=%{z}<extra></extra>",
         "name": "",
         "type": "histogram2d",
         "x": [
          "DECEMBER",
          "NOVEMBER",
          "OCTOBER",
          "SEPTEMBER",
          "APRIL",
          "AUGUST",
          "DECEMBER",
          "FEBRUARY",
          "JANUARY",
          "JULY",
          "JUNE",
          "MARCH",
          "MAY",
          "NOVEMBER",
          "OCTOBER",
          "SEPTEMBER",
          "APRIL",
          "AUGUST",
          "DECEMBER",
          "FEBRUARY",
          "JANUARY",
          "JULY",
          "JUNE",
          "MARCH",
          "MAY",
          "NOVEMBER",
          "OCTOBER",
          "SEPTEMBER",
          "APRIL",
          "AUGUST",
          "DECEMBER",
          "FEBRUARY",
          "JANUARY",
          "JULY",
          "JUNE",
          "MARCH",
          "MAY",
          "NOVEMBER",
          "OCTOBER",
          "SEPTEMBER",
          "APRIL",
          "AUGUST",
          "DECEMBER",
          "FEBRUARY",
          "JANUARY",
          "JULY",
          "JUNE",
          "MARCH",
          "MAY",
          "NOVEMBER",
          "OCTOBER",
          "SEPTEMBER",
          "APRIL",
          "AUGUST",
          "DECEMBER",
          "FEBRUARY",
          "JANUARY",
          "JULY",
          "JUNE",
          "MARCH",
          "MAY",
          "NOVEMBER",
          "OCTOBER",
          "SEPTEMBER",
          "APRIL",
          "AUGUST",
          "DECEMBER",
          "FEBRUARY",
          "JANUARY",
          "JULY",
          "JUNE",
          "MARCH",
          "MAY",
          "NOVEMBER",
          "OCTOBER",
          "SEPTEMBER",
          "APRIL",
          "AUGUST",
          "DECEMBER",
          "FEBRUARY",
          "JANUARY",
          "JULY",
          "JUNE",
          "MARCH",
          "MAY",
          "NOVEMBER",
          "OCTOBER",
          "SEPTEMBER",
          "APRIL",
          "AUGUST",
          "DECEMBER",
          "FEBRUARY",
          "JANUARY",
          "JULY",
          "JUNE",
          "MARCH",
          "MAY",
          "NOVEMBER",
          "OCTOBER",
          "SEPTEMBER",
          "APRIL",
          "AUGUST",
          "DECEMBER",
          "FEBRUARY",
          "JANUARY",
          "JULY",
          "JUNE",
          "MARCH",
          "MAY",
          "NOVEMBER",
          "OCTOBER",
          "SEPTEMBER",
          "APRIL",
          "AUGUST",
          "DECEMBER",
          "FEBRUARY",
          "JANUARY",
          "JULY",
          "JUNE",
          "MARCH",
          "MAY",
          "NOVEMBER",
          "OCTOBER",
          "SEPTEMBER",
          "APRIL",
          "AUGUST",
          "DECEMBER",
          "FEBRUARY",
          "JANUARY",
          "JULY",
          "JUNE",
          "MARCH",
          "MAY",
          "NOVEMBER",
          "OCTOBER",
          "SEPTEMBER",
          "APRIL",
          "AUGUST",
          "DECEMBER",
          "FEBRUARY",
          "JANUARY",
          "JULY",
          "JUNE",
          "MARCH",
          "MAY",
          "NOVEMBER",
          "OCTOBER",
          "SEPTEMBER",
          "APRIL",
          "AUGUST",
          "DECEMBER",
          "FEBRUARY",
          "JANUARY",
          "JULY",
          "JUNE",
          "MARCH",
          "MAY",
          "NOVEMBER",
          "OCTOBER",
          "SEPTEMBER",
          "APRIL",
          "AUGUST",
          "DECEMBER",
          "FEBRUARY",
          "JANUARY",
          "JULY",
          "JUNE",
          "MARCH",
          "MAY",
          "NOVEMBER",
          "OCTOBER",
          "SEPTEMBER",
          "APRIL",
          "AUGUST",
          "DECEMBER",
          "FEBRUARY",
          "JANUARY",
          "JULY",
          "JUNE",
          "MARCH",
          "MAY",
          "NOVEMBER",
          "OCTOBER",
          "SEPTEMBER",
          "APRIL",
          "AUGUST",
          "DECEMBER",
          "FEBRUARY",
          "JANUARY",
          "JULY",
          "JUNE",
          "MARCH",
          "MAY",
          "NOVEMBER",
          "OCTOBER",
          "SEPTEMBER",
          "APRIL",
          "AUGUST",
          "DECEMBER",
          "FEBRUARY",
          "JANUARY",
          "JULY",
          "JUNE",
          "MARCH",
          "MAY & JUNE",
          "NOVEMBER",
          "OCTOBER",
          "SEPTEMBER",
          "APRIL",
          "AUGUST",
          "DECEMBER",
          "FEBRUARY",
          "JANUARY",
          "JULY",
          "JUNE",
          "MARCH",
          "MAY",
          "NOVEMBER",
          "OCTOBER",
          "SEPTEMBER",
          "APRIL",
          "AUGUST",
          "DECEMBER",
          "FEBRUARY",
          "JANUARY",
          "JULY",
          "JUNE",
          "MARCH",
          "MAY ",
          "NOVEMBER",
          "OCTOBER",
          "SEPTEMBER",
          "APRIL",
          "AUGUST",
          "DECEMBER",
          "FEBRUARY",
          "JANUARY",
          "JULY",
          "JUNE",
          "MARCH",
          "MAY ",
          "NOVEMBER",
          "OCTOBER",
          "SEPTEMBER",
          "APRIL",
          "FEBRUARY",
          "JANUARY",
          "JULY",
          "MARCH",
          "MAY"
         ],
         "xaxis": "x",
         "xbingroup": "x",
         "y": [
          2000,
          2000,
          2000,
          2000,
          2001,
          2001,
          2001,
          2001,
          2001,
          2001,
          2001,
          2001,
          2001,
          2001,
          2001,
          2001,
          2002,
          2002,
          2002,
          2002,
          2002,
          2002,
          2002,
          2002,
          2002,
          2002,
          2002,
          2002,
          2003,
          2003,
          2003,
          2003,
          2003,
          2003,
          2003,
          2003,
          2003,
          2003,
          2003,
          2003,
          2004,
          2004,
          2004,
          2004,
          2004,
          2004,
          2004,
          2004,
          2004,
          2004,
          2004,
          2004,
          2005,
          2005,
          2005,
          2005,
          2005,
          2005,
          2005,
          2005,
          2005,
          2005,
          2005,
          2005,
          2006,
          2006,
          2006,
          2006,
          2006,
          2006,
          2006,
          2006,
          2006,
          2006,
          2006,
          2006,
          2007,
          2007,
          2007,
          2007,
          2007,
          2007,
          2007,
          2007,
          2007,
          2007,
          2007,
          2007,
          2008,
          2008,
          2008,
          2008,
          2008,
          2008,
          2008,
          2008,
          2008,
          2008,
          2008,
          2008,
          2009,
          2009,
          2009,
          2009,
          2009,
          2009,
          2009,
          2009,
          2009,
          2009,
          2009,
          2009,
          2010,
          2010,
          2010,
          2010,
          2010,
          2010,
          2010,
          2010,
          2010,
          2010,
          2010,
          2010,
          2011,
          2011,
          2011,
          2011,
          2011,
          2011,
          2011,
          2011,
          2011,
          2011,
          2011,
          2011,
          2012,
          2012,
          2012,
          2012,
          2012,
          2012,
          2012,
          2012,
          2012,
          2012,
          2012,
          2012,
          2013,
          2013,
          2013,
          2013,
          2013,
          2013,
          2013,
          2013,
          2013,
          2013,
          2013,
          2013,
          2014,
          2014,
          2014,
          2014,
          2014,
          2014,
          2014,
          2014,
          2014,
          2014,
          2014,
          2014,
          2015,
          2015,
          2015,
          2015,
          2015,
          2015,
          2015,
          2015,
          2015,
          2015,
          2015,
          2015,
          2016,
          2016,
          2016,
          2016,
          2016,
          2016,
          2016,
          2016,
          2016,
          2016,
          2016,
          2016,
          2017,
          2017,
          2017,
          2017,
          2017,
          2017,
          2017,
          2017,
          2017,
          2017,
          2017,
          2017,
          2018,
          2018,
          2018,
          2018,
          2018,
          2018,
          2018,
          2018,
          2018,
          2018,
          2018,
          2018,
          2019,
          2019,
          2019,
          2019,
          2019,
          2019,
          2019,
          2019,
          2019,
          2019,
          2019,
          2019,
          2020,
          2020,
          2020,
          2020,
          2020,
          2020,
          2020,
          2020,
          2020,
          2020,
          2020,
          2020,
          2021,
          2021,
          2021,
          2021,
          2021,
          2021
         ],
         "yaxis": "y",
         "ybingroup": "y",
         "z": [
          0.004263565891472868,
          0.009302325581395349,
          0.006201550387596899,
          0.0034883720930232558,
          0.0032945736434108527,
          0.004069767441860465,
          0.0032945736434108527,
          0.0029069767441860465,
          0.0048449612403100775,
          0.007558139534883721,
          0.0009689922480620155,
          0.008914728682170543,
          0.008914728682170543,
          0.0011627906976744186,
          0.005813953488372093,
          0.0031007751937984496,
          0.0025193798449612403,
          0.0034883720930232558,
          0.0034883720930232558,
          0.004651162790697674,
          0.0011627906976744186,
          0.0034883720930232558,
          0.0034883720930232558,
          0.006395348837209302,
          0.0034883720930232558,
          0.002131782945736434,
          0.006201550387596899,
          0.0031007751937984496,
          0.0034883720930232558,
          0.003875968992248062,
          0.0009689922480620155,
          0.01065891472868217,
          0.0050387596899224806,
          0.008527131782945736,
          0.0025193798449612403,
          0.004069767441860465,
          0.002131782945736434,
          0.002325581395348837,
          0.0050387596899224806,
          0.0013565891472868217,
          0.003875968992248062,
          0.003682170542635659,
          0.002131782945736434,
          0.002325581395348837,
          0.0031007751937984496,
          0.01065891472868217,
          0.004069767441860465,
          0.006782945736434108,
          0.002131782945736434,
          0.003682170542635659,
          0.003875968992248062,
          0.0027131782945736434,
          0.003682170542635659,
          0.0031007751937984496,
          0.017054263565891473,
          0.012015503875968992,
          0.011821705426356589,
          0.020348837209302327,
          0.003875968992248062,
          0.0032945736434108527,
          0.0032945736434108527,
          0.0032945736434108527,
          0.008914728682170543,
          0.0048449612403100775,
          0.015116279069767442,
          0.001937984496124031,
          0.002325581395348837,
          0.005813953488372093,
          0.009108527131782946,
          0.007945736434108527,
          0.0050387596899224806,
          0.008914728682170543,
          0.0027131782945736434,
          0.005813953488372093,
          0.003682170542635659,
          0.004651162790697674,
          0.004263565891472868,
          0.010852713178294573,
          0.003875968992248062,
          0.006782945736434108,
          0.002325581395348837,
          0.0013565891472868217,
          0.003682170542635659,
          0.0029069767441860465,
          0.005813953488372093,
          0.0011627906976744186,
          0.0025193798449612403,
          0.01686046511627907,
          0.0034883720930232558,
          0.0034883720930232558,
          0.0034883720930232558,
          0.0034883720930232558,
          0.0034883720930232558,
          0.0034883720930232558,
          0.0034883720930232558,
          0.0034883720930232558,
          0.0034883720930232558,
          0.0034883720930232558,
          0.0034883720930232558,
          0.0034883720930232558,
          0.0048449612403100775,
          0.008527131782945736,
          0.005232558139534884,
          0.0007751937984496124,
          0.005426356589147287,
          0.008527131782945736,
          0.0013565891472868217,
          0.0025193798449612403,
          0.0050387596899224806,
          0.008527131782945736,
          0.005813953488372093,
          0.005232558139534884,
          0.001937984496124031,
          0.002131782945736434,
          0.0009689922480620155,
          0.0027131782945736434,
          0.0029069767441860465,
          0,
          0.004069767441860465,
          0.011434108527131783,
          0.0032945736434108527,
          0.0013565891472868217,
          0.0009689922480620155,
          0.002325581395348837,
          0.001937984496124031,
          0.004263565891472868,
          0.0011627906976744186,
          0.0005813953488372093,
          0.0009689922480620155,
          0.0005813953488372093,
          0.0017441860465116279,
          0.0025193798449612403,
          0.0069767441860465115,
          0.0005813953488372093,
          0.0017441860465116279,
          0.0009689922480620155,
          0.0017441860465116279,
          0.0009689922480620155,
          0.0011627906976744186,
          0.0027131782945736434,
          0.0005813953488372093,
          0.002325581395348837,
          0.0007751937984496124,
          0.0031007751937984496,
          0.0029069767441860465,
          0.049031007751937986,
          0.0001937984496124031,
          0.0013565891472868217,
          0.0032945736434108527,
          0.0009689922480620155,
          0.0007751937984496124,
          0.004651162790697674,
          0.0011627906976744186,
          0.002131782945736434,
          0.0001937984496124031,
          0.004069767441860465,
          0.006395348837209302,
          0.0009689922480620155,
          0.0029069767441860465,
          0.0017441860465116279,
          0.0029069767441860465,
          0.4548449612403101,
          0.0029069767441860465,
          0.0011627906976744186,
          0.0017441860465116279,
          0.0034883720930232558,
          0.0009689922480620155,
          0.0009689922480620155,
          0.005426356589147287,
          0.01065891472868217,
          0.006201550387596899,
          0.004263565891472868,
          0.0025193798449612403,
          0.003875968992248062,
          0.008333333333333333,
          0.0009689922480620155,
          0.0015503875968992248,
          0.0015503875968992248,
          0.0027131782945736434,
          0.0025193798449612403,
          0.002131782945736434,
          0.009689922480620155,
          0.015503875968992248,
          0.007558139534883721,
          0.004069767441860465,
          0.0003875968992248062,
          0.0034883720930232558,
          0.0015503875968992248,
          0.0031007751937984496,
          0.0017441860465116279,
          0.005813953488372093,
          0.005232558139534884,
          0.0003875968992248062,
          0.0013565891472868217,
          0.0032945736434108527,
          0.0027131782945736434,
          0.002325581395348837,
          0.0003875968992248062,
          0.001937984496124031,
          0.007170542635658915,
          0.0032945736434108527,
          0.004457364341085271,
          0.003875968992248062,
          0.003682170542635659,
          0.0034883720930232558,
          0.0015503875968992248,
          0.0009689922480620155,
          0.0009689922480620155,
          0.0034883720930232558,
          0.0034883720930232558,
          0.0034883720930232558,
          0.0034883720930232558,
          0.0034883720930232558,
          0.0034883720930232558,
          0.0034883720930232558,
          0.0034883720930232558,
          0.0034883720930232558,
          0.0034883720930232558,
          0.0034883720930232558,
          0.0034883720930232558,
          0.0034883720930232558,
          0.0034883720930232558,
          0.0034883720930232558,
          0.0034883720930232558,
          0.0034883720930232558,
          0.0034883720930232558,
          0.0034883720930232558,
          0.0034883720930232558,
          0.0034883720930232558,
          0.0034883720930232558,
          0.0034883720930232558,
          0.0034883720930232558,
          0.0034883720930232558,
          0.0034883720930232558,
          0.0034883720930232558,
          0.0034883720930232558,
          0.0034883720930232558,
          0.0034883720930232558,
          0.0034883720930232558,
          0.0034883720930232558,
          0.0034883720930232558,
          0.0034883720930232558,
          0.0034883720930232558,
          0.0034883720930232558,
          0.0034883720930232558,
          0.0034883720930232558,
          0.0034883720930232558,
          1,
          0.0034883720930232558,
          0.0034883720930232558
         ]
        }
       ],
       "layout": {
        "coloraxis": {
         "colorbar": {
          "title": {
           "text": "sum of z"
          }
         },
         "colorscale": [
          [
           0,
           "#440154"
          ],
          [
           0.1111111111111111,
           "#482878"
          ],
          [
           0.2222222222222222,
           "#3e4989"
          ],
          [
           0.3333333333333333,
           "#31688e"
          ],
          [
           0.4444444444444444,
           "#26828e"
          ],
          [
           0.5555555555555556,
           "#1f9e89"
          ],
          [
           0.6666666666666666,
           "#35b779"
          ],
          [
           0.7777777777777778,
           "#6ece58"
          ],
          [
           0.8888888888888888,
           "#b5de2b"
          ],
          [
           1,
           "#fde725"
          ]
         ]
        },
        "legend": {
         "tracegroupgap": 0
        },
        "template": {
         "data": {
          "bar": [
           {
            "error_x": {
             "color": "#2a3f5f"
            },
            "error_y": {
             "color": "#2a3f5f"
            },
            "marker": {
             "line": {
              "color": "#E5ECF6",
              "width": 0.5
             },
             "pattern": {
              "fillmode": "overlay",
              "size": 10,
              "solidity": 0.2
             }
            },
            "type": "bar"
           }
          ],
          "barpolar": [
           {
            "marker": {
             "line": {
              "color": "#E5ECF6",
              "width": 0.5
             },
             "pattern": {
              "fillmode": "overlay",
              "size": 10,
              "solidity": 0.2
             }
            },
            "type": "barpolar"
           }
          ],
          "carpet": [
           {
            "aaxis": {
             "endlinecolor": "#2a3f5f",
             "gridcolor": "white",
             "linecolor": "white",
             "minorgridcolor": "white",
             "startlinecolor": "#2a3f5f"
            },
            "baxis": {
             "endlinecolor": "#2a3f5f",
             "gridcolor": "white",
             "linecolor": "white",
             "minorgridcolor": "white",
             "startlinecolor": "#2a3f5f"
            },
            "type": "carpet"
           }
          ],
          "choropleth": [
           {
            "colorbar": {
             "outlinewidth": 0,
             "ticks": ""
            },
            "type": "choropleth"
           }
          ],
          "contour": [
           {
            "colorbar": {
             "outlinewidth": 0,
             "ticks": ""
            },
            "colorscale": [
             [
              0,
              "#0d0887"
             ],
             [
              0.1111111111111111,
              "#46039f"
             ],
             [
              0.2222222222222222,
              "#7201a8"
             ],
             [
              0.3333333333333333,
              "#9c179e"
             ],
             [
              0.4444444444444444,
              "#bd3786"
             ],
             [
              0.5555555555555556,
              "#d8576b"
             ],
             [
              0.6666666666666666,
              "#ed7953"
             ],
             [
              0.7777777777777778,
              "#fb9f3a"
             ],
             [
              0.8888888888888888,
              "#fdca26"
             ],
             [
              1,
              "#f0f921"
             ]
            ],
            "type": "contour"
           }
          ],
          "contourcarpet": [
           {
            "colorbar": {
             "outlinewidth": 0,
             "ticks": ""
            },
            "type": "contourcarpet"
           }
          ],
          "heatmap": [
           {
            "colorbar": {
             "outlinewidth": 0,
             "ticks": ""
            },
            "colorscale": [
             [
              0,
              "#0d0887"
             ],
             [
              0.1111111111111111,
              "#46039f"
             ],
             [
              0.2222222222222222,
              "#7201a8"
             ],
             [
              0.3333333333333333,
              "#9c179e"
             ],
             [
              0.4444444444444444,
              "#bd3786"
             ],
             [
              0.5555555555555556,
              "#d8576b"
             ],
             [
              0.6666666666666666,
              "#ed7953"
             ],
             [
              0.7777777777777778,
              "#fb9f3a"
             ],
             [
              0.8888888888888888,
              "#fdca26"
             ],
             [
              1,
              "#f0f921"
             ]
            ],
            "type": "heatmap"
           }
          ],
          "heatmapgl": [
           {
            "colorbar": {
             "outlinewidth": 0,
             "ticks": ""
            },
            "colorscale": [
             [
              0,
              "#0d0887"
             ],
             [
              0.1111111111111111,
              "#46039f"
             ],
             [
              0.2222222222222222,
              "#7201a8"
             ],
             [
              0.3333333333333333,
              "#9c179e"
             ],
             [
              0.4444444444444444,
              "#bd3786"
             ],
             [
              0.5555555555555556,
              "#d8576b"
             ],
             [
              0.6666666666666666,
              "#ed7953"
             ],
             [
              0.7777777777777778,
              "#fb9f3a"
             ],
             [
              0.8888888888888888,
              "#fdca26"
             ],
             [
              1,
              "#f0f921"
             ]
            ],
            "type": "heatmapgl"
           }
          ],
          "histogram": [
           {
            "marker": {
             "pattern": {
              "fillmode": "overlay",
              "size": 10,
              "solidity": 0.2
             }
            },
            "type": "histogram"
           }
          ],
          "histogram2d": [
           {
            "colorbar": {
             "outlinewidth": 0,
             "ticks": ""
            },
            "colorscale": [
             [
              0,
              "#0d0887"
             ],
             [
              0.1111111111111111,
              "#46039f"
             ],
             [
              0.2222222222222222,
              "#7201a8"
             ],
             [
              0.3333333333333333,
              "#9c179e"
             ],
             [
              0.4444444444444444,
              "#bd3786"
             ],
             [
              0.5555555555555556,
              "#d8576b"
             ],
             [
              0.6666666666666666,
              "#ed7953"
             ],
             [
              0.7777777777777778,
              "#fb9f3a"
             ],
             [
              0.8888888888888888,
              "#fdca26"
             ],
             [
              1,
              "#f0f921"
             ]
            ],
            "type": "histogram2d"
           }
          ],
          "histogram2dcontour": [
           {
            "colorbar": {
             "outlinewidth": 0,
             "ticks": ""
            },
            "colorscale": [
             [
              0,
              "#0d0887"
             ],
             [
              0.1111111111111111,
              "#46039f"
             ],
             [
              0.2222222222222222,
              "#7201a8"
             ],
             [
              0.3333333333333333,
              "#9c179e"
             ],
             [
              0.4444444444444444,
              "#bd3786"
             ],
             [
              0.5555555555555556,
              "#d8576b"
             ],
             [
              0.6666666666666666,
              "#ed7953"
             ],
             [
              0.7777777777777778,
              "#fb9f3a"
             ],
             [
              0.8888888888888888,
              "#fdca26"
             ],
             [
              1,
              "#f0f921"
             ]
            ],
            "type": "histogram2dcontour"
           }
          ],
          "mesh3d": [
           {
            "colorbar": {
             "outlinewidth": 0,
             "ticks": ""
            },
            "type": "mesh3d"
           }
          ],
          "parcoords": [
           {
            "line": {
             "colorbar": {
              "outlinewidth": 0,
              "ticks": ""
             }
            },
            "type": "parcoords"
           }
          ],
          "pie": [
           {
            "automargin": true,
            "type": "pie"
           }
          ],
          "scatter": [
           {
            "fillpattern": {
             "fillmode": "overlay",
             "size": 10,
             "solidity": 0.2
            },
            "type": "scatter"
           }
          ],
          "scatter3d": [
           {
            "line": {
             "colorbar": {
              "outlinewidth": 0,
              "ticks": ""
             }
            },
            "marker": {
             "colorbar": {
              "outlinewidth": 0,
              "ticks": ""
             }
            },
            "type": "scatter3d"
           }
          ],
          "scattercarpet": [
           {
            "marker": {
             "colorbar": {
              "outlinewidth": 0,
              "ticks": ""
             }
            },
            "type": "scattercarpet"
           }
          ],
          "scattergeo": [
           {
            "marker": {
             "colorbar": {
              "outlinewidth": 0,
              "ticks": ""
             }
            },
            "type": "scattergeo"
           }
          ],
          "scattergl": [
           {
            "marker": {
             "colorbar": {
              "outlinewidth": 0,
              "ticks": ""
             }
            },
            "type": "scattergl"
           }
          ],
          "scattermapbox": [
           {
            "marker": {
             "colorbar": {
              "outlinewidth": 0,
              "ticks": ""
             }
            },
            "type": "scattermapbox"
           }
          ],
          "scatterpolar": [
           {
            "marker": {
             "colorbar": {
              "outlinewidth": 0,
              "ticks": ""
             }
            },
            "type": "scatterpolar"
           }
          ],
          "scatterpolargl": [
           {
            "marker": {
             "colorbar": {
              "outlinewidth": 0,
              "ticks": ""
             }
            },
            "type": "scatterpolargl"
           }
          ],
          "scatterternary": [
           {
            "marker": {
             "colorbar": {
              "outlinewidth": 0,
              "ticks": ""
             }
            },
            "type": "scatterternary"
           }
          ],
          "surface": [
           {
            "colorbar": {
             "outlinewidth": 0,
             "ticks": ""
            },
            "colorscale": [
             [
              0,
              "#0d0887"
             ],
             [
              0.1111111111111111,
              "#46039f"
             ],
             [
              0.2222222222222222,
              "#7201a8"
             ],
             [
              0.3333333333333333,
              "#9c179e"
             ],
             [
              0.4444444444444444,
              "#bd3786"
             ],
             [
              0.5555555555555556,
              "#d8576b"
             ],
             [
              0.6666666666666666,
              "#ed7953"
             ],
             [
              0.7777777777777778,
              "#fb9f3a"
             ],
             [
              0.8888888888888888,
              "#fdca26"
             ],
             [
              1,
              "#f0f921"
             ]
            ],
            "type": "surface"
           }
          ],
          "table": [
           {
            "cells": {
             "fill": {
              "color": "#EBF0F8"
             },
             "line": {
              "color": "white"
             }
            },
            "header": {
             "fill": {
              "color": "#C8D4E3"
             },
             "line": {
              "color": "white"
             }
            },
            "type": "table"
           }
          ]
         },
         "layout": {
          "annotationdefaults": {
           "arrowcolor": "#2a3f5f",
           "arrowhead": 0,
           "arrowwidth": 1
          },
          "autotypenumbers": "strict",
          "coloraxis": {
           "colorbar": {
            "outlinewidth": 0,
            "ticks": ""
           }
          },
          "colorscale": {
           "diverging": [
            [
             0,
             "#8e0152"
            ],
            [
             0.1,
             "#c51b7d"
            ],
            [
             0.2,
             "#de77ae"
            ],
            [
             0.3,
             "#f1b6da"
            ],
            [
             0.4,
             "#fde0ef"
            ],
            [
             0.5,
             "#f7f7f7"
            ],
            [
             0.6,
             "#e6f5d0"
            ],
            [
             0.7,
             "#b8e186"
            ],
            [
             0.8,
             "#7fbc41"
            ],
            [
             0.9,
             "#4d9221"
            ],
            [
             1,
             "#276419"
            ]
           ],
           "sequential": [
            [
             0,
             "#0d0887"
            ],
            [
             0.1111111111111111,
             "#46039f"
            ],
            [
             0.2222222222222222,
             "#7201a8"
            ],
            [
             0.3333333333333333,
             "#9c179e"
            ],
            [
             0.4444444444444444,
             "#bd3786"
            ],
            [
             0.5555555555555556,
             "#d8576b"
            ],
            [
             0.6666666666666666,
             "#ed7953"
            ],
            [
             0.7777777777777778,
             "#fb9f3a"
            ],
            [
             0.8888888888888888,
             "#fdca26"
            ],
            [
             1,
             "#f0f921"
            ]
           ],
           "sequentialminus": [
            [
             0,
             "#0d0887"
            ],
            [
             0.1111111111111111,
             "#46039f"
            ],
            [
             0.2222222222222222,
             "#7201a8"
            ],
            [
             0.3333333333333333,
             "#9c179e"
            ],
            [
             0.4444444444444444,
             "#bd3786"
            ],
            [
             0.5555555555555556,
             "#d8576b"
            ],
            [
             0.6666666666666666,
             "#ed7953"
            ],
            [
             0.7777777777777778,
             "#fb9f3a"
            ],
            [
             0.8888888888888888,
             "#fdca26"
            ],
            [
             1,
             "#f0f921"
            ]
           ]
          },
          "colorway": [
           "#636efa",
           "#EF553B",
           "#00cc96",
           "#ab63fa",
           "#FFA15A",
           "#19d3f3",
           "#FF6692",
           "#B6E880",
           "#FF97FF",
           "#FECB52"
          ],
          "font": {
           "color": "#2a3f5f"
          },
          "geo": {
           "bgcolor": "white",
           "lakecolor": "white",
           "landcolor": "#E5ECF6",
           "showlakes": true,
           "showland": true,
           "subunitcolor": "white"
          },
          "hoverlabel": {
           "align": "left"
          },
          "hovermode": "closest",
          "mapbox": {
           "style": "light"
          },
          "paper_bgcolor": "white",
          "plot_bgcolor": "#E5ECF6",
          "polar": {
           "angularaxis": {
            "gridcolor": "white",
            "linecolor": "white",
            "ticks": ""
           },
           "bgcolor": "#E5ECF6",
           "radialaxis": {
            "gridcolor": "white",
            "linecolor": "white",
            "ticks": ""
           }
          },
          "scene": {
           "xaxis": {
            "backgroundcolor": "#E5ECF6",
            "gridcolor": "white",
            "gridwidth": 2,
            "linecolor": "white",
            "showbackground": true,
            "ticks": "",
            "zerolinecolor": "white"
           },
           "yaxis": {
            "backgroundcolor": "#E5ECF6",
            "gridcolor": "white",
            "gridwidth": 2,
            "linecolor": "white",
            "showbackground": true,
            "ticks": "",
            "zerolinecolor": "white"
           },
           "zaxis": {
            "backgroundcolor": "#E5ECF6",
            "gridcolor": "white",
            "gridwidth": 2,
            "linecolor": "white",
            "showbackground": true,
            "ticks": "",
            "zerolinecolor": "white"
           }
          },
          "shapedefaults": {
           "line": {
            "color": "#2a3f5f"
           }
          },
          "ternary": {
           "aaxis": {
            "gridcolor": "white",
            "linecolor": "white",
            "ticks": ""
           },
           "baxis": {
            "gridcolor": "white",
            "linecolor": "white",
            "ticks": ""
           },
           "bgcolor": "#E5ECF6",
           "caxis": {
            "gridcolor": "white",
            "linecolor": "white",
            "ticks": ""
           }
          },
          "title": {
           "x": 0.05
          },
          "xaxis": {
           "automargin": true,
           "gridcolor": "white",
           "linecolor": "white",
           "ticks": "",
           "title": {
            "standoff": 15
           },
           "zerolinecolor": "white",
           "zerolinewidth": 2
          },
          "yaxis": {
           "automargin": true,
           "gridcolor": "white",
           "linecolor": "white",
           "ticks": "",
           "title": {
            "standoff": 15
           },
           "zerolinecolor": "white",
           "zerolinewidth": 2
          }
         }
        },
        "title": {
         "text": "Normalized Heatmap of Israelis Injuries by Year and Month"
        },
        "xaxis": {
         "anchor": "y",
         "domain": [
          0,
          1
         ],
         "title": {
          "text": "Month"
         }
        },
        "yaxis": {
         "anchor": "x",
         "domain": [
          0,
          1
         ],
         "title": {
          "text": "Year"
         }
        }
       }
      }
     },
     "metadata": {},
     "output_type": "display_data"
    }
   ],
   "source": [
    "# Grouping the data by 'Year' and 'Month' for better aggregation\n",
    "data_month_year = df.groupby(['Year', 'Month'])[['Palestinians Injuries', 'Israelis Injuries', 'Palestinians Killed', 'Israelis Killed']].sum().reset_index()\n",
    "\n",
    "# Normalize data (log scaling or by dividing by the maximum value)\n",
    "normalized_data = data_month_year[['Palestinians Injuries', 'Israelis Injuries', 'Palestinians Killed', 'Israelis Killed']].div(\n",
    "    data_month_year[['Palestinians Injuries', 'Israelis Injuries', 'Palestinians Killed', 'Israelis Killed']].max(), axis=1)\n",
    "\n",
    "# Heatmap for Palestinians Injuries\n",
    "fig = px.density_heatmap(data_month_year, x='Month', y='Year', z=normalized_data['Palestinians Injuries'],\n",
    "                         color_continuous_scale='Viridis',\n",
    "                         title=\"Normalized Heatmap of Palestinians Injuries by Year and Month\",\n",
    "                         labels={'Palestinians Injuries': 'Injuries Count'})\n",
    "\n",
    "# Show the plot\n",
    "fig.show()\n",
    "\n",
    "# Similarly for Israelis Injuries\n",
    "fig = px.density_heatmap(data_month_year, x='Month', y='Year', z=normalized_data['Israelis Injuries'],\n",
    "                         color_continuous_scale='Viridis',\n",
    "                         title=\"Normalized Heatmap of Israelis Injuries by Year and Month\",\n",
    "                         labels={'Israelis Injuries': 'Injuries Count'})\n",
    "\n",
    "# Show the plot\n",
    "fig.show()"
   ]
  },
  {
   "cell_type": "markdown",
   "metadata": {},
   "source": [
    "## Stacked Bar Chart: Injuries and Deaths Comparison by Year\n",
    "\n",
    "This **stacked bar chart** will provide a comparison of **Palestinians Injuries**, **Israelis Injuries**, **Palestinians Killed**, and **Israelis Killed** for each **year**. It shows how the different categories are distributed in each year, making it easier to compare the overall scale of injuries and deaths year over year.\n",
    "\n",
    "Hovering over the bars will give you detailed counts for each category."
   ]
  },
  {
   "cell_type": "code",
   "execution_count": 37,
   "metadata": {},
   "outputs": [
    {
     "data": {
      "application/vnd.plotly.v1+json": {
       "config": {
        "plotlyServerURL": "https://plot.ly"
       },
       "data": [
        {
         "alignmentgroup": "True",
         "hovertemplate": "Category=Palestinians Injuries<br>Year=%{x}<br>Count=%{y}<extra></extra>",
         "legendgroup": "Palestinians Injuries",
         "marker": {
          "color": "#636efa",
          "pattern": {
           "shape": ""
          }
         },
         "name": "Palestinians Injuries",
         "offsetgroup": "Palestinians Injuries",
         "orientation": "v",
         "showlegend": true,
         "textposition": "auto",
         "type": "bar",
         "x": [
          2000,
          2000,
          2000,
          2000,
          2001,
          2001,
          2001,
          2001,
          2001,
          2001,
          2001,
          2001,
          2001,
          2001,
          2001,
          2001,
          2002,
          2002,
          2002,
          2002,
          2002,
          2002,
          2002,
          2002,
          2002,
          2002,
          2002,
          2002,
          2003,
          2003,
          2003,
          2003,
          2003,
          2003,
          2003,
          2003,
          2003,
          2003,
          2003,
          2003,
          2004,
          2004,
          2004,
          2004,
          2004,
          2004,
          2004,
          2004,
          2004,
          2004,
          2004,
          2004,
          2005,
          2005,
          2005,
          2005,
          2005,
          2005,
          2005,
          2005,
          2005,
          2005,
          2005,
          2005,
          2006,
          2006,
          2006,
          2006,
          2006,
          2006,
          2006,
          2006,
          2006,
          2006,
          2006,
          2006,
          2007,
          2007,
          2007,
          2007,
          2007,
          2007,
          2007,
          2007,
          2007,
          2007,
          2007,
          2007,
          2008,
          2008,
          2008,
          2008,
          2008,
          2008,
          2008,
          2008,
          2008,
          2008,
          2008,
          2008,
          2009,
          2009,
          2009,
          2009,
          2009,
          2009,
          2009,
          2009,
          2009,
          2009,
          2009,
          2009,
          2010,
          2010,
          2010,
          2010,
          2010,
          2010,
          2010,
          2010,
          2010,
          2010,
          2010,
          2010,
          2011,
          2011,
          2011,
          2011,
          2011,
          2011,
          2011,
          2011,
          2011,
          2011,
          2011,
          2011,
          2012,
          2012,
          2012,
          2012,
          2012,
          2012,
          2012,
          2012,
          2012,
          2012,
          2012,
          2012,
          2013,
          2013,
          2013,
          2013,
          2013,
          2013,
          2013,
          2013,
          2013,
          2013,
          2013,
          2013,
          2014,
          2014,
          2014,
          2014,
          2014,
          2014,
          2014,
          2014,
          2014,
          2014,
          2014,
          2014,
          2015,
          2015,
          2015,
          2015,
          2015,
          2015,
          2015,
          2015,
          2015,
          2015,
          2015,
          2015,
          2016,
          2016,
          2016,
          2016,
          2016,
          2016,
          2016,
          2016,
          2016,
          2016,
          2016,
          2016,
          2017,
          2017,
          2017,
          2017,
          2017,
          2017,
          2017,
          2017,
          2017,
          2017,
          2017,
          2017,
          2018,
          2018,
          2018,
          2018,
          2018,
          2018,
          2018,
          2018,
          2018,
          2018,
          2018,
          2018,
          2019,
          2019,
          2019,
          2019,
          2019,
          2019,
          2019,
          2019,
          2019,
          2019,
          2019,
          2019,
          2020,
          2020,
          2020,
          2020,
          2020,
          2020,
          2020,
          2020,
          2020,
          2020,
          2020,
          2020,
          2021,
          2021,
          2021,
          2021,
          2021,
          2021
         ],
         "xaxis": "x",
         "y": [
          781,
          3838,
          5984,
          302,
          304,
          160,
          407,
          657,
          502,
          394,
          319,
          932,
          715,
          927,
          598,
          471,
          185,
          264,
          388,
          353,
          186,
          374,
          299,
          181,
          523,
          870,
          429,
          330,
          322,
          106,
          289,
          226,
          191,
          34,
          367,
          239,
          303,
          379,
          244,
          292,
          161,
          98,
          343,
          579,
          287,
          251,
          377,
          545,
          346,
          417,
          437,
          168,
          166,
          99,
          81,
          90,
          130,
          165,
          116,
          81,
          183,
          68,
          42,
          164,
          73,
          491,
          180,
          196,
          266,
          799,
          198,
          257,
          254,
          203,
          194,
          88,
          13720,
          127,
          152,
          135,
          154,
          67,
          162,
          281,
          115,
          153,
          256,
          104,
          302,
          302,
          302,
          302,
          302,
          302,
          302,
          302,
          302,
          302,
          302,
          302,
          195,
          30,
          88,
          80,
          36,
          26,
          89,
          82,
          136,
          87,
          65,
          5557,
          105,
          87,
          147,
          148,
          46,
          85,
          104,
          118,
          119,
          402,
          92,
          86,
          210,
          63,
          110,
          149,
          191,
          156,
          159,
          397,
          193,
          204,
          135,
          143,
          198,
          2252,
          89,
          161,
          169,
          202,
          231,
          703,
          169,
          404,
          256,
          60,
          159,
          320,
          105,
          374,
          137,
          138,
          124,
          429,
          656,
          493,
          766,
          263,
          350,
          984,
          291,
          209,
          13735,
          302,
          326,
          265,
          302,
          228,
          216,
          219,
          2222,
          3888,
          7555,
          413,
          196,
          141,
          78,
          284,
          223,
          176,
          167,
          134,
          105,
          97,
          169,
          210,
          261,
          256,
          167,
          434,
          286,
          348,
          514,
          582,
          4580,
          89,
          120,
          118,
          135,
          1772,
          790,
          302,
          150,
          189,
          97,
          44,
          302,
          302,
          302,
          302,
          302,
          302,
          302,
          302,
          302,
          302,
          302,
          302,
          302,
          302,
          302,
          302,
          302,
          302,
          302,
          302,
          302,
          302,
          302,
          302,
          302,
          302,
          302,
          302,
          302,
          302,
          302,
          302,
          302,
          302,
          302,
          302,
          302,
          302,
          302,
          302,
          302,
          111475
         ],
         "yaxis": "y"
        },
        {
         "alignmentgroup": "True",
         "hovertemplate": "Category=Israelis Injuries<br>Year=%{x}<br>Count=%{y}<extra></extra>",
         "legendgroup": "Israelis Injuries",
         "marker": {
          "color": "#EF553B",
          "pattern": {
           "shape": ""
          }
         },
         "name": "Israelis Injuries",
         "offsetgroup": "Israelis Injuries",
         "orientation": "v",
         "showlegend": true,
         "textposition": "auto",
         "type": "bar",
         "x": [
          2000,
          2000,
          2000,
          2000,
          2001,
          2001,
          2001,
          2001,
          2001,
          2001,
          2001,
          2001,
          2001,
          2001,
          2001,
          2001,
          2002,
          2002,
          2002,
          2002,
          2002,
          2002,
          2002,
          2002,
          2002,
          2002,
          2002,
          2002,
          2003,
          2003,
          2003,
          2003,
          2003,
          2003,
          2003,
          2003,
          2003,
          2003,
          2003,
          2003,
          2004,
          2004,
          2004,
          2004,
          2004,
          2004,
          2004,
          2004,
          2004,
          2004,
          2004,
          2004,
          2005,
          2005,
          2005,
          2005,
          2005,
          2005,
          2005,
          2005,
          2005,
          2005,
          2005,
          2005,
          2006,
          2006,
          2006,
          2006,
          2006,
          2006,
          2006,
          2006,
          2006,
          2006,
          2006,
          2006,
          2007,
          2007,
          2007,
          2007,
          2007,
          2007,
          2007,
          2007,
          2007,
          2007,
          2007,
          2007,
          2008,
          2008,
          2008,
          2008,
          2008,
          2008,
          2008,
          2008,
          2008,
          2008,
          2008,
          2008,
          2009,
          2009,
          2009,
          2009,
          2009,
          2009,
          2009,
          2009,
          2009,
          2009,
          2009,
          2009,
          2010,
          2010,
          2010,
          2010,
          2010,
          2010,
          2010,
          2010,
          2010,
          2010,
          2010,
          2010,
          2011,
          2011,
          2011,
          2011,
          2011,
          2011,
          2011,
          2011,
          2011,
          2011,
          2011,
          2011,
          2012,
          2012,
          2012,
          2012,
          2012,
          2012,
          2012,
          2012,
          2012,
          2012,
          2012,
          2012,
          2013,
          2013,
          2013,
          2013,
          2013,
          2013,
          2013,
          2013,
          2013,
          2013,
          2013,
          2013,
          2014,
          2014,
          2014,
          2014,
          2014,
          2014,
          2014,
          2014,
          2014,
          2014,
          2014,
          2014,
          2015,
          2015,
          2015,
          2015,
          2015,
          2015,
          2015,
          2015,
          2015,
          2015,
          2015,
          2015,
          2016,
          2016,
          2016,
          2016,
          2016,
          2016,
          2016,
          2016,
          2016,
          2016,
          2016,
          2016,
          2017,
          2017,
          2017,
          2017,
          2017,
          2017,
          2017,
          2017,
          2017,
          2017,
          2017,
          2017,
          2018,
          2018,
          2018,
          2018,
          2018,
          2018,
          2018,
          2018,
          2018,
          2018,
          2018,
          2018,
          2019,
          2019,
          2019,
          2019,
          2019,
          2019,
          2019,
          2019,
          2019,
          2019,
          2019,
          2019,
          2020,
          2020,
          2020,
          2020,
          2020,
          2020,
          2020,
          2020,
          2020,
          2020,
          2020,
          2020,
          2021,
          2021,
          2021,
          2021,
          2021,
          2021
         ],
         "xaxis": "x",
         "y": [
          22,
          48,
          32,
          18,
          17,
          6,
          30,
          16,
          21,
          39,
          5,
          46,
          17,
          46,
          15,
          25,
          18,
          11,
          32,
          16,
          18,
          18,
          18,
          18,
          13,
          33,
          24,
          6,
          5,
          12,
          26,
          7,
          20,
          44,
          13,
          11,
          18,
          21,
          55,
          26,
          11,
          19,
          20,
          14,
          19,
          55,
          21,
          11,
          20,
          35,
          12,
          16,
          88,
          17,
          46,
          25,
          16,
          105,
          20,
          17,
          19,
          17,
          62,
          61,
          12,
          30,
          19,
          24,
          10,
          41,
          26,
          14,
          78,
          46,
          30,
          47,
          20,
          6,
          13,
          87,
          56,
          7,
          19,
          30,
          22,
          15,
          35,
          12,
          18,
          18,
          18,
          18,
          18,
          18,
          18,
          18,
          18,
          18,
          18,
          18,
          27,
          44,
          30,
          27,
          44,
          44,
          7,
          26,
          25,
          13,
          4,
          28,
          5,
          7,
          5,
          12,
          11,
          0,
          21,
          17,
          10,
          59,
          14,
          15,
          6,
          3,
          9,
          5,
          22,
          3,
          9,
          36,
          10,
          13,
          3,
          5,
          6,
          253,
          1,
          7,
          5,
          12,
          4,
          15,
          9,
          16,
          14,
          3,
          4,
          5,
          15,
          9,
          5,
          11,
          1,
          33,
          17,
          21,
          24,
          6,
          15,
          55,
          32,
          22,
          2347,
          18,
          5,
          28,
          15,
          5,
          6,
          9,
          43,
          50,
          80,
          39,
          20,
          8,
          14,
          11,
          13,
          13,
          5,
          8,
          18,
          7,
          17,
          14,
          2,
          9,
          30,
          2,
          21,
          27,
          8,
          16,
          10,
          8,
          5,
          5,
          2,
          23,
          20,
          18,
          12,
          19,
          37,
          17,
          18,
          18,
          18,
          18,
          18,
          18,
          18,
          18,
          18,
          18,
          18,
          18,
          18,
          18,
          18,
          18,
          18,
          18,
          18,
          18,
          18,
          18,
          18,
          18,
          18,
          18,
          18,
          18,
          18,
          18,
          18,
          18,
          18,
          18,
          18,
          18,
          18,
          18,
          18,
          18,
          18,
          5160
         ],
         "yaxis": "y"
        },
        {
         "alignmentgroup": "True",
         "hovertemplate": "Category=Palestinians Killed<br>Year=%{x}<br>Count=%{y}<extra></extra>",
         "legendgroup": "Palestinians Killed",
         "marker": {
          "color": "#00cc96",
          "pattern": {
           "shape": ""
          }
         },
         "name": "Palestinians Killed",
         "offsetgroup": "Palestinians Killed",
         "orientation": "v",
         "showlegend": true,
         "textposition": "auto",
         "type": "bar",
         "x": [
          2000,
          2000,
          2000,
          2000,
          2001,
          2001,
          2001,
          2001,
          2001,
          2001,
          2001,
          2001,
          2001,
          2001,
          2001,
          2001,
          2002,
          2002,
          2002,
          2002,
          2002,
          2002,
          2002,
          2002,
          2002,
          2002,
          2002,
          2002,
          2003,
          2003,
          2003,
          2003,
          2003,
          2003,
          2003,
          2003,
          2003,
          2003,
          2003,
          2003,
          2004,
          2004,
          2004,
          2004,
          2004,
          2004,
          2004,
          2004,
          2004,
          2004,
          2004,
          2004,
          2005,
          2005,
          2005,
          2005,
          2005,
          2005,
          2005,
          2005,
          2005,
          2005,
          2005,
          2005,
          2006,
          2006,
          2006,
          2006,
          2006,
          2006,
          2006,
          2006,
          2006,
          2006,
          2006,
          2006,
          2007,
          2007,
          2007,
          2007,
          2007,
          2007,
          2007,
          2007,
          2007,
          2007,
          2007,
          2007,
          2008,
          2008,
          2008,
          2008,
          2008,
          2008,
          2008,
          2008,
          2008,
          2008,
          2008,
          2008,
          2009,
          2009,
          2009,
          2009,
          2009,
          2009,
          2009,
          2009,
          2009,
          2009,
          2009,
          2009,
          2010,
          2010,
          2010,
          2010,
          2010,
          2010,
          2010,
          2010,
          2010,
          2010,
          2010,
          2010,
          2011,
          2011,
          2011,
          2011,
          2011,
          2011,
          2011,
          2011,
          2011,
          2011,
          2011,
          2011,
          2012,
          2012,
          2012,
          2012,
          2012,
          2012,
          2012,
          2012,
          2012,
          2012,
          2012,
          2012,
          2013,
          2013,
          2013,
          2013,
          2013,
          2013,
          2013,
          2013,
          2013,
          2013,
          2013,
          2013,
          2014,
          2014,
          2014,
          2014,
          2014,
          2014,
          2014,
          2014,
          2014,
          2014,
          2014,
          2014,
          2015,
          2015,
          2015,
          2015,
          2015,
          2015,
          2015,
          2015,
          2015,
          2015,
          2015,
          2015,
          2016,
          2016,
          2016,
          2016,
          2016,
          2016,
          2016,
          2016,
          2016,
          2016,
          2016,
          2016,
          2017,
          2017,
          2017,
          2017,
          2017,
          2017,
          2017,
          2017,
          2017,
          2017,
          2017,
          2017,
          2018,
          2018,
          2018,
          2018,
          2018,
          2018,
          2018,
          2018,
          2018,
          2018,
          2018,
          2018,
          2019,
          2019,
          2019,
          2019,
          2019,
          2019,
          2019,
          2019,
          2019,
          2019,
          2019,
          2019,
          2020,
          2020,
          2020,
          2020,
          2020,
          2020,
          2020,
          2020,
          2020,
          2020,
          2020,
          2020,
          2021,
          2021,
          2021,
          2021,
          2021,
          2021
         ],
         "xaxis": "x",
         "y": [
          51,
          112,
          104,
          16,
          67,
          39,
          89,
          59,
          37,
          32,
          13,
          46,
          23,
          27,
          19,
          19,
          72,
          46,
          66,
          51,
          53,
          43,
          57,
          48,
          246,
          237,
          85,
          28,
          48,
          30,
          58,
          29,
          26,
          4,
          59,
          61,
          59,
          85,
          69,
          60,
          61,
          42,
          145,
          112,
          39,
          0,
          59,
          113,
          55,
          79,
          54,
          27,
          20,
          15,
          22,
          17,
          11,
          25,
          5,
          10,
          5,
          1,
          9,
          50,
          14,
          134,
          61,
          32,
          74,
          180,
          43,
          37,
          31,
          15,
          31,
          13,
          61,
          31,
          36,
          34,
          47,
          27,
          40,
          62,
          16,
          9,
          12,
          10,
          432,
          15,
          4,
          3,
          0,
          8,
          30,
          40,
          72,
          114,
          79,
          89,
          6,
          1,
          0,
          9,
          6,
          2,
          4,
          6,
          6,
          9,
          9,
          978,
          13,
          3,
          6,
          13,
          2,
          5,
          15,
          2,
          5,
          8,
          2,
          8,
          8,
          4,
          12,
          2,
          30,
          4,
          0,
          2,
          24,
          15,
          6,
          10,
          2,
          181,
          12,
          8,
          1,
          3,
          15,
          0,
          1,
          28,
          2,
          2,
          5,
          9,
          4,
          2,
          6,
          1,
          0,
          0,
          3,
          2,
          1,
          5,
          5,
          8,
          8,
          20,
          614,
          1590,
          10,
          3,
          0,
          12,
          3,
          6,
          40,
          34,
          74,
          4,
          9,
          7,
          3,
          1,
          7,
          1,
          4,
          4,
          5,
          6,
          8,
          11,
          3,
          9,
          7,
          3,
          3,
          23,
          17,
          20,
          18,
          2,
          13,
          2,
          2,
          20,
          8,
          6,
          5,
          7,
          6,
          7,
          14,
          25,
          32,
          25,
          16,
          24,
          18,
          66,
          34,
          20,
          9,
          7,
          1,
          43,
          3,
          5,
          11,
          4,
          3,
          33,
          8,
          21,
          8,
          9,
          2,
          2,
          2,
          1,
          3,
          1,
          1,
          4,
          1,
          2,
          9,
          6,
          4,
          1,
          4,
          1,
          26,
          10000
         ],
         "yaxis": "y"
        },
        {
         "alignmentgroup": "True",
         "hovertemplate": "Category=Israelis Killed<br>Year=%{x}<br>Count=%{y}<extra></extra>",
         "legendgroup": "Israelis Killed",
         "marker": {
          "color": "#ab63fa",
          "pattern": {
           "shape": ""
          }
         },
         "name": "Israelis Killed",
         "offsetgroup": "Israelis Killed",
         "orientation": "v",
         "showlegend": true,
         "textposition": "auto",
         "type": "bar",
         "x": [
          2000,
          2000,
          2000,
          2000,
          2001,
          2001,
          2001,
          2001,
          2001,
          2001,
          2001,
          2001,
          2001,
          2001,
          2001,
          2001,
          2002,
          2002,
          2002,
          2002,
          2002,
          2002,
          2002,
          2002,
          2002,
          2002,
          2002,
          2002,
          2003,
          2003,
          2003,
          2003,
          2003,
          2003,
          2003,
          2003,
          2003,
          2003,
          2003,
          2003,
          2004,
          2004,
          2004,
          2004,
          2004,
          2004,
          2004,
          2004,
          2004,
          2004,
          2004,
          2004,
          2005,
          2005,
          2005,
          2005,
          2005,
          2005,
          2005,
          2005,
          2005,
          2005,
          2005,
          2005,
          2006,
          2006,
          2006,
          2006,
          2006,
          2006,
          2006,
          2006,
          2006,
          2006,
          2006,
          2006,
          2007,
          2007,
          2007,
          2007,
          2007,
          2007,
          2007,
          2007,
          2007,
          2007,
          2007,
          2007,
          2008,
          2008,
          2008,
          2008,
          2008,
          2008,
          2008,
          2008,
          2008,
          2008,
          2008,
          2008,
          2009,
          2009,
          2009,
          2009,
          2009,
          2009,
          2009,
          2009,
          2009,
          2009,
          2009,
          2009,
          2010,
          2010,
          2010,
          2010,
          2010,
          2010,
          2010,
          2010,
          2010,
          2010,
          2010,
          2010,
          2011,
          2011,
          2011,
          2011,
          2011,
          2011,
          2011,
          2011,
          2011,
          2011,
          2011,
          2011,
          2012,
          2012,
          2012,
          2012,
          2012,
          2012,
          2012,
          2012,
          2012,
          2012,
          2012,
          2012,
          2013,
          2013,
          2013,
          2013,
          2013,
          2013,
          2013,
          2013,
          2013,
          2013,
          2013,
          2013,
          2014,
          2014,
          2014,
          2014,
          2014,
          2014,
          2014,
          2014,
          2014,
          2014,
          2014,
          2014,
          2015,
          2015,
          2015,
          2015,
          2015,
          2015,
          2015,
          2015,
          2015,
          2015,
          2015,
          2015,
          2016,
          2016,
          2016,
          2016,
          2016,
          2016,
          2016,
          2016,
          2016,
          2016,
          2016,
          2016,
          2017,
          2017,
          2017,
          2017,
          2017,
          2017,
          2017,
          2017,
          2017,
          2017,
          2017,
          2017,
          2018,
          2018,
          2018,
          2018,
          2018,
          2018,
          2018,
          2018,
          2018,
          2018,
          2018,
          2018,
          2019,
          2019,
          2019,
          2019,
          2019,
          2019,
          2019,
          2019,
          2019,
          2019,
          2019,
          2019,
          2020,
          2020,
          2020,
          2020,
          2020,
          2020,
          2020,
          2020,
          2020,
          2020,
          2020,
          2020,
          2021,
          2021,
          2021,
          2021,
          2021,
          2021
         ],
         "xaxis": "x",
         "y": [
          8,
          22,
          10,
          1,
          36,
          14,
          14,
          13,
          26,
          10,
          28,
          17,
          7,
          8,
          13,
          6,
          7,
          40,
          22,
          13,
          13,
          25,
          57,
          29,
          46,
          122,
          29,
          16,
          6,
          4,
          27,
          21,
          25,
          2,
          28,
          13,
          6,
          23,
          8,
          22,
          8,
          3,
          3,
          11,
          17,
          0,
          3,
          19,
          3,
          11,
          11,
          15,
          8,
          1,
          10,
          1,
          0,
          8,
          4,
          1,
          0,
          0,
          5,
          13,
          0,
          0,
          0,
          1,
          1,
          2,
          3,
          0,
          7,
          5,
          1,
          0,
          2,
          1,
          2,
          0,
          0,
          1,
          0,
          2,
          0,
          0,
          1,
          3,
          4,
          0,
          1,
          0,
          4,
          4,
          1,
          2,
          8,
          12,
          2,
          1,
          1,
          0,
          0,
          0,
          0,
          0,
          0,
          1,
          1,
          0,
          0,
          6,
          0,
          0,
          0,
          0,
          4,
          0,
          1,
          0,
          0,
          2,
          2,
          0,
          0,
          0,
          0,
          2,
          1,
          0,
          0,
          0,
          2,
          5,
          0,
          0,
          0,
          6,
          0,
          0,
          0,
          0,
          1,
          0,
          0,
          0,
          0,
          0,
          1,
          1,
          1,
          2,
          0,
          0,
          0,
          0,
          1,
          0,
          0,
          0,
          0,
          10,
          2,
          0,
          9,
          59,
          3,
          1,
          1,
          0,
          0,
          0,
          2,
          8,
          10,
          1,
          0,
          0,
          2,
          0,
          1,
          0,
          0,
          0,
          0,
          0,
          2,
          0,
          0,
          1,
          5,
          0,
          0,
          0,
          2,
          2,
          0,
          2,
          1,
          3,
          0,
          5,
          1,
          0,
          1,
          0,
          0,
          6,
          2,
          1,
          2,
          1,
          0,
          2,
          0,
          1,
          0,
          3,
          1,
          1,
          0,
          0,
          0,
          1,
          2,
          1,
          0,
          4,
          0,
          2,
          1,
          0,
          1,
          0,
          0,
          0,
          1,
          0,
          0,
          1,
          0,
          0,
          0,
          0,
          0,
          0,
          0,
          0,
          3,
          1275
         ],
         "yaxis": "y"
        }
       ],
       "layout": {
        "barmode": "stack",
        "hovermode": "x unified",
        "legend": {
         "title": {
          "text": "Category"
         },
         "tracegroupgap": 0
        },
        "template": {
         "data": {
          "bar": [
           {
            "error_x": {
             "color": "#f2f5fa"
            },
            "error_y": {
             "color": "#f2f5fa"
            },
            "marker": {
             "line": {
              "color": "rgb(17,17,17)",
              "width": 0.5
             },
             "pattern": {
              "fillmode": "overlay",
              "size": 10,
              "solidity": 0.2
             }
            },
            "type": "bar"
           }
          ],
          "barpolar": [
           {
            "marker": {
             "line": {
              "color": "rgb(17,17,17)",
              "width": 0.5
             },
             "pattern": {
              "fillmode": "overlay",
              "size": 10,
              "solidity": 0.2
             }
            },
            "type": "barpolar"
           }
          ],
          "carpet": [
           {
            "aaxis": {
             "endlinecolor": "#A2B1C6",
             "gridcolor": "#506784",
             "linecolor": "#506784",
             "minorgridcolor": "#506784",
             "startlinecolor": "#A2B1C6"
            },
            "baxis": {
             "endlinecolor": "#A2B1C6",
             "gridcolor": "#506784",
             "linecolor": "#506784",
             "minorgridcolor": "#506784",
             "startlinecolor": "#A2B1C6"
            },
            "type": "carpet"
           }
          ],
          "choropleth": [
           {
            "colorbar": {
             "outlinewidth": 0,
             "ticks": ""
            },
            "type": "choropleth"
           }
          ],
          "contour": [
           {
            "colorbar": {
             "outlinewidth": 0,
             "ticks": ""
            },
            "colorscale": [
             [
              0,
              "#0d0887"
             ],
             [
              0.1111111111111111,
              "#46039f"
             ],
             [
              0.2222222222222222,
              "#7201a8"
             ],
             [
              0.3333333333333333,
              "#9c179e"
             ],
             [
              0.4444444444444444,
              "#bd3786"
             ],
             [
              0.5555555555555556,
              "#d8576b"
             ],
             [
              0.6666666666666666,
              "#ed7953"
             ],
             [
              0.7777777777777778,
              "#fb9f3a"
             ],
             [
              0.8888888888888888,
              "#fdca26"
             ],
             [
              1,
              "#f0f921"
             ]
            ],
            "type": "contour"
           }
          ],
          "contourcarpet": [
           {
            "colorbar": {
             "outlinewidth": 0,
             "ticks": ""
            },
            "type": "contourcarpet"
           }
          ],
          "heatmap": [
           {
            "colorbar": {
             "outlinewidth": 0,
             "ticks": ""
            },
            "colorscale": [
             [
              0,
              "#0d0887"
             ],
             [
              0.1111111111111111,
              "#46039f"
             ],
             [
              0.2222222222222222,
              "#7201a8"
             ],
             [
              0.3333333333333333,
              "#9c179e"
             ],
             [
              0.4444444444444444,
              "#bd3786"
             ],
             [
              0.5555555555555556,
              "#d8576b"
             ],
             [
              0.6666666666666666,
              "#ed7953"
             ],
             [
              0.7777777777777778,
              "#fb9f3a"
             ],
             [
              0.8888888888888888,
              "#fdca26"
             ],
             [
              1,
              "#f0f921"
             ]
            ],
            "type": "heatmap"
           }
          ],
          "heatmapgl": [
           {
            "colorbar": {
             "outlinewidth": 0,
             "ticks": ""
            },
            "colorscale": [
             [
              0,
              "#0d0887"
             ],
             [
              0.1111111111111111,
              "#46039f"
             ],
             [
              0.2222222222222222,
              "#7201a8"
             ],
             [
              0.3333333333333333,
              "#9c179e"
             ],
             [
              0.4444444444444444,
              "#bd3786"
             ],
             [
              0.5555555555555556,
              "#d8576b"
             ],
             [
              0.6666666666666666,
              "#ed7953"
             ],
             [
              0.7777777777777778,
              "#fb9f3a"
             ],
             [
              0.8888888888888888,
              "#fdca26"
             ],
             [
              1,
              "#f0f921"
             ]
            ],
            "type": "heatmapgl"
           }
          ],
          "histogram": [
           {
            "marker": {
             "pattern": {
              "fillmode": "overlay",
              "size": 10,
              "solidity": 0.2
             }
            },
            "type": "histogram"
           }
          ],
          "histogram2d": [
           {
            "colorbar": {
             "outlinewidth": 0,
             "ticks": ""
            },
            "colorscale": [
             [
              0,
              "#0d0887"
             ],
             [
              0.1111111111111111,
              "#46039f"
             ],
             [
              0.2222222222222222,
              "#7201a8"
             ],
             [
              0.3333333333333333,
              "#9c179e"
             ],
             [
              0.4444444444444444,
              "#bd3786"
             ],
             [
              0.5555555555555556,
              "#d8576b"
             ],
             [
              0.6666666666666666,
              "#ed7953"
             ],
             [
              0.7777777777777778,
              "#fb9f3a"
             ],
             [
              0.8888888888888888,
              "#fdca26"
             ],
             [
              1,
              "#f0f921"
             ]
            ],
            "type": "histogram2d"
           }
          ],
          "histogram2dcontour": [
           {
            "colorbar": {
             "outlinewidth": 0,
             "ticks": ""
            },
            "colorscale": [
             [
              0,
              "#0d0887"
             ],
             [
              0.1111111111111111,
              "#46039f"
             ],
             [
              0.2222222222222222,
              "#7201a8"
             ],
             [
              0.3333333333333333,
              "#9c179e"
             ],
             [
              0.4444444444444444,
              "#bd3786"
             ],
             [
              0.5555555555555556,
              "#d8576b"
             ],
             [
              0.6666666666666666,
              "#ed7953"
             ],
             [
              0.7777777777777778,
              "#fb9f3a"
             ],
             [
              0.8888888888888888,
              "#fdca26"
             ],
             [
              1,
              "#f0f921"
             ]
            ],
            "type": "histogram2dcontour"
           }
          ],
          "mesh3d": [
           {
            "colorbar": {
             "outlinewidth": 0,
             "ticks": ""
            },
            "type": "mesh3d"
           }
          ],
          "parcoords": [
           {
            "line": {
             "colorbar": {
              "outlinewidth": 0,
              "ticks": ""
             }
            },
            "type": "parcoords"
           }
          ],
          "pie": [
           {
            "automargin": true,
            "type": "pie"
           }
          ],
          "scatter": [
           {
            "marker": {
             "line": {
              "color": "#283442"
             }
            },
            "type": "scatter"
           }
          ],
          "scatter3d": [
           {
            "line": {
             "colorbar": {
              "outlinewidth": 0,
              "ticks": ""
             }
            },
            "marker": {
             "colorbar": {
              "outlinewidth": 0,
              "ticks": ""
             }
            },
            "type": "scatter3d"
           }
          ],
          "scattercarpet": [
           {
            "marker": {
             "colorbar": {
              "outlinewidth": 0,
              "ticks": ""
             }
            },
            "type": "scattercarpet"
           }
          ],
          "scattergeo": [
           {
            "marker": {
             "colorbar": {
              "outlinewidth": 0,
              "ticks": ""
             }
            },
            "type": "scattergeo"
           }
          ],
          "scattergl": [
           {
            "marker": {
             "line": {
              "color": "#283442"
             }
            },
            "type": "scattergl"
           }
          ],
          "scattermapbox": [
           {
            "marker": {
             "colorbar": {
              "outlinewidth": 0,
              "ticks": ""
             }
            },
            "type": "scattermapbox"
           }
          ],
          "scatterpolar": [
           {
            "marker": {
             "colorbar": {
              "outlinewidth": 0,
              "ticks": ""
             }
            },
            "type": "scatterpolar"
           }
          ],
          "scatterpolargl": [
           {
            "marker": {
             "colorbar": {
              "outlinewidth": 0,
              "ticks": ""
             }
            },
            "type": "scatterpolargl"
           }
          ],
          "scatterternary": [
           {
            "marker": {
             "colorbar": {
              "outlinewidth": 0,
              "ticks": ""
             }
            },
            "type": "scatterternary"
           }
          ],
          "surface": [
           {
            "colorbar": {
             "outlinewidth": 0,
             "ticks": ""
            },
            "colorscale": [
             [
              0,
              "#0d0887"
             ],
             [
              0.1111111111111111,
              "#46039f"
             ],
             [
              0.2222222222222222,
              "#7201a8"
             ],
             [
              0.3333333333333333,
              "#9c179e"
             ],
             [
              0.4444444444444444,
              "#bd3786"
             ],
             [
              0.5555555555555556,
              "#d8576b"
             ],
             [
              0.6666666666666666,
              "#ed7953"
             ],
             [
              0.7777777777777778,
              "#fb9f3a"
             ],
             [
              0.8888888888888888,
              "#fdca26"
             ],
             [
              1,
              "#f0f921"
             ]
            ],
            "type": "surface"
           }
          ],
          "table": [
           {
            "cells": {
             "fill": {
              "color": "#506784"
             },
             "line": {
              "color": "rgb(17,17,17)"
             }
            },
            "header": {
             "fill": {
              "color": "#2a3f5f"
             },
             "line": {
              "color": "rgb(17,17,17)"
             }
            },
            "type": "table"
           }
          ]
         },
         "layout": {
          "annotationdefaults": {
           "arrowcolor": "#f2f5fa",
           "arrowhead": 0,
           "arrowwidth": 1
          },
          "autotypenumbers": "strict",
          "coloraxis": {
           "colorbar": {
            "outlinewidth": 0,
            "ticks": ""
           }
          },
          "colorscale": {
           "diverging": [
            [
             0,
             "#8e0152"
            ],
            [
             0.1,
             "#c51b7d"
            ],
            [
             0.2,
             "#de77ae"
            ],
            [
             0.3,
             "#f1b6da"
            ],
            [
             0.4,
             "#fde0ef"
            ],
            [
             0.5,
             "#f7f7f7"
            ],
            [
             0.6,
             "#e6f5d0"
            ],
            [
             0.7,
             "#b8e186"
            ],
            [
             0.8,
             "#7fbc41"
            ],
            [
             0.9,
             "#4d9221"
            ],
            [
             1,
             "#276419"
            ]
           ],
           "sequential": [
            [
             0,
             "#0d0887"
            ],
            [
             0.1111111111111111,
             "#46039f"
            ],
            [
             0.2222222222222222,
             "#7201a8"
            ],
            [
             0.3333333333333333,
             "#9c179e"
            ],
            [
             0.4444444444444444,
             "#bd3786"
            ],
            [
             0.5555555555555556,
             "#d8576b"
            ],
            [
             0.6666666666666666,
             "#ed7953"
            ],
            [
             0.7777777777777778,
             "#fb9f3a"
            ],
            [
             0.8888888888888888,
             "#fdca26"
            ],
            [
             1,
             "#f0f921"
            ]
           ],
           "sequentialminus": [
            [
             0,
             "#0d0887"
            ],
            [
             0.1111111111111111,
             "#46039f"
            ],
            [
             0.2222222222222222,
             "#7201a8"
            ],
            [
             0.3333333333333333,
             "#9c179e"
            ],
            [
             0.4444444444444444,
             "#bd3786"
            ],
            [
             0.5555555555555556,
             "#d8576b"
            ],
            [
             0.6666666666666666,
             "#ed7953"
            ],
            [
             0.7777777777777778,
             "#fb9f3a"
            ],
            [
             0.8888888888888888,
             "#fdca26"
            ],
            [
             1,
             "#f0f921"
            ]
           ]
          },
          "colorway": [
           "#636efa",
           "#EF553B",
           "#00cc96",
           "#ab63fa",
           "#FFA15A",
           "#19d3f3",
           "#FF6692",
           "#B6E880",
           "#FF97FF",
           "#FECB52"
          ],
          "font": {
           "color": "#f2f5fa"
          },
          "geo": {
           "bgcolor": "rgb(17,17,17)",
           "lakecolor": "rgb(17,17,17)",
           "landcolor": "rgb(17,17,17)",
           "showlakes": true,
           "showland": true,
           "subunitcolor": "#506784"
          },
          "hoverlabel": {
           "align": "left"
          },
          "hovermode": "closest",
          "mapbox": {
           "style": "dark"
          },
          "paper_bgcolor": "rgb(17,17,17)",
          "plot_bgcolor": "rgb(17,17,17)",
          "polar": {
           "angularaxis": {
            "gridcolor": "#506784",
            "linecolor": "#506784",
            "ticks": ""
           },
           "bgcolor": "rgb(17,17,17)",
           "radialaxis": {
            "gridcolor": "#506784",
            "linecolor": "#506784",
            "ticks": ""
           }
          },
          "scene": {
           "xaxis": {
            "backgroundcolor": "rgb(17,17,17)",
            "gridcolor": "#506784",
            "gridwidth": 2,
            "linecolor": "#506784",
            "showbackground": true,
            "ticks": "",
            "zerolinecolor": "#C8D4E3"
           },
           "yaxis": {
            "backgroundcolor": "rgb(17,17,17)",
            "gridcolor": "#506784",
            "gridwidth": 2,
            "linecolor": "#506784",
            "showbackground": true,
            "ticks": "",
            "zerolinecolor": "#C8D4E3"
           },
           "zaxis": {
            "backgroundcolor": "rgb(17,17,17)",
            "gridcolor": "#506784",
            "gridwidth": 2,
            "linecolor": "#506784",
            "showbackground": true,
            "ticks": "",
            "zerolinecolor": "#C8D4E3"
           }
          },
          "shapedefaults": {
           "line": {
            "color": "#f2f5fa"
           }
          },
          "sliderdefaults": {
           "bgcolor": "#C8D4E3",
           "bordercolor": "rgb(17,17,17)",
           "borderwidth": 1,
           "tickwidth": 0
          },
          "ternary": {
           "aaxis": {
            "gridcolor": "#506784",
            "linecolor": "#506784",
            "ticks": ""
           },
           "baxis": {
            "gridcolor": "#506784",
            "linecolor": "#506784",
            "ticks": ""
           },
           "bgcolor": "rgb(17,17,17)",
           "caxis": {
            "gridcolor": "#506784",
            "linecolor": "#506784",
            "ticks": ""
           }
          },
          "title": {
           "x": 0.05
          },
          "updatemenudefaults": {
           "bgcolor": "#506784",
           "borderwidth": 0
          },
          "xaxis": {
           "automargin": true,
           "gridcolor": "#283442",
           "linecolor": "#506784",
           "ticks": "",
           "title": {
            "standoff": 15
           },
           "zerolinecolor": "#283442",
           "zerolinewidth": 2
          },
          "yaxis": {
           "automargin": true,
           "gridcolor": "#283442",
           "linecolor": "#506784",
           "ticks": "",
           "title": {
            "standoff": 15
           },
           "zerolinecolor": "#283442",
           "zerolinewidth": 2
          }
         }
        },
        "title": {
         "text": "Stacked Bar Chart of Injuries and Deaths by Year (Log Scale)"
        },
        "xaxis": {
         "anchor": "y",
         "domain": [
          0,
          1
         ],
         "title": {
          "text": "Year"
         }
        },
        "yaxis": {
         "anchor": "x",
         "domain": [
          0,
          1
         ],
         "title": {
          "text": "Log Count"
         },
         "type": "log"
        }
       }
      }
     },
     "metadata": {},
     "output_type": "display_data"
    }
   ],
   "source": [
    "# Creating a stacked bar chart with logarithmic scaling\n",
    "fig = px.bar(df, x='Year', y=['Palestinians Injuries', 'Israelis Injuries', 'Palestinians Killed', 'Israelis Killed'],\n",
    "             title=\"Stacked Bar Chart of Injuries and Deaths by Year (Log Scale)\",\n",
    "             labels={'value': 'Count', 'variable': 'Category'},\n",
    "             barmode='stack')\n",
    "\n",
    "# Update y-axis to be logarithmic scale\n",
    "fig.update_layout(\n",
    "    yaxis_type=\"log\",\n",
    "    title=\"Stacked Bar Chart of Injuries and Deaths by Year (Log Scale)\",\n",
    "    xaxis_title='Year',\n",
    "    yaxis_title='Log Count',\n",
    "    template='plotly_dark',\n",
    "    hovermode='x unified',\n",
    "    legend_title=\"Category\"\n",
    ")\n",
    "\n",
    "# Show the plot\n",
    "fig.show()"
   ]
  },
  {
   "cell_type": "markdown",
   "metadata": {},
   "source": [
    "## Interactive Correlation Heatmap\n",
    "\n",
    "This **correlation heatmap** provides an overview of how the various variables—**Palestinians Injuries**, **Israelis Injuries**, **Palestinians Killed**, and **Israelis Killed**—are correlated with one another. It allows us to quickly identify strong positive or negative relationships between the variables.\n",
    "\n",
    "A darker shade indicates a stronger correlation, while lighter shades represent weaker correlations.\n"
   ]
  },
  {
   "cell_type": "code",
   "execution_count": 38,
   "metadata": {},
   "outputs": [
    {
     "data": {
      "application/vnd.plotly.v1+json": {
       "config": {
        "plotlyServerURL": "https://plot.ly"
       },
       "data": [
        {
         "coloraxis": "coloraxis",
         "hovertemplate": "x: %{x}<br>y: %{y}<br>color: %{z}<extra></extra>",
         "name": "0",
         "texttemplate": "%{z}",
         "type": "heatmap",
         "x": [
          "Palestinians Injuries",
          "Israelis Injuries",
          "Palestinians Killed",
          "Israelis Killed"
         ],
         "xaxis": "x",
         "y": [
          "Palestinians Injuries",
          "Israelis Injuries",
          "Palestinians Killed",
          "Israelis Killed"
         ],
         "yaxis": "y",
         "z": [
          [
           1,
           0.9406306174097618,
           0.9722004416089978,
           0.9711763263566093
          ],
          [
           0.9406306174097618,
           1,
           0.9150878127444413,
           0.9016598670916562
          ],
          [
           0.9722004416089978,
           0.9150878127444413,
           1,
           0.9809422782626872
          ],
          [
           0.9711763263566093,
           0.9016598670916562,
           0.9809422782626872,
           1
          ]
         ]
        }
       ],
       "layout": {
        "coloraxis": {
         "colorscale": [
          [
           0,
           "rgb(247,251,255)"
          ],
          [
           0.125,
           "rgb(222,235,247)"
          ],
          [
           0.25,
           "rgb(198,219,239)"
          ],
          [
           0.375,
           "rgb(158,202,225)"
          ],
          [
           0.5,
           "rgb(107,174,214)"
          ],
          [
           0.625,
           "rgb(66,146,198)"
          ],
          [
           0.75,
           "rgb(33,113,181)"
          ],
          [
           0.875,
           "rgb(8,81,156)"
          ],
          [
           1,
           "rgb(8,48,107)"
          ]
         ]
        },
        "template": {
         "data": {
          "bar": [
           {
            "error_x": {
             "color": "#2a3f5f"
            },
            "error_y": {
             "color": "#2a3f5f"
            },
            "marker": {
             "line": {
              "color": "#E5ECF6",
              "width": 0.5
             },
             "pattern": {
              "fillmode": "overlay",
              "size": 10,
              "solidity": 0.2
             }
            },
            "type": "bar"
           }
          ],
          "barpolar": [
           {
            "marker": {
             "line": {
              "color": "#E5ECF6",
              "width": 0.5
             },
             "pattern": {
              "fillmode": "overlay",
              "size": 10,
              "solidity": 0.2
             }
            },
            "type": "barpolar"
           }
          ],
          "carpet": [
           {
            "aaxis": {
             "endlinecolor": "#2a3f5f",
             "gridcolor": "white",
             "linecolor": "white",
             "minorgridcolor": "white",
             "startlinecolor": "#2a3f5f"
            },
            "baxis": {
             "endlinecolor": "#2a3f5f",
             "gridcolor": "white",
             "linecolor": "white",
             "minorgridcolor": "white",
             "startlinecolor": "#2a3f5f"
            },
            "type": "carpet"
           }
          ],
          "choropleth": [
           {
            "colorbar": {
             "outlinewidth": 0,
             "ticks": ""
            },
            "type": "choropleth"
           }
          ],
          "contour": [
           {
            "colorbar": {
             "outlinewidth": 0,
             "ticks": ""
            },
            "colorscale": [
             [
              0,
              "#0d0887"
             ],
             [
              0.1111111111111111,
              "#46039f"
             ],
             [
              0.2222222222222222,
              "#7201a8"
             ],
             [
              0.3333333333333333,
              "#9c179e"
             ],
             [
              0.4444444444444444,
              "#bd3786"
             ],
             [
              0.5555555555555556,
              "#d8576b"
             ],
             [
              0.6666666666666666,
              "#ed7953"
             ],
             [
              0.7777777777777778,
              "#fb9f3a"
             ],
             [
              0.8888888888888888,
              "#fdca26"
             ],
             [
              1,
              "#f0f921"
             ]
            ],
            "type": "contour"
           }
          ],
          "contourcarpet": [
           {
            "colorbar": {
             "outlinewidth": 0,
             "ticks": ""
            },
            "type": "contourcarpet"
           }
          ],
          "heatmap": [
           {
            "colorbar": {
             "outlinewidth": 0,
             "ticks": ""
            },
            "colorscale": [
             [
              0,
              "#0d0887"
             ],
             [
              0.1111111111111111,
              "#46039f"
             ],
             [
              0.2222222222222222,
              "#7201a8"
             ],
             [
              0.3333333333333333,
              "#9c179e"
             ],
             [
              0.4444444444444444,
              "#bd3786"
             ],
             [
              0.5555555555555556,
              "#d8576b"
             ],
             [
              0.6666666666666666,
              "#ed7953"
             ],
             [
              0.7777777777777778,
              "#fb9f3a"
             ],
             [
              0.8888888888888888,
              "#fdca26"
             ],
             [
              1,
              "#f0f921"
             ]
            ],
            "type": "heatmap"
           }
          ],
          "heatmapgl": [
           {
            "colorbar": {
             "outlinewidth": 0,
             "ticks": ""
            },
            "colorscale": [
             [
              0,
              "#0d0887"
             ],
             [
              0.1111111111111111,
              "#46039f"
             ],
             [
              0.2222222222222222,
              "#7201a8"
             ],
             [
              0.3333333333333333,
              "#9c179e"
             ],
             [
              0.4444444444444444,
              "#bd3786"
             ],
             [
              0.5555555555555556,
              "#d8576b"
             ],
             [
              0.6666666666666666,
              "#ed7953"
             ],
             [
              0.7777777777777778,
              "#fb9f3a"
             ],
             [
              0.8888888888888888,
              "#fdca26"
             ],
             [
              1,
              "#f0f921"
             ]
            ],
            "type": "heatmapgl"
           }
          ],
          "histogram": [
           {
            "marker": {
             "pattern": {
              "fillmode": "overlay",
              "size": 10,
              "solidity": 0.2
             }
            },
            "type": "histogram"
           }
          ],
          "histogram2d": [
           {
            "colorbar": {
             "outlinewidth": 0,
             "ticks": ""
            },
            "colorscale": [
             [
              0,
              "#0d0887"
             ],
             [
              0.1111111111111111,
              "#46039f"
             ],
             [
              0.2222222222222222,
              "#7201a8"
             ],
             [
              0.3333333333333333,
              "#9c179e"
             ],
             [
              0.4444444444444444,
              "#bd3786"
             ],
             [
              0.5555555555555556,
              "#d8576b"
             ],
             [
              0.6666666666666666,
              "#ed7953"
             ],
             [
              0.7777777777777778,
              "#fb9f3a"
             ],
             [
              0.8888888888888888,
              "#fdca26"
             ],
             [
              1,
              "#f0f921"
             ]
            ],
            "type": "histogram2d"
           }
          ],
          "histogram2dcontour": [
           {
            "colorbar": {
             "outlinewidth": 0,
             "ticks": ""
            },
            "colorscale": [
             [
              0,
              "#0d0887"
             ],
             [
              0.1111111111111111,
              "#46039f"
             ],
             [
              0.2222222222222222,
              "#7201a8"
             ],
             [
              0.3333333333333333,
              "#9c179e"
             ],
             [
              0.4444444444444444,
              "#bd3786"
             ],
             [
              0.5555555555555556,
              "#d8576b"
             ],
             [
              0.6666666666666666,
              "#ed7953"
             ],
             [
              0.7777777777777778,
              "#fb9f3a"
             ],
             [
              0.8888888888888888,
              "#fdca26"
             ],
             [
              1,
              "#f0f921"
             ]
            ],
            "type": "histogram2dcontour"
           }
          ],
          "mesh3d": [
           {
            "colorbar": {
             "outlinewidth": 0,
             "ticks": ""
            },
            "type": "mesh3d"
           }
          ],
          "parcoords": [
           {
            "line": {
             "colorbar": {
              "outlinewidth": 0,
              "ticks": ""
             }
            },
            "type": "parcoords"
           }
          ],
          "pie": [
           {
            "automargin": true,
            "type": "pie"
           }
          ],
          "scatter": [
           {
            "fillpattern": {
             "fillmode": "overlay",
             "size": 10,
             "solidity": 0.2
            },
            "type": "scatter"
           }
          ],
          "scatter3d": [
           {
            "line": {
             "colorbar": {
              "outlinewidth": 0,
              "ticks": ""
             }
            },
            "marker": {
             "colorbar": {
              "outlinewidth": 0,
              "ticks": ""
             }
            },
            "type": "scatter3d"
           }
          ],
          "scattercarpet": [
           {
            "marker": {
             "colorbar": {
              "outlinewidth": 0,
              "ticks": ""
             }
            },
            "type": "scattercarpet"
           }
          ],
          "scattergeo": [
           {
            "marker": {
             "colorbar": {
              "outlinewidth": 0,
              "ticks": ""
             }
            },
            "type": "scattergeo"
           }
          ],
          "scattergl": [
           {
            "marker": {
             "colorbar": {
              "outlinewidth": 0,
              "ticks": ""
             }
            },
            "type": "scattergl"
           }
          ],
          "scattermapbox": [
           {
            "marker": {
             "colorbar": {
              "outlinewidth": 0,
              "ticks": ""
             }
            },
            "type": "scattermapbox"
           }
          ],
          "scatterpolar": [
           {
            "marker": {
             "colorbar": {
              "outlinewidth": 0,
              "ticks": ""
             }
            },
            "type": "scatterpolar"
           }
          ],
          "scatterpolargl": [
           {
            "marker": {
             "colorbar": {
              "outlinewidth": 0,
              "ticks": ""
             }
            },
            "type": "scatterpolargl"
           }
          ],
          "scatterternary": [
           {
            "marker": {
             "colorbar": {
              "outlinewidth": 0,
              "ticks": ""
             }
            },
            "type": "scatterternary"
           }
          ],
          "surface": [
           {
            "colorbar": {
             "outlinewidth": 0,
             "ticks": ""
            },
            "colorscale": [
             [
              0,
              "#0d0887"
             ],
             [
              0.1111111111111111,
              "#46039f"
             ],
             [
              0.2222222222222222,
              "#7201a8"
             ],
             [
              0.3333333333333333,
              "#9c179e"
             ],
             [
              0.4444444444444444,
              "#bd3786"
             ],
             [
              0.5555555555555556,
              "#d8576b"
             ],
             [
              0.6666666666666666,
              "#ed7953"
             ],
             [
              0.7777777777777778,
              "#fb9f3a"
             ],
             [
              0.8888888888888888,
              "#fdca26"
             ],
             [
              1,
              "#f0f921"
             ]
            ],
            "type": "surface"
           }
          ],
          "table": [
           {
            "cells": {
             "fill": {
              "color": "#EBF0F8"
             },
             "line": {
              "color": "white"
             }
            },
            "header": {
             "fill": {
              "color": "#C8D4E3"
             },
             "line": {
              "color": "white"
             }
            },
            "type": "table"
           }
          ]
         },
         "layout": {
          "annotationdefaults": {
           "arrowcolor": "#2a3f5f",
           "arrowhead": 0,
           "arrowwidth": 1
          },
          "autotypenumbers": "strict",
          "coloraxis": {
           "colorbar": {
            "outlinewidth": 0,
            "ticks": ""
           }
          },
          "colorscale": {
           "diverging": [
            [
             0,
             "#8e0152"
            ],
            [
             0.1,
             "#c51b7d"
            ],
            [
             0.2,
             "#de77ae"
            ],
            [
             0.3,
             "#f1b6da"
            ],
            [
             0.4,
             "#fde0ef"
            ],
            [
             0.5,
             "#f7f7f7"
            ],
            [
             0.6,
             "#e6f5d0"
            ],
            [
             0.7,
             "#b8e186"
            ],
            [
             0.8,
             "#7fbc41"
            ],
            [
             0.9,
             "#4d9221"
            ],
            [
             1,
             "#276419"
            ]
           ],
           "sequential": [
            [
             0,
             "#0d0887"
            ],
            [
             0.1111111111111111,
             "#46039f"
            ],
            [
             0.2222222222222222,
             "#7201a8"
            ],
            [
             0.3333333333333333,
             "#9c179e"
            ],
            [
             0.4444444444444444,
             "#bd3786"
            ],
            [
             0.5555555555555556,
             "#d8576b"
            ],
            [
             0.6666666666666666,
             "#ed7953"
            ],
            [
             0.7777777777777778,
             "#fb9f3a"
            ],
            [
             0.8888888888888888,
             "#fdca26"
            ],
            [
             1,
             "#f0f921"
            ]
           ],
           "sequentialminus": [
            [
             0,
             "#0d0887"
            ],
            [
             0.1111111111111111,
             "#46039f"
            ],
            [
             0.2222222222222222,
             "#7201a8"
            ],
            [
             0.3333333333333333,
             "#9c179e"
            ],
            [
             0.4444444444444444,
             "#bd3786"
            ],
            [
             0.5555555555555556,
             "#d8576b"
            ],
            [
             0.6666666666666666,
             "#ed7953"
            ],
            [
             0.7777777777777778,
             "#fb9f3a"
            ],
            [
             0.8888888888888888,
             "#fdca26"
            ],
            [
             1,
             "#f0f921"
            ]
           ]
          },
          "colorway": [
           "#636efa",
           "#EF553B",
           "#00cc96",
           "#ab63fa",
           "#FFA15A",
           "#19d3f3",
           "#FF6692",
           "#B6E880",
           "#FF97FF",
           "#FECB52"
          ],
          "font": {
           "color": "#2a3f5f"
          },
          "geo": {
           "bgcolor": "white",
           "lakecolor": "white",
           "landcolor": "#E5ECF6",
           "showlakes": true,
           "showland": true,
           "subunitcolor": "white"
          },
          "hoverlabel": {
           "align": "left"
          },
          "hovermode": "closest",
          "mapbox": {
           "style": "light"
          },
          "paper_bgcolor": "white",
          "plot_bgcolor": "#E5ECF6",
          "polar": {
           "angularaxis": {
            "gridcolor": "white",
            "linecolor": "white",
            "ticks": ""
           },
           "bgcolor": "#E5ECF6",
           "radialaxis": {
            "gridcolor": "white",
            "linecolor": "white",
            "ticks": ""
           }
          },
          "scene": {
           "xaxis": {
            "backgroundcolor": "#E5ECF6",
            "gridcolor": "white",
            "gridwidth": 2,
            "linecolor": "white",
            "showbackground": true,
            "ticks": "",
            "zerolinecolor": "white"
           },
           "yaxis": {
            "backgroundcolor": "#E5ECF6",
            "gridcolor": "white",
            "gridwidth": 2,
            "linecolor": "white",
            "showbackground": true,
            "ticks": "",
            "zerolinecolor": "white"
           },
           "zaxis": {
            "backgroundcolor": "#E5ECF6",
            "gridcolor": "white",
            "gridwidth": 2,
            "linecolor": "white",
            "showbackground": true,
            "ticks": "",
            "zerolinecolor": "white"
           }
          },
          "shapedefaults": {
           "line": {
            "color": "#2a3f5f"
           }
          },
          "ternary": {
           "aaxis": {
            "gridcolor": "white",
            "linecolor": "white",
            "ticks": ""
           },
           "baxis": {
            "gridcolor": "white",
            "linecolor": "white",
            "ticks": ""
           },
           "bgcolor": "#E5ECF6",
           "caxis": {
            "gridcolor": "white",
            "linecolor": "white",
            "ticks": ""
           }
          },
          "title": {
           "x": 0.05
          },
          "xaxis": {
           "automargin": true,
           "gridcolor": "white",
           "linecolor": "white",
           "ticks": "",
           "title": {
            "standoff": 15
           },
           "zerolinecolor": "white",
           "zerolinewidth": 2
          },
          "yaxis": {
           "automargin": true,
           "gridcolor": "white",
           "linecolor": "white",
           "ticks": "",
           "title": {
            "standoff": 15
           },
           "zerolinecolor": "white",
           "zerolinewidth": 2
          }
         }
        },
        "title": {
         "text": "Correlation Heatmap of Injuries and Deaths"
        },
        "xaxis": {
         "anchor": "y",
         "constrain": "domain",
         "domain": [
          0,
          1
         ],
         "scaleanchor": "y"
        },
        "yaxis": {
         "anchor": "x",
         "autorange": "reversed",
         "constrain": "domain",
         "domain": [
          0,
          1
         ]
        }
       }
      }
     },
     "metadata": {},
     "output_type": "display_data"
    }
   ],
   "source": [
    "# Correlation matrix heatmap\n",
    "corr_matrix = df[['Palestinians Injuries', 'Israelis Injuries', 'Palestinians Killed', 'Israelis Killed']].corr()\n",
    "\n",
    "# Creating the heatmap\n",
    "fig = px.imshow(corr_matrix, text_auto=True, color_continuous_scale='Blues', \n",
    "                title=\"Correlation Heatmap of Injuries and Deaths\")\n",
    "\n",
    "# Show the plot\n",
    "fig.show()\n"
   ]
  },
  {
   "cell_type": "markdown",
   "metadata": {},
   "source": [
    "## 🎉 Conclusion 🎉\n",
    "\n",
    "In this notebook, we embarked on a comprehensive exploration of the dataset containing vital information on **Palestinian** and **Israeli injuries and deaths** over time. Through a series of robust **data cleaning** and **imputation** techniques, we successfully filled the missing values in the **Palestinians Injuries** and **Israelis Injuries** columns using an advanced **IterativeImputer with RandomForestRegressor**. This approach allowed us to make accurate predictions and ensure the dataset is ready for deeper analysis. 🔍✅\n",
    "\n",
    "We then created a series of **interactive and visually engaging plots** using **Plotly**, including:\n",
    "- **Time Series Visualizations** 📈: Showcasing trends in injuries and deaths over the years.\n",
    "- **Stacked Bar Charts** 📊: Providing a detailed breakdown of injuries and deaths by year.\n",
    "- **Heatmaps** 🌡️: Giving a month-by-month insight into the severity of injuries and deaths across different years.\n",
    "\n",
    "To ensure clarity and insightful visualization, we applied **logarithmic scaling** 🔢 and **normalization** where needed, making the patterns and trends **easier to interpret**. \n",
    "\n",
    "This exploration not only sheds light on the **human impact** of the ongoing conflict but also provides **clear, accessible, and interactive** visualizations that can serve as a foundation for informed discussions. 🌍💡\n",
    "\n",
    "In summary, this notebook transforms complex and incomplete data into an elegant and comprehensive story, ready to be shared with the **international community**. 🌐📚\n",
    "\n",
    "Thank you for taking the time to explore this **important analysis** with us! 🙏✨"
   ]
  },
  {
   "cell_type": "code",
   "execution_count": 39,
   "metadata": {},
   "outputs": [],
   "source": [
    "df.to_csv(\"cleaned_data.csv\", index=False)"
   ]
  },
  {
   "cell_type": "code",
   "execution_count": null,
   "metadata": {},
   "outputs": [],
   "source": []
  }
 ],
 "metadata": {
  "kernelspec": {
   "display_name": "ML",
   "language": "python",
   "name": "python3"
  },
  "language_info": {
   "codemirror_mode": {
    "name": "ipython",
    "version": 3
   },
   "file_extension": ".py",
   "mimetype": "text/x-python",
   "name": "python",
   "nbconvert_exporter": "python",
   "pygments_lexer": "ipython3",
   "version": "3.9.20"
  }
 },
 "nbformat": 4,
 "nbformat_minor": 2
}
